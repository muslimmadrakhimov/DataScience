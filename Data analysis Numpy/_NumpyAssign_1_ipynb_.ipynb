{
  "nbformat": 4,
  "nbformat_minor": 0,
  "metadata": {
    "colab": {
      "provenance": []
    },
    "kernelspec": {
      "name": "python3",
      "display_name": "Python 3"
    },
    "language_info": {
      "name": "python"
    }
  },
  "cells": [
    {
      "cell_type": "markdown",
      "source": [
        "# ![Imgur](https://i.imgur.com/5pXzCIu.png)\n",
        "\n",
        "# **DATA SCIENCE VA SUN'IY INTELLEKT PRAKTIKUM**\n",
        "\n",
        "## Ma'lumotlar tahlili. Numpy kutubxonasi.\n",
        "\n",
        "# **1-AMALIY VAZIFA**\n",
        "\n",
        "## N-o'lchamli massivlar yaratish"
      ],
      "metadata": {
        "id": "7GdSfnw5Wr8W"
      }
    },
    {
      "cell_type": "code",
      "execution_count": null,
      "metadata": {
        "id": "yFwcefXYWqgP"
      },
      "outputs": [],
      "source": [
        "# Numpy kutubxonasini chaqirib olish\n",
        "import numpy as np"
      ]
    },
    {
      "cell_type": "markdown",
      "source": [
        "### Masala(1): 1-o'lchamli massivlar yaratish\n",
        "\n",
        "**Masala sharti :** Elementlari ixtiyoriy  *n* ta  (*n* > 0, butun son) bo'lgan 1-o'lchamli massiv (array) yaratuvchi funksiyani davom ettiring.\n",
        "\n",
        "**Yordam :**  `array` yoki `random` funksiyasidan foydalaning.\n",
        "\n",
        "**Funksiya yaratilishi haqida darslik:** [bog'lanma](https://www.youtube.com/watch?v=_aDyBPYAeyU&list=PLwsopmzfbOn9Lw5D7a26THpBDgAma1Sus&index=22)\n"
      ],
      "metadata": {
        "id": "RZGz3Nb1ZYfN"
      }
    },
    {
      "cell_type": "code",
      "source": [
        "# JAVOBNI SHU YERGA YOZING\n",
        "def one_dim(n):\n",
        "  \"\"\" n ta elementdan tashkil topgan 1-o'lchamli massiv \"\"\"\n",
        "  return np.random.randint(0, 100, size=n)  # 0 dan 100 gacha tasodifiy sonlar\n",
        "\n",
        "test_array = one_dim(5)\n",
        "test_array\n"
      ],
      "metadata": {
        "id": "0IUnLI8_Yhlw",
        "outputId": "246f5a4e-4406-484b-bdef-de04b3d7e338",
        "colab": {
          "base_uri": "https://localhost:8080/"
        }
      },
      "execution_count": null,
      "outputs": [
        {
          "output_type": "execute_result",
          "data": {
            "text/plain": [
              "array([55, 19,  5, 68, 19])"
            ]
          },
          "metadata": {},
          "execution_count": 4
        }
      ]
    },
    {
      "cell_type": "markdown",
      "source": [
        "### Yuqoridagi yozgan funksiyangizni tekshirish uchun, quyidagi cellni yuriting."
      ],
      "metadata": {
        "id": "I9M8WvVgbmdj"
      }
    },
    {
      "cell_type": "code",
      "source": [
        "#@title Tekshirish (natijada hech qanday xatolik yuz bermasligi kerak)\n",
        "\"\"\"Check that function returns the correct output for several inputs\"\"\"\n",
        "for i in range(1, 10):\n",
        "  assert len(one_dim(i)) == i, f\"n elementlar soni, funksiyada noto'g'ri qo'llanilgan\" # n elementlar soni\n",
        "  arr = one_dim(i) # massiv\n",
        "  assert arr.ndim == 1, f\"1-o'lchamli massiv aniqlanmadi\"# massiv o'lchami\n",
        "  assert type(arr) == np.ndarray, f\"massiv aniqlanmadi\" #numpy array"
      ],
      "metadata": {
        "cellView": "form",
        "id": "5-G7c8j-cIpp"
      },
      "execution_count": null,
      "outputs": []
    },
    {
      "cell_type": "markdown",
      "source": [
        "_____"
      ],
      "metadata": {
        "id": "NxKR_fW0gkkt"
      }
    },
    {
      "cell_type": "markdown",
      "source": [
        "### Masala(2) 2-o'lchamli massivlar yaratish\n",
        "\n",
        "**Masala :** Shakli `shape(r, c)` bo'lgan 2-o'lchamli massiv (array) yaratuvchi funksiyani davom ettiring.  \n",
        "\n",
        "**Yordam :** numpy kutubxonasida massivlar yaratuvchi funksiyalarining istalganidan foydlanishingiz mumkin.\n"
      ],
      "metadata": {
        "id": "qlgbXHwCggjr"
      }
    },
    {
      "cell_type": "code",
      "source": [
        "# JAVOBNI SHU YERGA YOZING\n",
        "def two_dim(r, c):\n",
        "    \"\"\" r ta qator, c ta ustundan tashkil topgan 2-o'lchamli massiv \"\"\"\n",
        "    return np.random.randint(0, 100, size=(r, c))  # 0 dan 100 gacha tasodifiy sonlar bilan\n",
        "\n",
        "test_matrix = two_dim(3, 4)\n",
        "test_matrix\n"
      ],
      "metadata": {
        "id": "Cj6xVSfjdmvj",
        "outputId": "22c6e38f-1b30-481b-dd11-7bf30adbea76",
        "colab": {
          "base_uri": "https://localhost:8080/"
        }
      },
      "execution_count": null,
      "outputs": [
        {
          "output_type": "execute_result",
          "data": {
            "text/plain": [
              "array([[48, 19, 55, 18],\n",
              "       [42,  5, 70, 54],\n",
              "       [19, 83, 16, 56]])"
            ]
          },
          "metadata": {},
          "execution_count": 6
        }
      ]
    },
    {
      "cell_type": "markdown",
      "source": [
        "### Yuqoridagi yozgan funksiyangizni tekshirish uchun, quyidagi cellni yuriting."
      ],
      "metadata": {
        "id": "x47iG7oZh9WL"
      }
    },
    {
      "cell_type": "code",
      "source": [
        "#@title Tekshirish (natijada hech qanday xatolik yuz bermasligi kerak)\n",
        "\"\"\"Check that function returns the correct output for several inputs\"\"\"\n",
        "arr = two_dim(3, 2) # massiv\n",
        "assert arr.shape == (3, 2), f\"funksiyada, o'lchamlar noto'g'ri qo'llanilgan\" # shape\n",
        "assert arr.ndim == 2, f\"2-o'lchamli massiv aniqlanmadi\" # massiv o'lchami\n",
        "assert type(arr) == np.ndarray, f\"massiv aniqlanmadi\"# #numpy array"
      ],
      "metadata": {
        "cellView": "form",
        "id": "kGYbFv7cggMs"
      },
      "execution_count": null,
      "outputs": []
    }
  ]
}