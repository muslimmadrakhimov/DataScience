{
  "cells": [
    {
      "cell_type": "markdown",
      "id": "bf79c78b",
      "metadata": {
        "id": "bf79c78b"
      },
      "source": [
        "# NumPy kutubxonasiga doir bilimlaringizni mustaxkamlash uchun mashqlar\n",
        "\n",
        "Hurmatli o'quvchi, bilimingizni yanada mustaxkamlashingiz va chuqurroq ko'nikmalarga ega bo'lishingiz uchun sizga topshiriqlar tayyorladik. Sizga yengillik yaratish maqsadida topshiriqni aynan qanday funksiyalar yordamida amalga oshirishingiz mumkin ekanini\n",
        " `💡Ishora` ko'rinishida yozdik!"
      ]
    },
    {
      "cell_type": "markdown",
      "id": "017db353",
      "metadata": {
        "id": "017db353"
      },
      "source": [
        "#### 1. NumPy kutubxonasini `np` nomi ostida yuklang va numpy kutubxonasini chop eting.\n",
        "\n",
        "versiya va konfiguratsiyani tekshiring.\n"
      ]
    },
    {
      "cell_type": "markdown",
      "source": [
        "`💡Ishora` import … as` and `np.__version__, np.show_config"
      ],
      "metadata": {
        "id": "e28779fe"
      },
      "id": "e28779fe"
    },
    {
      "cell_type": "code",
      "source": [
        "import numpy as np"
      ],
      "metadata": {
        "id": "_pCbn1ieI3u9"
      },
      "id": "_pCbn1ieI3u9",
      "execution_count": null,
      "outputs": []
    },
    {
      "cell_type": "markdown",
      "id": "46950f4f",
      "metadata": {
        "id": "46950f4f"
      },
      "source": [
        "#### 2. Raqamli qiymatlar ro'yxatini bir o'lchovli NumPy massiviga aylantiring!"
      ]
    },
    {
      "cell_type": "markdown",
      "source": [
        "`💡Ishora` numpy.array"
      ],
      "metadata": {
        "id": "9b0e875f"
      },
      "id": "9b0e875f"
    },
    {
      "cell_type": "code",
      "source": [
        "royhat = [1, 2, 3, 4, 5]\n",
        "massiv = np.array(royhat)\n",
        "massiv"
      ],
      "metadata": {
        "id": "dgnzjeT3JCi4",
        "outputId": "becb9623-4992-4952-f64c-6382605c3657",
        "colab": {
          "base_uri": "https://localhost:8080/"
        }
      },
      "id": "dgnzjeT3JCi4",
      "execution_count": null,
      "outputs": [
        {
          "output_type": "execute_result",
          "data": {
            "text/plain": [
              "array([1, 2, 3, 4, 5])"
            ]
          },
          "metadata": {},
          "execution_count": 2
        }
      ]
    },
    {
      "cell_type": "markdown",
      "id": "e3c20b3d",
      "metadata": {
        "id": "e3c20b3d"
      },
      "source": [
        "#### 3. Qiymatlari noldan iborat bo'lgan to'qqiz o'lchovli massiv yarating.\n",
        "\n"
      ]
    },
    {
      "cell_type": "code",
      "source": [
        "# 9 o'lchovli nol massiv yaratish\n",
        "array = np.zeros((1, 1, 1, 1, 1, 1, 1, 1, 1))\n",
        "\n",
        "print(array)\n",
        "print(\"Massiv o'lchami:\", array.shape)"
      ],
      "metadata": {
        "id": "yZJU4LYYVNWh",
        "outputId": "b308a7f6-c3cc-483e-f508-fea1cd076425",
        "colab": {
          "base_uri": "https://localhost:8080/"
        }
      },
      "id": "yZJU4LYYVNWh",
      "execution_count": null,
      "outputs": [
        {
          "output_type": "stream",
          "name": "stdout",
          "text": [
            "[[[[[[[[[0.]]]]]]]]]\n",
            "Massiv o'lchami: (1, 1, 1, 1, 1, 1, 1, 1, 1)\n"
          ]
        }
      ]
    },
    {
      "cell_type": "markdown",
      "source": [
        "`💡Ishora` np.zeros"
      ],
      "metadata": {
        "id": "96d0b63e"
      },
      "id": "96d0b63e"
    },
    {
      "cell_type": "markdown",
      "id": "b15a879f",
      "metadata": {
        "id": "b15a879f"
      },
      "source": [
        "#### 4. Massiv yarating va uning xotira hajmini toping.\n",
        "\n"
      ]
    },
    {
      "cell_type": "markdown",
      "source": [
        "`💡Ishora` size, itemsize"
      ],
      "metadata": {
        "id": "32f9025c"
      },
      "id": "32f9025c"
    },
    {
      "cell_type": "code",
      "source": [
        "# 9 o'lchovli massiv (tasodifiy sonlar bilan)\n",
        "array = np.random.rand(2, 2, 2, 2, 2, 2, 2, 2, 2)\n",
        "\n",
        "# Massivning umumiy elementlar soni\n",
        "total_elements = array.size\n",
        "\n",
        "# Bitta element egallagan xotira hajmi (baytlarda)\n",
        "element_size = array.itemsize\n",
        "\n",
        "# Umumiy xotira hajmi (baytlarda)\n",
        "memory_size = total_elements * element_size\n",
        "\n",
        "print(\"Elementlar soni:\", total_elements)\n",
        "print(\"Bitta element hajmi:\", element_size, \"bayt\")\n",
        "print(\"Umumiy xotira hajmi:\", memory_size, \"bayt\")"
      ],
      "metadata": {
        "id": "MZxcJM_oJOTs",
        "outputId": "ba9474ea-9607-4faf-b420-a4ac9d81713d",
        "colab": {
          "base_uri": "https://localhost:8080/"
        }
      },
      "id": "MZxcJM_oJOTs",
      "execution_count": null,
      "outputs": [
        {
          "output_type": "stream",
          "name": "stdout",
          "text": [
            "Elementlar soni: 512\n",
            "Bitta element hajmi: 8 bayt\n",
            "Umumiy xotira hajmi: 4096 bayt\n"
          ]
        }
      ]
    },
    {
      "cell_type": "markdown",
      "id": "0a708990",
      "metadata": {
        "id": "0a708990"
      },
      "source": [
        "#### 5. NumPy kutubxonasidagi add funksiyasi hujjatlarini buyruq satridan qanday olishi mumkin?\n"
      ]
    },
    {
      "cell_type": "markdown",
      "source": [
        "`💡Ishora` np.info"
      ],
      "metadata": {
        "id": "d254eea5"
      },
      "id": "d254eea5"
    },
    {
      "cell_type": "code",
      "source": [],
      "metadata": {
        "id": "m7nA_vYsJVUi",
        "outputId": "e5449b81-e6f4-461e-82f5-c2e2014e46e2",
        "colab": {
          "base_uri": "https://localhost:8080/"
        }
      },
      "id": "m7nA_vYsJVUi",
      "execution_count": null,
      "outputs": [
        {
          "output_type": "stream",
          "name": "stdout",
          "text": [
            "add(x1, x2, /, out=None, *, where=True, casting='same_kind', order='K', dtype=None, subok=True[, signature, extobj])\n",
            "\n",
            "Add arguments element-wise.\n",
            "\n",
            "Parameters\n",
            "----------\n",
            "x1, x2 : array_like\n",
            "    The arrays to be added.\n",
            "    If ``x1.shape != x2.shape``, they must be broadcastable to a common\n",
            "    shape (which becomes the shape of the output).\n",
            "out : ndarray, None, or tuple of ndarray and None, optional\n",
            "    A location into which the result is stored. If provided, it must have\n",
            "    a shape that the inputs broadcast to. If not provided or None,\n",
            "    a freshly-allocated array is returned. A tuple (possible only as a\n",
            "    keyword argument) must have length equal to the number of outputs.\n",
            "where : array_like, optional\n",
            "    This condition is broadcast over the input. At locations where the\n",
            "    condition is True, the `out` array will be set to the ufunc result.\n",
            "    Elsewhere, the `out` array will retain its original value.\n",
            "    Note that if an uninitialized `out` array is created via the default\n",
            "    ``out=None``, locations within it where the condition is False will\n",
            "    remain uninitialized.\n",
            "**kwargs\n",
            "    For other keyword-only arguments, see the\n",
            "    :ref:`ufunc docs <ufuncs.kwargs>`.\n",
            "\n",
            "Returns\n",
            "-------\n",
            "add : ndarray or scalar\n",
            "    The sum of `x1` and `x2`, element-wise.\n",
            "    This is a scalar if both `x1` and `x2` are scalars.\n",
            "\n",
            "Notes\n",
            "-----\n",
            "Equivalent to `x1` + `x2` in terms of array broadcasting.\n",
            "\n",
            "Examples\n",
            "--------\n",
            ">>> np.add(1.0, 4.0)\n",
            "5.0\n",
            ">>> x1 = np.arange(9.0).reshape((3, 3))\n",
            ">>> x2 = np.arange(3.0)\n",
            ">>> np.add(x1, x2)\n",
            "array([[  0.,   2.,   4.],\n",
            "       [  3.,   5.,   7.],\n",
            "       [  6.,   8.,  10.]])\n",
            "\n",
            "The ``+`` operator can be used as a shorthand for ``np.add`` on ndarrays.\n",
            "\n",
            ">>> x1 = np.arange(9.0).reshape((3, 3))\n",
            ">>> x2 = np.arange(3.0)\n",
            ">>> x1 + x2\n",
            "array([[ 0.,  2.,  4.],\n",
            "       [ 3.,  5.,  7.],\n",
            "       [ 6.,  8., 10.]])\n"
          ]
        }
      ]
    },
    {
      "cell_type": "markdown",
      "id": "0b16cd77",
      "metadata": {
        "id": "0b16cd77"
      },
      "source": [
        "#### 6. Shunday vekor yaratingki u o'n ikki o'lchamda va qiymatlari noldan iborat bo'lsin, lekin vektorning oltinchi qiymati 1 ga teng bo'lsin.\n",
        "\n"
      ]
    },
    {
      "cell_type": "markdown",
      "source": [
        "`💡Ishora` array[12]"
      ],
      "metadata": {
        "id": "05223560"
      },
      "id": "05223560"
    },
    {
      "cell_type": "code",
      "source": [
        "# 12 o'lchovli vektor yaratish (barcha qiymatlar 0 bo'lsin)\n",
        "array = np.zeros(12)\n",
        "\n",
        "# Vektorning oltinchi qiymatini 1 ga tenglashtirish\n",
        "array[5] = 1  # Indeks 5, chunki Python 0-dan boshlanadi\n",
        "\n",
        "print(array)"
      ],
      "metadata": {
        "id": "UJfYDNQoJc7M",
        "outputId": "4a4127ac-9859-42b9-e7f9-4a725e85307e",
        "colab": {
          "base_uri": "https://localhost:8080/"
        }
      },
      "id": "UJfYDNQoJc7M",
      "execution_count": null,
      "outputs": [
        {
          "output_type": "stream",
          "name": "stdout",
          "text": [
            "[0. 0. 0. 0. 0. 1. 0. 0. 0. 0. 0. 0.]\n"
          ]
        }
      ]
    },
    {
      "cell_type": "markdown",
      "id": "782d4c77",
      "metadata": {
        "id": "782d4c77"
      },
      "source": [
        "#### 7. Qiymatlari 20 dan 59 gacha bo'lgan vektor yarating.\n",
        "\n"
      ]
    },
    {
      "cell_type": "markdown",
      "source": [
        "`💡Ishora` arange"
      ],
      "metadata": {
        "id": "7250d114"
      },
      "id": "7250d114"
    },
    {
      "cell_type": "code",
      "source": [
        "arr = np.arange(20, 60)\n",
        "arr"
      ],
      "metadata": {
        "id": "fSaWkGakJhwz",
        "outputId": "3b9b136d-0e5d-4989-c512-360549b98d5b",
        "colab": {
          "base_uri": "https://localhost:8080/"
        }
      },
      "id": "fSaWkGakJhwz",
      "execution_count": null,
      "outputs": [
        {
          "output_type": "execute_result",
          "data": {
            "text/plain": [
              "array([20, 21, 22, 23, 24, 25, 26, 27, 28, 29, 30, 31, 32, 33, 34, 35, 36,\n",
              "       37, 38, 39, 40, 41, 42, 43, 44, 45, 46, 47, 48, 49, 50, 51, 52, 53,\n",
              "       54, 55, 56, 57, 58, 59])"
            ]
          },
          "metadata": {},
          "execution_count": 12
        }
      ]
    },
    {
      "cell_type": "markdown",
      "id": "48d48f01",
      "metadata": {
        "id": "48d48f01"
      },
      "source": [
        "#### 8. Vektor yarating va uni teskari o'zgartiring\n",
        "(birinchi element oxirgisi bo'lsin)\n",
        "\n"
      ]
    },
    {
      "cell_type": "markdown",
      "source": [
        "`💡Ishora` array[::-1]"
      ],
      "metadata": {
        "id": "fb702ae0"
      },
      "id": "fb702ae0"
    },
    {
      "cell_type": "code",
      "source": [
        "# Vektor yaratish\n",
        "array = np.arange(1, 11)\n",
        "\n",
        "# Vektorning teskari ko'rinishi\n",
        "reversed_array = array[::-1]\n",
        "\n",
        "print(\"Asl vektor:\", array)\n",
        "print(\"Teskari vektor:\", reversed_array)"
      ],
      "metadata": {
        "id": "GCP6vp_WJrON",
        "outputId": "cc1cb9bd-52b5-4ca6-e025-f1334dab26f2",
        "colab": {
          "base_uri": "https://localhost:8080/"
        }
      },
      "id": "GCP6vp_WJrON",
      "execution_count": null,
      "outputs": [
        {
          "output_type": "stream",
          "name": "stdout",
          "text": [
            "Asl vektor: [ 1  2  3  4  5  6  7  8  9 10]\n",
            "Teskari vektor: [10  9  8  7  6  5  4  3  2  1]\n"
          ]
        }
      ]
    },
    {
      "cell_type": "markdown",
      "id": "4fa39382",
      "metadata": {
        "id": "4fa39382"
      },
      "source": [
        "#### 9. 12 dan 20 gacha bo'lgan qiymatlarga ega 3x3 matritsa yarating.\n"
      ]
    },
    {
      "cell_type": "markdown",
      "source": [
        "`💡Ishora` reshape"
      ],
      "metadata": {
        "id": "97e6be92"
      },
      "id": "97e6be92"
    },
    {
      "cell_type": "code",
      "source": [
        "# 12 dan 20 gacha bo'lgan qiymatlarni yaratish\n",
        "array = np.arange(12, 21)\n",
        "\n",
        "# 3x3 matritsaga o'zgartirish\n",
        "matrix = array.reshape(3, 3)\n",
        "\n",
        "print(matrix)"
      ],
      "metadata": {
        "id": "Ve7gEGjuJxxw",
        "outputId": "39c3d46b-bae7-4600-8222-502cda8a263d",
        "colab": {
          "base_uri": "https://localhost:8080/"
        }
      },
      "id": "Ve7gEGjuJxxw",
      "execution_count": null,
      "outputs": [
        {
          "output_type": "stream",
          "name": "stdout",
          "text": [
            "[[12 13 14]\n",
            " [15 16 17]\n",
            " [18 19 20]]\n"
          ]
        }
      ]
    },
    {
      "cell_type": "markdown",
      "id": "da64551a",
      "metadata": {
        "id": "da64551a"
      },
      "source": [
        "#### 10. Quyidagi matritsadan foydalanib nolga teng bo'lmagan elementlarning indekslarini toping.\n",
        "[3, 7, 0, 0, 9, 0]\n",
        "\n",
        "\n",
        "\n"
      ]
    },
    {
      "cell_type": "markdown",
      "source": [
        "`💡Ishora` np.nonzero"
      ],
      "metadata": {
        "id": "322b2b68"
      },
      "id": "322b2b68"
    },
    {
      "cell_type": "code",
      "source": [
        "# Berilgan matritsa (vektor)\n",
        "array = np.array([3, 7, 0, 0, 9, 0])\n",
        "\n",
        "# Nolga teng bo'lmagan elementlarning indekslarini topish\n",
        "indices = np.nonzero(array)\n",
        "\n",
        "print(\"Nolga teng bo'lmagan elementlarning indekslari:\", indices[0])"
      ],
      "metadata": {
        "id": "fNIuSyBaJ4OP",
        "outputId": "cedeef45-74e0-42a3-e3e0-e2ff3d5f17dc",
        "colab": {
          "base_uri": "https://localhost:8080/"
        }
      },
      "id": "fNIuSyBaJ4OP",
      "execution_count": null,
      "outputs": [
        {
          "output_type": "stream",
          "name": "stdout",
          "text": [
            "Nolga teng bo'lmagan elementlarning indekslari: [0 1 4]\n"
          ]
        }
      ]
    },
    {
      "cell_type": "markdown",
      "id": "f89d9c9e",
      "metadata": {
        "id": "f89d9c9e"
      },
      "source": [
        "#### 11. Tasodifiy qiymatlar bilan 2x2x2 o'lchovidagi massiv yarating.\n"
      ]
    },
    {
      "cell_type": "markdown",
      "source": [
        "`💡Ishora` np.random.random"
      ],
      "metadata": {
        "id": "5717e1c1"
      },
      "id": "5717e1c1"
    },
    {
      "cell_type": "code",
      "source": [
        "# 2x2x2 o'lchovli tasodifiy massiv yaratish\n",
        "array = np.random.random((2, 2, 2))\n",
        "\n",
        "print(array)"
      ],
      "metadata": {
        "id": "bHloeqHOKuiX",
        "outputId": "fe686117-0097-4b8a-e8d5-68061edfdd61",
        "colab": {
          "base_uri": "https://localhost:8080/"
        }
      },
      "id": "bHloeqHOKuiX",
      "execution_count": null,
      "outputs": [
        {
          "output_type": "stream",
          "name": "stdout",
          "text": [
            "[[[0.16316351 0.78296057]\n",
            "  [0.81669609 0.95299975]]\n",
            "\n",
            " [[0.40966566 0.51552682]\n",
            "  [0.38456517 0.94658784]]]\n"
          ]
        }
      ]
    },
    {
      "cell_type": "markdown",
      "id": "13c5928c",
      "metadata": {
        "id": "13c5928c"
      },
      "source": [
        "#### 12. Tasodifiy sonlardan tashkil topgan 9X9 o'lchamidagi massiv yarating. So'ng uning eng katta va eng kichik qiymatlarini toping\n"
      ]
    },
    {
      "cell_type": "markdown",
      "source": [
        "`💡Ishora` min, max"
      ],
      "metadata": {
        "id": "0ede4d26"
      },
      "id": "0ede4d26"
    },
    {
      "cell_type": "code",
      "source": [
        "\n",
        "\n",
        "# 9x9 o'lchamdagi tasodifiy massiv yaratish\n",
        "array = np.random.random((9, 9))  # 0 va 1 oralig‘ida tasodifiy sonlar\n",
        "\n",
        "# Eng katta va eng kichik qiymatlarni topish\n",
        "max_value = array.max()  # Eng katta qiymat\n",
        "min_value = array.min()  # Eng kichik qiymat\n",
        "\n",
        "# Natijani chiqarish\n",
        "print(\"Massiv:\\n\", array)\n",
        "print(\"\\nEng katta qiymat:\", max_value)\n",
        "print(\"Eng kichik qiymat:\", min_value)\n"
      ],
      "metadata": {
        "id": "OJiVa5K9LJyb",
        "outputId": "1338df8e-8d65-41bc-95a8-4c118075cf6c",
        "colab": {
          "base_uri": "https://localhost:8080/"
        }
      },
      "id": "OJiVa5K9LJyb",
      "execution_count": null,
      "outputs": [
        {
          "output_type": "stream",
          "name": "stdout",
          "text": [
            "Massiv:\n",
            " [[0.28884351 0.07563025 0.49110115 0.87437085 0.67892797 0.75310759\n",
            "  0.84259641 0.66917143 0.24984985]\n",
            " [0.60184992 0.67792047 0.56104506 0.82685909 0.81676304 0.91424123\n",
            "  0.38200115 0.41869061 0.52838983]\n",
            " [0.60117062 0.7817888  0.27978799 0.34989957 0.24995166 0.67616359\n",
            "  0.38687365 0.52447171 0.12015175]\n",
            " [0.49805462 0.91823951 0.14059273 0.61070094 0.90364054 0.72380367\n",
            "  0.46145151 0.35804876 0.04843835]\n",
            " [0.49534441 0.74442998 0.52541011 0.36634694 0.65801752 0.88355125\n",
            "  0.69372955 0.76491498 0.41350559]\n",
            " [0.26226826 0.6181191  0.06699606 0.02070702 0.56243715 0.28686855\n",
            "  0.46764562 0.57675104 0.32477463]\n",
            " [0.85644526 0.27640941 0.01262999 0.76704311 0.11761214 0.98323981\n",
            "  0.23974722 0.23180685 0.43024886]\n",
            " [0.54186616 0.87372263 0.95283292 0.75738748 0.03261366 0.01261061\n",
            "  0.38013609 0.50164149 0.28652689]\n",
            " [0.37206914 0.84133979 0.59049426 0.31076458 0.5440785  0.77156703\n",
            "  0.46712026 0.85866796 0.33701216]]\n",
            "\n",
            "Eng katta qiymat: 0.9832398091153708\n",
            "Eng kichik qiymat: 0.012610611241639091\n"
          ]
        }
      ]
    },
    {
      "cell_type": "markdown",
      "id": "3fa2e461",
      "metadata": {
        "id": "3fa2e461"
      },
      "source": [
        "#### 13. Quyidagi misol qanday natija beradi?\n",
        "\n",
        "\n",
        "```python\n",
        "0 * np.nan\n",
        "np.nan == np.nan\n",
        "np.inf > np.nan\n",
        "np.nan - np.nan\n",
        "np.nan in set([np.nan])\n",
        "0.7 == 7 * 0.1\n",
        "```\n"
      ]
    },
    {
      "cell_type": "markdown",
      "source": [
        "`💡Ishora` NaN = not a number, inf = infinity"
      ],
      "metadata": {
        "id": "c0048e59"
      },
      "id": "c0048e59"
    },
    {
      "cell_type": "code",
      "source": [
        "0 * np.nan # nan\n",
        "np.nan == np.nan # False\n",
        "np.inf > np.nan # False\n",
        "np.nan - np.nan # nan\n",
        "np.nan in set([np.nan]) # True\n",
        "0.7 == 7 * 0.1 # False\n"
      ],
      "metadata": {
        "id": "Thbqd_RCLf_e",
        "outputId": "ff6bfcdd-059b-4eaf-abe9-2e1c671414f7",
        "colab": {
          "base_uri": "https://localhost:8080/"
        }
      },
      "id": "Thbqd_RCLf_e",
      "execution_count": null,
      "outputs": [
        {
          "output_type": "execute_result",
          "data": {
            "text/plain": [
              "False"
            ]
          },
          "metadata": {},
          "execution_count": 22
        }
      ]
    },
    {
      "cell_type": "markdown",
      "id": "73f7a549",
      "metadata": {
        "id": "73f7a549"
      },
      "source": [
        "#### 14. O'lchamlari 6x3 va 3x4 bo'lgan martitsa yarating, so'ng ularning  ko'paytmasini hisoblang.\n",
        "\n"
      ]
    },
    {
      "cell_type": "markdown",
      "source": [
        "`💡Ishora` np.dot` or `np.ones"
      ],
      "metadata": {
        "id": "351ff928"
      },
      "id": "351ff928"
    },
    {
      "cell_type": "code",
      "source": [
        "import numpy as np\n",
        "\n",
        "# 6x3 o'lchamdagi matritsa\n",
        "A = np.ones((6, 3))  # Barcha elementlari 1 bo'lgan matritsa\n",
        "\n",
        "# 3x4 o'lchamdagi matritsa\n",
        "B = np.ones((3, 4))  # Barcha elementlari 1 bo'lgan matritsa\n",
        "\n",
        "# Matritsalar ko'paytmasi\n",
        "C = np.dot(A, B)\n",
        "\n",
        "print(\"6x3 matritsa:\\n\", A)\n",
        "print(\"\\n3x4 matritsa:\\n\", B)\n",
        "print(\"\\nKo'paytma (6x4 matritsa):\\n\", C)\n"
      ],
      "metadata": {
        "id": "e_5QUFcPLtVX",
        "outputId": "f92c4331-aa3c-4eea-dc85-c9a52a2f41cd",
        "colab": {
          "base_uri": "https://localhost:8080/"
        }
      },
      "id": "e_5QUFcPLtVX",
      "execution_count": null,
      "outputs": [
        {
          "output_type": "stream",
          "name": "stdout",
          "text": [
            "6x3 matritsa:\n",
            " [[1. 1. 1.]\n",
            " [1. 1. 1.]\n",
            " [1. 1. 1.]\n",
            " [1. 1. 1.]\n",
            " [1. 1. 1.]\n",
            " [1. 1. 1.]]\n",
            "\n",
            "3x4 matritsa:\n",
            " [[1. 1. 1. 1.]\n",
            " [1. 1. 1. 1.]\n",
            " [1. 1. 1. 1.]]\n",
            "\n",
            "Ko'paytma (6x4 matritsa):\n",
            " [[3. 3. 3. 3.]\n",
            " [3. 3. 3. 3.]\n",
            " [3. 3. 3. 3.]\n",
            " [3. 3. 3. 3.]\n",
            " [3. 3. 3. 3.]\n",
            " [3. 3. 3. 3.]]\n"
          ]
        }
      ]
    },
    {
      "cell_type": "markdown",
      "id": "6d0c506f",
      "metadata": {
        "id": "6d0c506f"
      },
      "source": [
        "#### 15. Quyidagi misol qanday natija beradi?\n",
        "\n",
        "```python\n",
        "print(sum(range(5),-1))\n",
        "from numpy import *\n",
        "print(sum(range(5),-1))\n",
        "```"
      ]
    },
    {
      "cell_type": "code",
      "execution_count": null,
      "id": "c1cc1143",
      "metadata": {
        "id": "c1cc1143",
        "outputId": "0c3de9c4-a55a-4d37-f1bf-5993a4321951",
        "colab": {
          "base_uri": "https://localhost:8080/"
        }
      },
      "outputs": [
        {
          "output_type": "stream",
          "name": "stdout",
          "text": [
            "9\n",
            "10\n"
          ]
        }
      ],
      "source": [
        "print(sum(range(5),-1))\n",
        "from numpy import *\n",
        "print(sum(range(5),-1))"
      ]
    },
    {
      "cell_type": "markdown",
      "id": "d6ad1a9f",
      "metadata": {
        "id": "d6ad1a9f"
      },
      "source": [
        "#### 16. NumPy kutubxonasi yordamida ikkita massivni solishtiring va ular usida quyidagi amallarni bajaring.\n",
        "\n",
        "```python\n",
        "Array a: [1 2]\n",
        "Array b: [4 5]\n",
        "a > b\n",
        "[False False]\n",
        "a >= b\n",
        "[False False]\n",
        "a < b\n",
        "[ True True]\n",
        "a <= b\n",
        "[ True True]\n",
        "```"
      ]
    },
    {
      "cell_type": "code",
      "execution_count": null,
      "id": "7ba3c441",
      "metadata": {
        "id": "7ba3c441",
        "outputId": "16a68c73-e0fa-4abb-e875-ba8209653394",
        "colab": {
          "base_uri": "https://localhost:8080/"
        }
      },
      "outputs": [
        {
          "output_type": "stream",
          "name": "stdout",
          "text": [
            "a > b  : [False False]\n",
            "a >= b : [False False]\n",
            "a < b  : [ True  True]\n",
            "a <= b : [ True  True]\n"
          ]
        }
      ],
      "source": [
        "\n",
        "\n",
        "# Massivlarni yaratamiz\n",
        "a = np.array([1, 2])\n",
        "b = np.array([4, 5])\n",
        "\n",
        "# Taqqoslash amallari\n",
        "print(\"a > b  :\", a > b)   # [False False]\n",
        "print(\"a >= b :\", a >= b)  # [False False]\n",
        "print(\"a < b  :\", a < b)   # [ True  True]\n",
        "print(\"a <= b :\", a <= b)  # [ True  True]\n"
      ]
    },
    {
      "cell_type": "markdown",
      "id": "e3a7ba7f",
      "metadata": {
        "id": "e3a7ba7f"
      },
      "source": [
        "#### 17. Quyidagi misol qanday natija beradi?\n",
        "\n",
        "```python\n",
        "np.array(0) / np.array(0)\n",
        "np.array(0) // np.array(0)\n",
        "np.array([np.nan]).astype(int).astype(float)\n",
        "```"
      ]
    },
    {
      "cell_type": "code",
      "execution_count": null,
      "id": "b874734e",
      "metadata": {
        "id": "b874734e",
        "outputId": "0b0c829e-3ac6-475c-f817-6dc7dd3781f0",
        "colab": {
          "base_uri": "https://localhost:8080/"
        }
      },
      "outputs": [
        {
          "output_type": "stream",
          "name": "stdout",
          "text": [
            "Natija 1: nan\n",
            "Natija 2: 0\n",
            "Natija 3: [-9.22337204e+18]\n"
          ]
        },
        {
          "output_type": "stream",
          "name": "stderr",
          "text": [
            "<ipython-input-28-a2748003a49a>:3: RuntimeWarning: invalid value encountered in divide\n",
            "  result_1 = np.array(0) / np.array(0)\n",
            "<ipython-input-28-a2748003a49a>:10: RuntimeWarning: divide by zero encountered in floor_divide\n",
            "  result_2 = np.array(0) // np.array(0)\n",
            "<ipython-input-28-a2748003a49a>:17: RuntimeWarning: invalid value encountered in cast\n",
            "  result_3 = np.array([np.nan]).astype(int).astype(float)\n"
          ]
        }
      ],
      "source": [
        "\n",
        "\n",
        "\n",
        "# 1. np.array(0) / np.array(0)\n",
        "try:\n",
        "    result_1 = np.array(0) / np.array(0)\n",
        "    print(\"Natija 1:\", result_1)\n",
        "except Exception as e:\n",
        "    print(\"Natija 1 (xato):\", e)\n",
        "\n",
        "# 2. np.array(0) // np.array(0)\n",
        "try:\n",
        "    result_2 = np.array(0) // np.array(0)\n",
        "    print(\"Natija 2:\", result_2)\n",
        "except Exception as e:\n",
        "    print(\"Natija 2 (xato):\", e)\n",
        "\n",
        "# 3. np.array([np.nan]).astype(int).astype(float)\n",
        "try:\n",
        "    result_3 = np.array([np.nan]).astype(int).astype(float)\n",
        "    print(\"Natija 3:\", result_3)\n",
        "except Exception as e:\n",
        "    print(\"Natija 3 (xato):\", e)\n",
        "\n"
      ]
    },
    {
      "cell_type": "markdown",
      "id": "6d17ab5d",
      "metadata": {
        "id": "6d17ab5d"
      },
      "source": [
        "#### 18. Ikkita massiv yarating va ular orasidagi umumiy qiymatlarni toping\n"
      ]
    },
    {
      "cell_type": "markdown",
      "source": [
        "`💡Ishora` np.intersect1d"
      ],
      "metadata": {
        "id": "4c4e2c5e"
      },
      "id": "4c4e2c5e"
    },
    {
      "cell_type": "code",
      "source": [
        "# Ikkita massiv yaratish\n",
        "massiv_1 = np.array([1, 2, 3, 4, 5])\n",
        "massiv_2 = np.array([4, 5, 6, 7, 8])\n",
        "\n",
        "# Umumiy qiymatlarni topish\n",
        "umumiy_qiymatlar = np.intersect1d(massiv_1, massiv_2)\n",
        "\n",
        "print(\"Umumiy qiymatlar:\", umumiy_qiymatlar)"
      ],
      "metadata": {
        "id": "Dxz5P8WpMeAP",
        "outputId": "cb2c9ce3-c1b8-442b-89bc-4c92c1725657",
        "colab": {
          "base_uri": "https://localhost:8080/"
        }
      },
      "id": "Dxz5P8WpMeAP",
      "execution_count": null,
      "outputs": [
        {
          "output_type": "stream",
          "name": "stdout",
          "text": [
            "Umumiy qiymatlar: [4 5]\n"
          ]
        }
      ]
    },
    {
      "cell_type": "markdown",
      "id": "8837119b",
      "metadata": {
        "id": "8837119b"
      },
      "source": [
        "#### 19. Tasodifiy sonlardan iborat bo'lgan massiv yarating, so'ng ularni quyida berilgan 4 xil usul yordamida musbat sonlarning butun qismini ajratib oling."
      ]
    },
    {
      "cell_type": "markdown",
      "source": [
        "`💡Ishora` %, np.floor, astype, np.trunc"
      ],
      "metadata": {
        "id": "2b05c544"
      },
      "id": "2b05c544"
    },
    {
      "cell_type": "code",
      "source": [
        "\n",
        "\n",
        "# Tasodifiy sonlar massivini yaratish\n",
        "massiv = np.random.uniform(-10, 10, size=10)\n",
        "print(\"Tasodifiy massiv:\", massiv)\n",
        "\n",
        "# 1. % operatori bilan butun qismini olish\n",
        "butun_qism_mod = massiv % 1\n",
        "print(\"Mod operatori bilan butun qism:\", butun_qism_mod)\n",
        "\n",
        "# 2. np.floor yordamida butun qismini olish\n",
        "butun_qism_floor = np.floor(massiv)\n",
        "print(\"np.floor yordamida butun qism:\", butun_qism_floor)\n",
        "\n",
        "# 3. astype yordamida butun qismini olish\n",
        "butun_qism_astype = massiv.astype(int)\n",
        "print(\"astype yordamida butun qism:\", butun_qism_astype)\n",
        "\n",
        "# 4. np.trunc yordamida butun qismini olish\n",
        "butun_qism_trunc = np.trunc(massiv)\n",
        "print(\"np.trunc yordamida butun qism:\", butun_qism_trunc)\n"
      ],
      "metadata": {
        "id": "jc6wN5WWMpS3",
        "outputId": "c31449ef-9bc8-4081-9cce-97df24aa73a7",
        "colab": {
          "base_uri": "https://localhost:8080/"
        }
      },
      "id": "jc6wN5WWMpS3",
      "execution_count": null,
      "outputs": [
        {
          "output_type": "stream",
          "name": "stdout",
          "text": [
            "Tasodifiy massiv: [-2.79891294 -9.6182013   0.36392703  0.06269738 -9.90384153 -7.50624809\n",
            " -0.88229103 -6.01540038 -1.66173516 -1.1287887 ]\n",
            "Mod operatori bilan butun qism: [0.20108706 0.3817987  0.36392703 0.06269738 0.09615847 0.49375191\n",
            " 0.11770897 0.98459962 0.33826484 0.8712113 ]\n",
            "np.floor yordamida butun qism: [ -3. -10.   0.   0. -10.  -8.  -1.  -7.  -2.  -2.]\n",
            "astype yordamida butun qism: [-2 -9  0  0 -9 -7  0 -6 -1 -1]\n",
            "np.trunc yordamida butun qism: [-2. -9.  0.  0. -9. -7. -0. -6. -1. -1.]\n"
          ]
        }
      ]
    },
    {
      "cell_type": "markdown",
      "id": "ec788c9f",
      "metadata": {
        "id": "ec788c9f"
      },
      "source": [
        "#### 20. O'lchovlari 3x3 matritsa yarating, ularning qator qiymatlari 0 dan 2 gacha bo'lsin.\n",
        "\n"
      ]
    },
    {
      "cell_type": "markdown",
      "source": [
        "`💡Ishora` np.arange"
      ],
      "metadata": {
        "id": "c3980b2c"
      },
      "id": "c3980b2c"
    },
    {
      "cell_type": "code",
      "source": [
        "\n",
        "\n",
        "# 0 dan 2 gacha bo'lgan qiymatlar bilan 3x3 matritsa yaratish\n",
        "matritsa = np.arange(3).reshape(3, 1) + np.arange(3)\n",
        "print(\"3x3 matritsa:\")\n",
        "print(matritsa)\n"
      ],
      "metadata": {
        "id": "ycz3jw4bM0Xk",
        "outputId": "da5ddf35-7b86-4f5d-899e-5ee25e2b93b1",
        "colab": {
          "base_uri": "https://localhost:8080/"
        }
      },
      "id": "ycz3jw4bM0Xk",
      "execution_count": null,
      "outputs": [
        {
          "output_type": "stream",
          "name": "stdout",
          "text": [
            "3x3 matritsa:\n",
            "[[0 1 2]\n",
            " [1 2 3]\n",
            " [2 3 4]]\n"
          ]
        }
      ]
    },
    {
      "cell_type": "markdown",
      "id": "391791e0",
      "metadata": {
        "id": "391791e0"
      },
      "source": [
        "#### 21. O'chamlari 10 bo'lgan tasodifiy vektor yarating va uni o'sish tartibida chiqaruvchi dastur tuzing.\n",
        "\n"
      ]
    },
    {
      "cell_type": "markdown",
      "source": [
        "`💡Ishora` sort"
      ],
      "metadata": {
        "id": "ada71c06"
      },
      "id": "ada71c06"
    },
    {
      "cell_type": "code",
      "source": [
        "import numpy as np\n",
        "\n",
        "# O'lchami 10 bo'lgan tasodifiy vektor yaratish\n",
        "vektor = np.random.random(10)\n",
        "print(\"Tasodifiy vektor:\")\n",
        "print(vektor)\n",
        "\n",
        "# Vektorni o'sish tartibida saralash\n",
        "vektor_sorted = np.sort(vektor)\n",
        "print(\"\\nO'sish tartibida saralangan vektor:\")\n",
        "print(vektor_sorted)\n"
      ],
      "metadata": {
        "id": "TPMqaavROM7g",
        "outputId": "e75b13ee-6923-4208-84b0-77ffe2d32113",
        "colab": {
          "base_uri": "https://localhost:8080/"
        }
      },
      "id": "TPMqaavROM7g",
      "execution_count": null,
      "outputs": [
        {
          "output_type": "stream",
          "name": "stdout",
          "text": [
            "Tasodifiy vektor:\n",
            "[0.78574388 0.73882416 0.80810772 0.33828656 0.3065806  0.92848253\n",
            " 0.38892449 0.4914468  0.01336085 0.41700395]\n",
            "\n",
            "O'sish tartibida saralangan vektor:\n",
            "[0.01336085 0.3065806  0.33828656 0.38892449 0.41700395 0.4914468\n",
            " 0.73882416 0.78574388 0.80810772 0.92848253]\n"
          ]
        }
      ]
    },
    {
      "cell_type": "markdown",
      "id": "1e74d39e",
      "metadata": {
        "id": "1e74d39e"
      },
      "source": [
        "#### 22. Ikki tasodifiy A va B massiv yarating, ularning tengligini tekshiring"
      ]
    },
    {
      "cell_type": "markdown",
      "source": [
        "`💡Ishora` np.allclose, np.array_equal"
      ],
      "metadata": {
        "id": "eb0e066c"
      },
      "id": "eb0e066c"
    },
    {
      "cell_type": "code",
      "source": [
        "import numpy as np\n",
        "\n",
        "# Tasodifiy A va B massivlarini yaratish\n",
        "A = np.random.random(5)\n",
        "B = np.random.random(5)\n",
        "\n",
        "print(\"A massiv:\")\n",
        "print(A)\n",
        "print(\"\\nB massiv:\")\n",
        "print(B)\n",
        "\n",
        "# 1. np.allclose yordamida massivlarni tekshirish\n",
        "if np.allclose(A, B):\n",
        "    print(\"\\nA va B massivlari teng (np.allclose).\")\n",
        "else:\n",
        "    print(\"\\nA va B massivlari teng emas (np.allclose).\")\n",
        "\n",
        "# 2. np.array_equal yordamida massivlarni tekshirish\n",
        "if np.array_equal(A, B):\n",
        "    print(\"A va B massivlari teng (np.array_equal).\")\n",
        "else:\n",
        "    print(\"A va B massivlari teng emas (np.array_equal).\")\n"
      ],
      "metadata": {
        "id": "xHNWNZnwOT1r",
        "outputId": "098f2ac1-5f96-4f16-b8a3-2f7df4dbf2ad",
        "colab": {
          "base_uri": "https://localhost:8080/"
        }
      },
      "id": "xHNWNZnwOT1r",
      "execution_count": null,
      "outputs": [
        {
          "output_type": "stream",
          "name": "stdout",
          "text": [
            "A massiv:\n",
            "[0.17200878 0.57338323 0.09593086 0.10545852 0.14134779]\n",
            "\n",
            "B massiv:\n",
            "[0.6787718  0.96831957 0.89016534 0.51417252 0.14189956]\n",
            "\n",
            "A va B massivlari teng emas (np.allclose).\n",
            "A va B massivlari teng emas (np.array_equal).\n"
          ]
        }
      ]
    },
    {
      "cell_type": "markdown",
      "id": "78250c14",
      "metadata": {
        "id": "78250c14"
      },
      "source": [
        "#### 23. O'lchamlari 6x3 va 3x4 matritsa tuzing va ularni o'zaro ko'paytiring.\n"
      ]
    },
    {
      "cell_type": "markdown",
      "source": [
        "`💡Ishora` np.dot or np.ones"
      ],
      "metadata": {
        "id": "2e482afe"
      },
      "id": "2e482afe"
    },
    {
      "cell_type": "code",
      "source": [
        "\n",
        "\n",
        "# O'lchamlari 6x3 va 3x4 bo'lgan matritsalarni yaratish\n",
        "A = np.random.random((6, 3))  # 6x3 matritsa\n",
        "B = np.random.random((3, 4))  # 3x4 matritsa\n",
        "\n",
        "print(\"A matritsa (6x3):\")\n",
        "print(A)\n",
        "print(\"\\nB matritsa (3x4):\")\n",
        "print(B)\n",
        "\n",
        "# Matritsalarni o'zaro ko'paytirish\n",
        "C = np.dot(A, B)\n",
        "print(\"\\nA va B matritsalari ko'paytmasi (6x4):\")\n",
        "print(C)\n"
      ],
      "metadata": {
        "id": "ZRlMgdT9POgS",
        "outputId": "390533b5-46b2-400b-c052-1b79b94f21e6",
        "colab": {
          "base_uri": "https://localhost:8080/"
        }
      },
      "id": "ZRlMgdT9POgS",
      "execution_count": null,
      "outputs": [
        {
          "output_type": "stream",
          "name": "stdout",
          "text": [
            "A matritsa (6x3):\n",
            "[[0.56782815 0.61607169 0.73146201]\n",
            " [0.95840633 0.35841528 0.85249106]\n",
            " [0.14238394 0.25034918 0.34092812]\n",
            " [0.93090354 0.58382224 0.45115434]\n",
            " [0.34488109 0.46242225 0.13601973]\n",
            " [0.98768469 0.49150672 0.29310337]]\n",
            "\n",
            "B matritsa (3x4):\n",
            "[[0.40691398 0.15131152 0.59046471 0.43872705]\n",
            " [0.96349803 0.76627453 0.32102999 0.67185518]\n",
            " [0.02847115 0.14010878 0.07968136 0.4441957 ]]\n",
            "\n",
            "A va B matritsalari ko'paytmasi (6x4):\n",
            "[[0.84546664 0.66048323 0.59134386 0.9879448 ]\n",
            " [0.75959275 0.5391039  0.74889482 1.0399548 ]\n",
            " [0.30885557 0.26114755 0.19160791 0.38210488]\n",
            " [0.95415412 0.65143522 0.77303873 1.00105737]\n",
            " [0.5897525  0.42558443 0.36292976 0.52240882]\n",
            " [0.88381345 0.5671435  0.76433623 0.89374058]]\n"
          ]
        }
      ]
    },
    {
      "cell_type": "markdown",
      "id": "51898680",
      "metadata": {
        "id": "51898680"
      },
      "source": [
        "#### 24. Tasodifiy sonlardan iborat bo'lgan o'lchami 5 ga teng vektor yarating, so'ng uning eng katta qiymatini 0 ga o'zgartiring.\n"
      ]
    },
    {
      "cell_type": "markdown",
      "source": [
        "`💡Ishora` argmax"
      ],
      "metadata": {
        "id": "ee92ccaf"
      },
      "id": "ee92ccaf"
    },
    {
      "cell_type": "code",
      "source": [
        "\n",
        "\n",
        "# O'lchami 5 ga teng tasodifiy vektor yaratish\n",
        "vektor = np.random.random(5)\n",
        "print(\"Tasodifiy vektor:\")\n",
        "print(vektor)\n",
        "\n",
        "# Vektorning eng katta qiymatini topish\n",
        "eng_katta_indeks = np.argmax(vektor)\n",
        "\n",
        "# Eng katta qiymatini 0 ga o'zgartirish\n",
        "vektor[eng_katta_indeks] = 0\n",
        "\n",
        "print(\"\\nEng katta qiymatni 0 ga o'zgartirgandan so'ng vektor:\")\n",
        "print(vektor)\n"
      ],
      "metadata": {
        "id": "v9DvyaTNPk_t",
        "outputId": "48feaca0-fef0-4db0-a842-7af245ccbfc5",
        "colab": {
          "base_uri": "https://localhost:8080/"
        }
      },
      "id": "v9DvyaTNPk_t",
      "execution_count": null,
      "outputs": [
        {
          "output_type": "stream",
          "name": "stdout",
          "text": [
            "Tasodifiy vektor:\n",
            "[0.5156952  0.91493498 0.96557161 0.56352381 0.50360444]\n",
            "\n",
            "Eng katta qiymatni 0 ga o'zgartirgandan so'ng vektor:\n",
            "[0.5156952  0.91493498 0.         0.56352381 0.50360444]\n"
          ]
        }
      ]
    },
    {
      "cell_type": "markdown",
      "id": "129c342d",
      "metadata": {
        "id": "129c342d"
      },
      "source": [
        "#### 25. NumPy kutubxonasi yordamida kecha, bugun va ertangi kun sanalarini aniqlang.\n"
      ]
    },
    {
      "cell_type": "markdown",
      "source": [
        "`💡Ishora` np.datetime64, np.timedelta64"
      ],
      "metadata": {
        "id": "0fd2f947"
      },
      "id": "0fd2f947"
    },
    {
      "cell_type": "code",
      "source": [
        "\n",
        "\n",
        "# Bugungi kunni olish\n",
        "bugun = np.datetime64('today', 'D')\n",
        "print(\"Bugun:\", bugun)\n",
        "\n",
        "# Kechani olish (bugundan 1 kun oldin)\n",
        "kecha = bugun - np.timedelta64(1, 'D')\n",
        "print(\"Kecha:\", kecha)\n",
        "\n",
        "# Ertangi kunni olish (bugundan 1 kun keyin)\n",
        "ertaga = bugun + np.timedelta64(1, 'D')\n",
        "print(\"Ertangi kun:\", ertaga)\n"
      ],
      "metadata": {
        "id": "dlljRGxkSitd",
        "outputId": "18dc9164-1519-4635-926d-974d39b435d9",
        "colab": {
          "base_uri": "https://localhost:8080/"
        }
      },
      "id": "dlljRGxkSitd",
      "execution_count": null,
      "outputs": [
        {
          "output_type": "stream",
          "name": "stdout",
          "text": [
            "Bugun: 2025-02-20\n",
            "Kecha: 2025-02-19\n",
            "Ertangi kun: 2025-02-21\n"
          ]
        }
      ]
    },
    {
      "cell_type": "markdown",
      "id": "42f8b2f9",
      "metadata": {
        "id": "42f8b2f9"
      },
      "source": [
        "#### 26. 2016 yil yanvar oyiga to'g'ri keladigan barcha sanalarni NumPy kutubxonasi yordamida aniqlang.\n"
      ]
    },
    {
      "cell_type": "markdown",
      "source": [
        "`💡Ishora` np.arange(dtype=datetime64['D'])"
      ],
      "metadata": {
        "id": "SU1BWcA8Sw2M"
      },
      "id": "SU1BWcA8Sw2M"
    },
    {
      "cell_type": "code",
      "execution_count": null,
      "id": "5ad086b0",
      "metadata": {
        "id": "5ad086b0",
        "outputId": "d40bc6d8-9b0b-4a44-e866-57d3a7bc0274",
        "colab": {
          "base_uri": "https://localhost:8080/"
        }
      },
      "outputs": [
        {
          "output_type": "stream",
          "name": "stdout",
          "text": [
            "2016 yil yanvar oyidagi barcha sanalar:\n",
            "['2016-01-01' '2016-01-02' '2016-01-03' '2016-01-04' '2016-01-05'\n",
            " '2016-01-06' '2016-01-07' '2016-01-08' '2016-01-09' '2016-01-10'\n",
            " '2016-01-11' '2016-01-12' '2016-01-13' '2016-01-14' '2016-01-15'\n",
            " '2016-01-16' '2016-01-17' '2016-01-18' '2016-01-19' '2016-01-20'\n",
            " '2016-01-21' '2016-01-22' '2016-01-23' '2016-01-24' '2016-01-25'\n",
            " '2016-01-26' '2016-01-27' '2016-01-28' '2016-01-29' '2016-01-30'\n",
            " '2016-01-31']\n"
          ]
        }
      ],
      "source": [
        "import numpy as np\n",
        "\n",
        "# 2016 yil 1-yanvar va 2016 yil 2-fevral orasidagi barcha sanalarni olish\n",
        "sanalar = np.arange('2016-01-01', '2016-02-01', dtype='datetime64[D]')\n",
        "\n",
        "print(\"2016 yil yanvar oyidagi barcha sanalar:\")\n",
        "print(sanalar)\n"
      ]
    },
    {
      "cell_type": "markdown",
      "id": "486df8ea",
      "metadata": {
        "id": "486df8ea"
      },
      "source": [
        "#### 27. 4 xil usul yordamida musbat sonlarning tasodifiy massivining butun son qismini ajratib oling.\n"
      ]
    },
    {
      "cell_type": "markdown",
      "source": [
        "`💡Ishora` %, np.floor, astype, np.trunc`"
      ],
      "metadata": {
        "id": "h4QM3bp9TDhb"
      },
      "id": "h4QM3bp9TDhb"
    },
    {
      "cell_type": "code",
      "execution_count": null,
      "id": "2680c1ca",
      "metadata": {
        "id": "2680c1ca",
        "outputId": "fdc50475-f22a-4cce-8346-2eef5bf28281",
        "colab": {
          "base_uri": "https://localhost:8080/"
        }
      },
      "outputs": [
        {
          "output_type": "stream",
          "name": "stdout",
          "text": [
            "Tasodifiy massiv:\n",
            "[0.18943569 9.83148568 8.6594564  1.08708312 9.15099518 0.95190102\n",
            " 9.01547113 8.67679923 2.24793834 3.21045551]\n",
            "\n",
            "% operatori yordamida butun qism: [0.18943569 0.83148568 0.6594564  0.08708312 0.15099518 0.95190102\n",
            " 0.01547113 0.67679923 0.24793834 0.21045551]\n",
            "\n",
            "np.floor yordamida butun qism: [0. 9. 8. 1. 9. 0. 9. 8. 2. 3.]\n",
            "\n",
            "astype yordamida butun qism: [0 9 8 1 9 0 9 8 2 3]\n",
            "\n",
            "np.trunc yordamida butun qism: [0. 9. 8. 1. 9. 0. 9. 8. 2. 3.]\n"
          ]
        }
      ],
      "source": [
        "\n",
        "\n",
        "# Musbat sonlardan iborat tasodifiy massiv yaratish\n",
        "massiv = np.random.random(10) * 10  # 0 dan 10 gacha bo'lgan tasodifiy sonlar\n",
        "print(\"Tasodifiy massiv:\")\n",
        "print(massiv)\n",
        "\n",
        "# 1. % operatori yordamida butun qismini olish\n",
        "butun_qism_mod = massiv % 1\n",
        "print(\"\\n% operatori yordamida butun qism:\", butun_qism_mod)\n",
        "\n",
        "# 2. np.floor yordamida butun qismini olish\n",
        "butun_qism_floor = np.floor(massiv)\n",
        "print(\"\\nnp.floor yordamida butun qism:\", butun_qism_floor)\n",
        "\n",
        "# 3. astype yordamida butun qismini olish\n",
        "butun_qism_astype = massiv.astype(int)\n",
        "print(\"\\nastype yordamida butun qism:\", butun_qism_astype)\n",
        "\n",
        "# 4. np.trunc yordamida butun qismini olish\n",
        "butun_qism_trunc = np.trunc(massiv)\n",
        "print(\"\\nnp.trunc yordamida butun qism:\", butun_qism_trunc)\n"
      ]
    },
    {
      "cell_type": "markdown",
      "id": "6415f02e",
      "metadata": {
        "id": "6415f02e"
      },
      "source": [
        "#### 28. Ixtiyoriy kichik massivlar yarating, ular yeg'indisini np.sum funksiyasidanda tezroq hisoblovchi dastur tuzing.\n"
      ]
    },
    {
      "cell_type": "markdown",
      "source": [
        "`💡Ishora` np.add.reduce"
      ],
      "metadata": {
        "id": "129e785f"
      },
      "id": "129e785f"
    },
    {
      "cell_type": "code",
      "source": [
        "\n",
        "\n",
        "# Ixtiyoriy kichik massiv yaratish\n",
        "massiv = np.random.random(100)  # 100 ta tasodifiy sonlardan iborat massiv\n",
        "print(\"Massiv:\")\n",
        "print(massiv)\n",
        "\n",
        "# np.sum funksiyasi yordamida yig'indisini hisoblash\n",
        "sum_1 = np.sum(massiv)\n",
        "print(\"\\nnp.sum yordamida yig'indi:\")\n",
        "print(sum_1)\n",
        "\n",
        "# np.add.reduce yordamida yig'indisini hisoblash\n",
        "sum_2 = np.add.reduce(massiv)\n",
        "print(\"\\nnp.add.reduce yordamida yig'indi:\")\n",
        "print(sum_2)\n",
        "\n",
        "# Yig'indilarni solishtirish\n",
        "print(\"\\nYig'indilar tengmi?:\", np.isclose(sum_1, sum_2))\n"
      ],
      "metadata": {
        "id": "M0Xv2bB9VYQZ",
        "outputId": "869b9870-19ad-4470-92bb-93dbd6b3b51d",
        "colab": {
          "base_uri": "https://localhost:8080/"
        }
      },
      "id": "M0Xv2bB9VYQZ",
      "execution_count": null,
      "outputs": [
        {
          "output_type": "stream",
          "name": "stdout",
          "text": [
            "Massiv:\n",
            "[0.66731776 0.20089045 0.3967227  0.07485249 0.69417135 0.47068031\n",
            " 0.93480717 0.92137306 0.39804491 0.65132121 0.060599   0.57936653\n",
            " 0.35879118 0.8095728  0.3468096  0.13507254 0.29897467 0.09136589\n",
            " 0.79485052 0.69895153 0.88134989 0.9202248  0.95142108 0.20877454\n",
            " 0.55712306 0.19205217 0.09353283 0.13044024 0.05863311 0.77578159\n",
            " 0.81723654 0.47348997 0.57878574 0.11271718 0.14754249 0.18546698\n",
            " 0.0459719  0.32198175 0.05664154 0.53371649 0.87827583 0.13773595\n",
            " 0.78461987 0.46153346 0.50012552 0.92233478 0.21298294 0.07924397\n",
            " 0.44217533 0.53013866 0.87701024 0.90579462 0.08751015 0.98884245\n",
            " 0.90851787 0.30628795 0.87308739 0.6511989  0.60014668 0.38860046\n",
            " 0.83861181 0.5323452  0.55528003 0.10482372 0.58492382 0.93678354\n",
            " 0.34475168 0.45437142 0.32763911 0.14634553 0.21607729 0.21010349\n",
            " 0.93525822 0.73300405 0.29736796 0.12443117 0.36472277 0.6266799\n",
            " 0.86725434 0.1907949  0.2499692  0.17211273 0.5522585  0.84280457\n",
            " 0.69307293 0.89086704 0.94083356 0.95657969 0.22689689 0.09939389\n",
            " 0.05874905 0.91572781 0.67305136 0.29981594 0.12897954 0.5384064\n",
            " 0.34385822 0.46495021 0.50367016 0.28432738]\n",
            "\n",
            "np.sum yordamida yig'indi:\n",
            "48.39147761180488\n",
            "\n",
            "np.add.reduce yordamida yig'indi:\n",
            "48.39147761180488\n",
            "\n",
            "Yig'indilar tengmi?: True\n"
          ]
        }
      ]
    },
    {
      "cell_type": "markdown",
      "id": "58be9dd4",
      "metadata": {
        "id": "58be9dd4"
      },
      "source": [
        "#### 29. [1, 2, 3, 4, 5] vektor berilgan, har bir qiymat orasiga ketma-ket 3 ta nol raqamini yozuvchi dastur tuzing.\n"
      ]
    },
    {
      "cell_type": "markdown",
      "source": [
        "`💡Ishora` array[::4]"
      ],
      "metadata": {
        "id": "9cf9e134"
      },
      "id": "9cf9e134"
    },
    {
      "cell_type": "code",
      "source": [
        "import numpy as np\n",
        "\n",
        "# 1, 2, 3, 4, 5 vektori\n",
        "vektor = np.array([1, 2, 3, 4, 5])\n",
        "\n",
        "# Har bir qiymat orasiga 3 ta nol kiritish\n",
        "yangi_vektor = np.zeros(vektor.size * 4 - 1)  # Bo'sh joy yaratish\n",
        "yangi_vektor[::4] = vektor  # Har 4-kichik indeksga original vektor qiymatlarini joylash\n",
        "\n",
        "print(\"Yangi vektor:\")\n",
        "print(yangi_vektor)\n"
      ],
      "metadata": {
        "id": "04IuJ2jaZeYu",
        "outputId": "c3737423-b66d-4fa8-abe7-1750100961c9",
        "colab": {
          "base_uri": "https://localhost:8080/"
        }
      },
      "id": "04IuJ2jaZeYu",
      "execution_count": null,
      "outputs": [
        {
          "output_type": "stream",
          "name": "stdout",
          "text": [
            "Yangi vektor:\n",
            "[1. 0. 0. 0. 2. 0. 0. 0. 3. 0. 0. 0. 4. 0. 0. 0. 5. 0. 0.]\n"
          ]
        }
      ]
    },
    {
      "cell_type": "markdown",
      "id": "781fa236",
      "metadata": {
        "id": "781fa236"
      },
      "source": [
        "#### 30. Quyidagi a massiv berilgan, a = [1,2,3,4,5,6,7,8,9,10,11,12,13,14] undan foydalangan holda siz quyidagi b massivni yarata olasizmi, b = [[1,2,3,4], [2,3,4,5], [3,4,5,6], ..., [11,12,13,14]]?\n"
      ]
    },
    {
      "cell_type": "markdown",
      "source": [
        "`💡Ishora` stride_tricks.as_strided"
      ],
      "metadata": {
        "id": "82e3d17e"
      },
      "id": "82e3d17e"
    },
    {
      "cell_type": "code",
      "source": [
        "import numpy as np\n",
        "from numpy.lib.stride_tricks import as_strided\n",
        "\n",
        "# a massivini yaratish\n",
        "a = np.array([1, 2, 3, 4, 5, 6, 7, 8, 9, 10, 11, 12, 13, 14])\n",
        "\n",
        "# b massivini yaratish: har bir qatorda 4 ta element bo'lishi kerak\n",
        "b = as_strided(a, shape=(11, 4), strides=(a.strides[0], a.strides[0]))\n",
        "\n",
        "print(\"b massiv:\")\n",
        "print(b)\n"
      ],
      "metadata": {
        "id": "S1H6ivCua3NZ",
        "outputId": "8f7b5ddc-a4fe-47f0-bea2-b27edc6c4436",
        "colab": {
          "base_uri": "https://localhost:8080/"
        }
      },
      "id": "S1H6ivCua3NZ",
      "execution_count": null,
      "outputs": [
        {
          "output_type": "stream",
          "name": "stdout",
          "text": [
            "b massiv:\n",
            "[[ 1  2  3  4]\n",
            " [ 2  3  4  5]\n",
            " [ 3  4  5  6]\n",
            " [ 4  5  6  7]\n",
            " [ 5  6  7  8]\n",
            " [ 6  7  8  9]\n",
            " [ 7  8  9 10]\n",
            " [ 8  9 10 11]\n",
            " [ 9 10 11 12]\n",
            " [10 11 12 13]\n",
            " [11 12 13 14]]\n"
          ]
        }
      ]
    },
    {
      "cell_type": "markdown",
      "id": "7d8dc135",
      "metadata": {
        "id": "7d8dc135"
      },
      "source": [
        "#### 31. Ixtiyoriy sonlardan tashkil topgan massiv yarating, unga o'xshash qiymatlar kiriting. So'ng, o'xshash qiymatlarni topuvchi dastur tuzing.\n"
      ]
    },
    {
      "cell_type": "markdown",
      "source": [
        "`💡Ishora` np.bincount, argmax"
      ],
      "metadata": {
        "id": "81844e99"
      },
      "id": "81844e99"
    },
    {
      "cell_type": "code",
      "source": [
        "\n",
        "\n",
        "# Ixtiyoriy sonlardan tashkil topgan massiv yaratish\n",
        "massiv = np.random.randint(1, 10, size=20)  # 1 dan 10 gacha bo'lgan tasodifiy sonlar, 20 ta element\n",
        "print(\"Massiv:\")\n",
        "print(massiv)\n",
        "\n",
        "# np.bincount yordamida qiymatlarning chastotasini hisoblash\n",
        "chastota = np.bincount(massiv)\n",
        "print(\"\\nQiymatlarning chastotasi:\")\n",
        "print(chastota)\n",
        "\n",
        "# Eng ko'p uchraydigan qiymatni topish\n",
        "eng_ko_p_uchraydigan = np.argmax(chastota)\n",
        "print(\"\\nEng ko'p uchraydigan qiymat:\", eng_ko_p_uchraydigan)\n"
      ],
      "metadata": {
        "id": "SiRaNwxjbaQN",
        "outputId": "00ff287f-fcc4-4cbd-8a99-9a165a83c576",
        "colab": {
          "base_uri": "https://localhost:8080/"
        }
      },
      "id": "SiRaNwxjbaQN",
      "execution_count": null,
      "outputs": [
        {
          "output_type": "stream",
          "name": "stdout",
          "text": [
            "Massiv:\n",
            "[1 4 4 2 1 8 6 9 2 8 3 7 1 7 9 1 6 8 1 2]\n",
            "\n",
            "Qiymatlarning chastotasi:\n",
            "[0 5 3 1 2 0 2 2 3 2]\n",
            "\n",
            "Eng ko'p uchraydigan qiymat: 1\n"
          ]
        }
      ]
    },
    {
      "cell_type": "markdown",
      "source": [
        "#### BONUS!\n",
        "\n",
        "`💡O'zingiz javob berishni istagan savolni kiriting va unga javob bering!`"
      ],
      "metadata": {
        "id": "URzxwwODb0m_"
      },
      "id": "URzxwwODb0m_"
    },
    {
      "cell_type": "code",
      "source": [
        "\n",
        "\n",
        "# 1. np.random.rand(d0, d1, ..., dn) - 0 va 1 orasidagi tasodifiy sonlar bilan massiv yaratish\n",
        "# Bu funksiyaning yordamida 0 va 1 orasidagi tasodifiy sonlardan iborat massiv yaratish mumkin.\n",
        "massiv1 = np.random.rand(3, 4)  # 3x4 o'lchamdagi massiv\n",
        "print(\"1. np.random.rand yordamida massiv:\")\n",
        "print(massiv1)\n",
        "\n",
        "# 2. np.random.randint(low, high, size) - Berilgan oraliqda butun sonlar yaratish\n",
        "# Bu funksiya ko'rsatilgan oraliq (low, high) orasida butun sonlardan iborat massiv yaratadi.\n",
        "massiv2 = np.random.randint(1, 10, 5)  # 1 dan 10 gacha bo'lgan butun sonlar, 5 elementli massiv\n",
        "print(\"\\n2. np.random.randint yordamida massiv:\")\n",
        "print(massiv2)\n",
        "\n",
        "# 3. np.random.randn(d0, d1, ..., dn) - Normal taqsimot bo'yicha tasodifiy sonlar yaratish\n",
        "# Bu funksiya normal taqsimot (0, 1) bo'yicha tasodifiy sonlar yaratadi, ya'ni o'rtacha 0 va dispersiyasi 1.\n",
        "massiv3 = np.random.randn(3, 4)  # 3x4 o'lchamdagi normal taqsimot bo'yicha tasodifiy sonlar\n",
        "print(\"\\n3. np.random.randn yordamida massiv:\")\n",
        "print(massiv3)\n",
        "\n",
        "# 4. np.random.choice(a, size, replace) - Berilgan massivdan tasodifiy elementlarni tanlash\n",
        "# Bu funksiya a massividan tasodifiy tanlovlar qiladi. `replace=False` parametrini o'rnatish bilan bir xil elementlarni qayta tanlashni oldini oladi.\n",
        "massiv4 = np.random.choice([1, 2, 3, 4, 5], size=3, replace=False)  # 1, 2, 3, 4, 5 elementlaridan 3 ta tasodifiy sonni tanlash\n",
        "print(\"\\n4. np.random.choice yordamida massiv:\")\n",
        "print(massiv4)\n"
      ],
      "metadata": {
        "id": "9xpR0GVrbzuk",
        "outputId": "41ec9350-aa4d-4033-bed0-b056fa9507bb",
        "colab": {
          "base_uri": "https://localhost:8080/"
        }
      },
      "id": "9xpR0GVrbzuk",
      "execution_count": null,
      "outputs": [
        {
          "output_type": "stream",
          "name": "stdout",
          "text": [
            "1. np.random.rand yordamida massiv:\n",
            "[[0.03745242 0.77234758 0.02019083 0.61402684]\n",
            " [0.20171816 0.08947481 0.0371022  0.7382531 ]\n",
            " [0.56852515 0.4138984  0.88696343 0.28849658]]\n",
            "\n",
            "2. np.random.randint yordamida massiv:\n",
            "[5 3 4 3 3]\n",
            "\n",
            "3. np.random.randn yordamida massiv:\n",
            "[[ 0.39168957  0.70409824 -1.02055142  1.04338779]\n",
            " [ 0.33595353  0.48512013 -2.82986783  0.01975602]\n",
            " [-1.08212542 -0.76505211  1.40017787 -0.97080713]]\n",
            "\n",
            "4. np.random.choice yordamida massiv:\n",
            "[4 2 5]\n"
          ]
        }
      ]
    }
  ],
  "metadata": {
    "hide_input": false,
    "kernelspec": {
      "display_name": "Python 3",
      "language": "python",
      "name": "python3"
    },
    "language_info": {
      "codemirror_mode": {
        "name": "ipython",
        "version": 3
      },
      "file_extension": ".py",
      "mimetype": "text/x-python",
      "name": "python",
      "nbconvert_exporter": "python",
      "pygments_lexer": "ipython3",
      "version": "3.8.8"
    },
    "toc": {
      "base_numbering": 1,
      "nav_menu": {},
      "number_sections": true,
      "sideBar": true,
      "skip_h1_title": false,
      "title_cell": "Table of Contents",
      "title_sidebar": "Contents",
      "toc_cell": false,
      "toc_position": {},
      "toc_section_display": true,
      "toc_window_display": false
    },
    "varInspector": {
      "cols": {
        "lenName": 16,
        "lenType": 16,
        "lenVar": 40
      },
      "kernels_config": {
        "python": {
          "delete_cmd_postfix": "",
          "delete_cmd_prefix": "del ",
          "library": "var_list.py",
          "varRefreshCmd": "print(var_dic_list())"
        },
        "r": {
          "delete_cmd_postfix": ") ",
          "delete_cmd_prefix": "rm(",
          "library": "var_list.r",
          "varRefreshCmd": "cat(var_dic_list()) "
        }
      },
      "types_to_exclude": [
        "module",
        "function",
        "builtin_function_or_method",
        "instance",
        "_Feature"
      ],
      "window_display": false
    },
    "colab": {
      "provenance": []
    }
  },
  "nbformat": 4,
  "nbformat_minor": 5
}