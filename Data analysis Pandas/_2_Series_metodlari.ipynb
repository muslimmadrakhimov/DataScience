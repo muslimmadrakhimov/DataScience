{
  "nbformat": 4,
  "nbformat_minor": 0,
  "metadata": {
    "colab": {
      "provenance": []
    },
    "kernelspec": {
      "name": "python3",
      "display_name": "Python 3"
    },
    "language_info": {
      "name": "python"
    }
  },
  "cells": [
    {
      "cell_type": "code",
      "execution_count": null,
      "metadata": {
        "id": "QkEZu3S-imRR"
      },
      "outputs": [],
      "source": [
        "import pandas as pd\n",
        "import numpy as np\n",
        "from pandas import Series"
      ]
    },
    {
      "cell_type": "code",
      "source": [
        "cars_dict = {'Malibu':40000, 'Lacetti':20000, 'Toyota':45000, 'Mazda':52000, 'Honda':38000}\n",
        "cars1 = Series(cars_dict)\n",
        "cars1"
      ],
      "metadata": {
        "colab": {
          "base_uri": "https://localhost:8080/"
        },
        "id": "N_-dj_pnk-p8",
        "outputId": "b4de11ff-98d4-4c48-a8b5-103231459045"
      },
      "execution_count": null,
      "outputs": [
        {
          "output_type": "execute_result",
          "data": {
            "text/plain": [
              "Malibu     40000\n",
              "Lacetti    20000\n",
              "Toyota     45000\n",
              "Mazda      52000\n",
              "Honda      38000\n",
              "dtype: int64"
            ]
          },
          "metadata": {},
          "execution_count": 16
        }
      ]
    },
    {
      "cell_type": "code",
      "source": [
        "# lugat yaratish\n",
        "cars_dict = {'Malibu':40000, 'Lacetti':20000, 'Toyota':45000, 'Mazda':52000, 'Honda':38000}\n",
        "cars_dict"
      ],
      "metadata": {
        "id": "GE6nSrOMjBWT",
        "colab": {
          "base_uri": "https://localhost:8080/"
        },
        "outputId": "2412c8db-edfc-47db-8574-6c8be1778056"
      },
      "execution_count": null,
      "outputs": [
        {
          "output_type": "execute_result",
          "data": {
            "text/plain": [
              "{'Malibu': 40000,\n",
              " 'Lacetti': 20000,\n",
              " 'Toyota': 45000,\n",
              " 'Mazda': 52000,\n",
              " 'Honda': 38000}"
            ]
          },
          "metadata": {},
          "execution_count": 4
        }
      ]
    },
    {
      "cell_type": "code",
      "source": [
        "models = ['Honda', 'Mazda', 'Lacetti', 'Jaguar', 'Malibu', 'Toyota', 'BMW', 'MERCEDES']\n",
        "models"
      ],
      "metadata": {
        "colab": {
          "base_uri": "https://localhost:8080/"
        },
        "id": "F6szeXDiiaQS",
        "outputId": "b2219ae9-acb1-465c-9ac4-77c50e4dbdd0"
      },
      "execution_count": null,
      "outputs": [
        {
          "output_type": "execute_result",
          "data": {
            "text/plain": [
              "['Honda', 'Mazda', 'Lacetti', 'Jaguar', 'Malibu', 'Toyota', 'BMW', 'MERCEDES']"
            ]
          },
          "metadata": {},
          "execution_count": 8
        }
      ]
    },
    {
      "cell_type": "code",
      "source": [
        "# series yaratish\n",
        "cars2 = Series(cars_dict, index=models)\n",
        "cars2"
      ],
      "metadata": {
        "colab": {
          "base_uri": "https://localhost:8080/"
        },
        "id": "MM43663uila5",
        "outputId": "81a6efef-99c6-4a86-9862-7fd577fec5e8"
      },
      "execution_count": null,
      "outputs": [
        {
          "output_type": "execute_result",
          "data": {
            "text/plain": [
              "Honda       38000.0\n",
              "Mazda       52000.0\n",
              "Lacetti     20000.0\n",
              "Jaguar          NaN\n",
              "Malibu      40000.0\n",
              "Toyota      45000.0\n",
              "BMW             NaN\n",
              "MERCEDES        NaN\n",
              "dtype: float64"
            ]
          },
          "metadata": {},
          "execution_count": 9
        }
      ]
    },
    {
      "cell_type": "markdown",
      "source": [
        "### Series metodlari"
      ],
      "metadata": {
        "id": "k78x3rAYjHK5"
      }
    },
    {
      "cell_type": "code",
      "source": [
        "# .isnull() metodi har bitta qiymatni kōrib chiqib mavjud bōlmasa True qaytaradi\n",
        "cars2.isnull()"
      ],
      "metadata": {
        "colab": {
          "base_uri": "https://localhost:8080/"
        },
        "id": "DSmMP0gVjKpg",
        "outputId": "d8b74522-f4ca-41cc-b764-5bad71a33035"
      },
      "execution_count": null,
      "outputs": [
        {
          "output_type": "execute_result",
          "data": {
            "text/plain": [
              "Honda       False\n",
              "Mazda       False\n",
              "Lacetti     False\n",
              "Jaguar       True\n",
              "Malibu      False\n",
              "Toyota      False\n",
              "BMW          True\n",
              "MERCEDES     True\n",
              "dtype: bool"
            ]
          },
          "metadata": {},
          "execution_count": 10
        }
      ]
    },
    {
      "cell_type": "code",
      "source": [
        "# .notnull() metodi agar qiymatlar mavjud bōlsa True qaytaradi\n",
        "cars2.notnull()"
      ],
      "metadata": {
        "colab": {
          "base_uri": "https://localhost:8080/"
        },
        "id": "J1mTm9WFkQ6g",
        "outputId": "01431967-8f70-4df9-f64e-fc465f5c0024"
      },
      "execution_count": null,
      "outputs": [
        {
          "output_type": "execute_result",
          "data": {
            "text/plain": [
              "Honda        True\n",
              "Mazda        True\n",
              "Lacetti      True\n",
              "Jaguar      False\n",
              "Malibu       True\n",
              "Toyota       True\n",
              "BMW         False\n",
              "MERCEDES    False\n",
              "dtype: bool"
            ]
          },
          "metadata": {},
          "execution_count": 11
        }
      ]
    },
    {
      "cell_type": "code",
      "source": [
        "cars2"
      ],
      "metadata": {
        "colab": {
          "base_uri": "https://localhost:8080/"
        },
        "id": "yV7uj9cZkyMq",
        "outputId": "94977e74-dcd3-4130-cdc4-593dc8dbc37f"
      },
      "execution_count": null,
      "outputs": [
        {
          "output_type": "execute_result",
          "data": {
            "text/plain": [
              "Honda       38000.0\n",
              "Mazda       52000.0\n",
              "Lacetti     20000.0\n",
              "Jaguar          NaN\n",
              "Malibu      40000.0\n",
              "Toyota      45000.0\n",
              "BMW             NaN\n",
              "MERCEDES        NaN\n",
              "dtype: float64"
            ]
          },
          "metadata": {},
          "execution_count": 12
        }
      ]
    },
    {
      "cell_type": "code",
      "source": [
        "cars1"
      ],
      "metadata": {
        "colab": {
          "base_uri": "https://localhost:8080/"
        },
        "id": "Hty5PHmwkzlX",
        "outputId": "159b74af-0d68-4b27-e7c9-0cc5d31199e6"
      },
      "execution_count": null,
      "outputs": [
        {
          "output_type": "execute_result",
          "data": {
            "text/plain": [
              "Malibu     40000\n",
              "Lacetti    20000\n",
              "Toyota     45000\n",
              "Mazda      52000\n",
              "Honda      38000\n",
              "dtype: int64"
            ]
          },
          "metadata": {},
          "execution_count": 17
        }
      ]
    },
    {
      "cell_type": "markdown",
      "source": [
        "Arifmetik amallar"
      ],
      "metadata": {
        "id": "r84XjPC8lkQz"
      }
    },
    {
      "cell_type": "code",
      "source": [
        "cars1 + cars2"
      ],
      "metadata": {
        "colab": {
          "base_uri": "https://localhost:8080/"
        },
        "id": "YynirsgvlnUf",
        "outputId": "cb295f5d-0202-4d81-acb6-8bd4547fb256"
      },
      "execution_count": null,
      "outputs": [
        {
          "output_type": "execute_result",
          "data": {
            "text/plain": [
              "BMW              NaN\n",
              "Honda        76000.0\n",
              "Jaguar           NaN\n",
              "Lacetti      40000.0\n",
              "MERCEDES         NaN\n",
              "Malibu       80000.0\n",
              "Mazda       104000.0\n",
              "Toyota       90000.0\n",
              "dtype: float64"
            ]
          },
          "metadata": {},
          "execution_count": 18
        }
      ]
    },
    {
      "cell_type": "markdown",
      "source": [
        "Series ga nom berish"
      ],
      "metadata": {
        "id": "PxLHrq79l7-p"
      }
    },
    {
      "cell_type": "code",
      "source": [
        "cars2.name = 'Avtosalon'\n",
        "cars2"
      ],
      "metadata": {
        "colab": {
          "base_uri": "https://localhost:8080/"
        },
        "id": "FZkAtFEbmAOK",
        "outputId": "04971b79-21a3-47a0-ed71-6d2bddf18f9a"
      },
      "execution_count": null,
      "outputs": [
        {
          "output_type": "execute_result",
          "data": {
            "text/plain": [
              "Honda       38000.0\n",
              "Mazda       52000.0\n",
              "Lacetti     20000.0\n",
              "Jaguar          NaN\n",
              "Malibu      40000.0\n",
              "Toyota      45000.0\n",
              "BMW             NaN\n",
              "MERCEDES        NaN\n",
              "Name: Avtosalon, dtype: float64"
            ]
          },
          "metadata": {},
          "execution_count": 20
        }
      ]
    },
    {
      "cell_type": "markdown",
      "source": [
        "Index ga nom berish"
      ],
      "metadata": {
        "id": "9bod9FFCmS2Z"
      }
    },
    {
      "cell_type": "code",
      "source": [
        "cars2.index.name = 'Modellar'\n",
        "cars2"
      ],
      "metadata": {
        "colab": {
          "base_uri": "https://localhost:8080/"
        },
        "id": "eEVW1tqKmXjS",
        "outputId": "c712983a-1786-46b5-b69c-f623c55ebc5a"
      },
      "execution_count": null,
      "outputs": [
        {
          "output_type": "execute_result",
          "data": {
            "text/plain": [
              "Modellar\n",
              "Honda       38000.0\n",
              "Mazda       52000.0\n",
              "Lacetti     20000.0\n",
              "Jaguar          NaN\n",
              "Malibu      40000.0\n",
              "Toyota      45000.0\n",
              "BMW             NaN\n",
              "MERCEDES        NaN\n",
              "Name: Avtosalon, dtype: float64"
            ]
          },
          "metadata": {},
          "execution_count": 22
        }
      ]
    },
    {
      "cell_type": "markdown",
      "source": [
        "## `Series` obyektiga oid ba'zi parametrlar va metodlar"
      ],
      "metadata": {
        "id": "eku53iTZncw4"
      }
    },
    {
      "cell_type": "code",
      "source": [
        "cars2.index # indekslar"
      ],
      "metadata": {
        "colab": {
          "base_uri": "https://localhost:8080/"
        },
        "id": "Nk4hmdMlneKu",
        "outputId": "fbcb8b8a-0927-46d1-996c-56b632eda820"
      },
      "execution_count": null,
      "outputs": [
        {
          "output_type": "execute_result",
          "data": {
            "text/plain": [
              "Index(['Honda', 'Mazda', 'Lacetti', 'Jaguar', 'Malibu', 'Toyota', 'BMW',\n",
              "       'MERCEDES'],\n",
              "      dtype='object', name='Modellar')"
            ]
          },
          "metadata": {},
          "execution_count": 23
        }
      ]
    },
    {
      "cell_type": "code",
      "source": [
        "cars2.values # qiymatlar"
      ],
      "metadata": {
        "colab": {
          "base_uri": "https://localhost:8080/"
        },
        "id": "PEC94N7NnpPx",
        "outputId": "feb43c85-84b4-445a-f34f-249498ff4ece"
      },
      "execution_count": null,
      "outputs": [
        {
          "output_type": "execute_result",
          "data": {
            "text/plain": [
              "array([38000., 52000., 20000.,    nan, 40000., 45000.,    nan,    nan])"
            ]
          },
          "metadata": {},
          "execution_count": 25
        }
      ]
    },
    {
      "cell_type": "code",
      "source": [
        "cars2.hasnans # NaN qiymatlar bor (True) yo'qligi (False)"
      ],
      "metadata": {
        "colab": {
          "base_uri": "https://localhost:8080/"
        },
        "id": "Vtwgwrjwnyxp",
        "outputId": "0acb05d6-e050-4648-e5ad-6ed16d321bf9"
      },
      "execution_count": null,
      "outputs": [
        {
          "output_type": "execute_result",
          "data": {
            "text/plain": [
              "True"
            ]
          },
          "metadata": {},
          "execution_count": 26
        }
      ]
    },
    {
      "cell_type": "code",
      "source": [
        "cars2.dtype # qiymatlarning ma'lumot turi"
      ],
      "metadata": {
        "colab": {
          "base_uri": "https://localhost:8080/"
        },
        "id": "Eh_AUCAAn76x",
        "outputId": "028ee09f-6623-4e51-eef1-fdf82dfe52a5"
      },
      "execution_count": null,
      "outputs": [
        {
          "output_type": "execute_result",
          "data": {
            "text/plain": [
              "dtype('float64')"
            ]
          },
          "metadata": {},
          "execution_count": 27
        }
      ]
    },
    {
      "cell_type": "code",
      "source": [
        "cars2.is_unique # qiymatlar takrorlanmas ekanini tekshirish"
      ],
      "metadata": {
        "colab": {
          "base_uri": "https://localhost:8080/"
        },
        "id": "l7gCdESwoCP3",
        "outputId": "58039fab-e738-49ae-d20c-f85844e21f4e"
      },
      "execution_count": null,
      "outputs": [
        {
          "output_type": "execute_result",
          "data": {
            "text/plain": [
              "False"
            ]
          },
          "metadata": {},
          "execution_count": 28
        }
      ]
    },
    {
      "cell_type": "code",
      "source": [
        "cars2.shape # Series hajm"
      ],
      "metadata": {
        "colab": {
          "base_uri": "https://localhost:8080/"
        },
        "id": "g3U9FEsPoOfw",
        "outputId": "08329ec4-623b-46d0-cec9-e96218e790e4"
      },
      "execution_count": null,
      "outputs": [
        {
          "output_type": "execute_result",
          "data": {
            "text/plain": [
              "(8,)"
            ]
          },
          "metadata": {},
          "execution_count": 29
        }
      ]
    },
    {
      "cell_type": "code",
      "source": [
        "cars2.size # Series hajmi"
      ],
      "metadata": {
        "colab": {
          "base_uri": "https://localhost:8080/"
        },
        "id": "44MU-2Epon7c",
        "outputId": "7285d07e-36d2-4695-ae89-ea4a1c7c1443"
      },
      "execution_count": null,
      "outputs": [
        {
          "output_type": "execute_result",
          "data": {
            "text/plain": [
              "8"
            ]
          },
          "metadata": {},
          "execution_count": 30
        }
      ]
    },
    {
      "cell_type": "code",
      "source": [
        "cars2.iloc[2] # ma'lumotlarga indeks tartib raqami bo'yicha murojaat qilish"
      ],
      "metadata": {
        "colab": {
          "base_uri": "https://localhost:8080/"
        },
        "id": "WTZQYUMioxD6",
        "outputId": "fd488a7b-1204-41e1-fe76-3dc665af15d8"
      },
      "execution_count": null,
      "outputs": [
        {
          "output_type": "execute_result",
          "data": {
            "text/plain": [
              "20000.0"
            ]
          },
          "metadata": {},
          "execution_count": 31
        }
      ]
    },
    {
      "cell_type": "code",
      "source": [
        "cars2.iloc[-1]"
      ],
      "metadata": {
        "colab": {
          "base_uri": "https://localhost:8080/"
        },
        "id": "LcoERgVKpLyG",
        "outputId": "ece78cce-40ec-4cfb-c87a-f2c91645a450"
      },
      "execution_count": null,
      "outputs": [
        {
          "output_type": "execute_result",
          "data": {
            "text/plain": [
              "nan"
            ]
          },
          "metadata": {},
          "execution_count": 32
        }
      ]
    },
    {
      "cell_type": "code",
      "source": [
        "cars2['Honda'] # ma'lumotlarga indeks bo'yicha murojaat qilish"
      ],
      "metadata": {
        "colab": {
          "base_uri": "https://localhost:8080/"
        },
        "id": "4voxgDlwpXB3",
        "outputId": "47a0f38e-f596-46b1-e43f-c4aee88cdd61"
      },
      "execution_count": null,
      "outputs": [
        {
          "output_type": "execute_result",
          "data": {
            "text/plain": [
              "38000.0"
            ]
          },
          "metadata": {},
          "execution_count": 33
        }
      ]
    },
    {
      "cell_type": "code",
      "source": [
        "cars2.loc['Toyota'] # ma'lumotlarga indeks bo'yicha murojaat qilish"
      ],
      "metadata": {
        "colab": {
          "base_uri": "https://localhost:8080/"
        },
        "id": "sAtv2jXopnev",
        "outputId": "c369a718-b952-4855-e628-7ac5e72458e3"
      },
      "execution_count": null,
      "outputs": [
        {
          "output_type": "execute_result",
          "data": {
            "text/plain": [
              "45000.0"
            ]
          },
          "metadata": {},
          "execution_count": 34
        }
      ]
    },
    {
      "cell_type": "code",
      "source": [
        "cars2.max() # max qiymat"
      ],
      "metadata": {
        "colab": {
          "base_uri": "https://localhost:8080/"
        },
        "id": "CQYi0LjBpv5g",
        "outputId": "1265f689-b14c-4e39-fcbe-708d61323045"
      },
      "execution_count": null,
      "outputs": [
        {
          "output_type": "execute_result",
          "data": {
            "text/plain": [
              "52000.0"
            ]
          },
          "metadata": {},
          "execution_count": 35
        }
      ]
    },
    {
      "cell_type": "code",
      "source": [
        "cars2.min() # min qiymat"
      ],
      "metadata": {
        "colab": {
          "base_uri": "https://localhost:8080/"
        },
        "id": "0D-4N1f7p14e",
        "outputId": "06634afb-960d-40b6-fcc8-615d1ffe3dfa"
      },
      "execution_count": null,
      "outputs": [
        {
          "output_type": "execute_result",
          "data": {
            "text/plain": [
              "20000.0"
            ]
          },
          "metadata": {},
          "execution_count": 36
        }
      ]
    },
    {
      "cell_type": "code",
      "source": [
        "cars2.mean() # o'rtacha qiymat"
      ],
      "metadata": {
        "colab": {
          "base_uri": "https://localhost:8080/"
        },
        "id": "pDI4NArvp74y",
        "outputId": "1882f0fa-7b48-468c-dc50-3437d1fb90b1"
      },
      "execution_count": null,
      "outputs": [
        {
          "output_type": "execute_result",
          "data": {
            "text/plain": [
              "39000.0"
            ]
          },
          "metadata": {},
          "execution_count": 37
        }
      ]
    },
    {
      "cell_type": "markdown",
      "source": [
        "Amaliyot"
      ],
      "metadata": {
        "id": "eLouRQtpsRmT"
      }
    },
    {
      "cell_type": "code",
      "source": [
        "\n",
        "# Matnli ro'yxat asosida Series yaratish\n",
        "data = {\"Olma\": 15000, \"Anor\": 20000, \"Gilos\":30000, \"Nok\":10000, \"Shaftoli\":12000}\n",
        "series = Series(data)\n",
        "\n",
        "print(series)\n"
      ],
      "metadata": {
        "colab": {
          "base_uri": "https://localhost:8080/"
        },
        "id": "LDCLDQuDsb4K",
        "outputId": "9437dd01-c56c-4113-d4f3-5d41a2ca0987"
      },
      "execution_count": null,
      "outputs": [
        {
          "output_type": "stream",
          "name": "stdout",
          "text": [
            "Olma        15000\n",
            "Anor        20000\n",
            "Gilos       30000\n",
            "Nok         10000\n",
            "Shaftoli    12000\n",
            "dtype: int64\n"
          ]
        }
      ]
    },
    {
      "cell_type": "code",
      "source": [
        "mevalar = ['anjir', 'uzum', 'banan', 'qulpunay', 'tarvuz']\n",
        "mevalar"
      ],
      "metadata": {
        "colab": {
          "base_uri": "https://localhost:8080/"
        },
        "id": "eGNyVCorsiOK",
        "outputId": "b66dfca4-13fe-4046-d833-017294eb059f"
      },
      "execution_count": null,
      "outputs": [
        {
          "output_type": "execute_result",
          "data": {
            "text/plain": [
              "['anjir', 'uzum', 'banan', 'qulpunay', 'tarvuz']"
            ]
          },
          "metadata": {},
          "execution_count": 49
        }
      ]
    },
    {
      "cell_type": "code",
      "source": [
        "mevalar2 = Series(data, index=mevalar)\n",
        "mevalar2"
      ],
      "metadata": {
        "colab": {
          "base_uri": "https://localhost:8080/"
        },
        "id": "5GRXFnpIwDqQ",
        "outputId": "d43cea35-1d5a-4aab-d15d-09f99c51a6ba"
      },
      "execution_count": null,
      "outputs": [
        {
          "output_type": "execute_result",
          "data": {
            "text/plain": [
              "anjir      NaN\n",
              "uzum       NaN\n",
              "banan      NaN\n",
              "qulpunay   NaN\n",
              "tarvuz     NaN\n",
              "dtype: float64"
            ]
          },
          "metadata": {},
          "execution_count": 51
        }
      ]
    }
  ]
}