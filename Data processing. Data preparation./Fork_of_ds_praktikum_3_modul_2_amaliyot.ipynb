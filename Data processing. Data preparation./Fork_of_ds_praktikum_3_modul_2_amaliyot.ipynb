{
  "metadata": {
    "kernelspec": {
      "language": "python",
      "display_name": "Python 3",
      "name": "python3"
    },
    "language_info": {
      "name": "python",
      "version": "3.7.10",
      "mimetype": "text/x-python",
      "codemirror_mode": {
        "name": "ipython",
        "version": 3
      },
      "pygments_lexer": "ipython3",
      "nbconvert_exporter": "python",
      "file_extension": ".py"
    },
    "kaggle": {
      "accelerator": "none",
      "dataSources": [
        {
          "sourceId": 38454,
          "sourceType": "datasetVersion",
          "datasetId": 2709
        },
        {
          "sourceId": 2825814,
          "sourceType": "datasetVersion",
          "datasetId": 1728362
        }
      ],
      "dockerImageVersionId": 30145,
      "isInternetEnabled": true,
      "language": "python",
      "sourceType": "notebook",
      "isGpuEnabled": false
    },
    "colab": {
      "name": "Fork of ds-praktikum-3-modul-2-amaliyot",
      "provenance": []
    }
  },
  "nbformat_minor": 0,
  "nbformat": 4,
  "cells": [
    {
      "source": [
        "# IMPORTANT: RUN THIS CELL IN ORDER TO IMPORT YOUR KAGGLE DATA SOURCES,\n",
        "# THEN FEEL FREE TO DELETE THIS CELL.\n",
        "# NOTE: THIS NOTEBOOK ENVIRONMENT DIFFERS FROM KAGGLE'S PYTHON\n",
        "# ENVIRONMENT SO THERE MAY BE MISSING LIBRARIES USED BY YOUR\n",
        "# NOTEBOOK.\n",
        "import kagglehub\n",
        "dansbecker_melbourne_housing_snapshot_path = kagglehub.dataset_download('dansbecker/melbourne-housing-snapshot')\n",
        "\n",
        "print('Data source import complete.')\n"
      ],
      "metadata": {
        "id": "-LJpoquP_OAy"
      },
      "cell_type": "code",
      "outputs": [],
      "execution_count": null
    },
    {
      "cell_type": "code",
      "source": [
        "# This Python 3 environment comes with many helpful analytics libraries installed\n",
        "# It is defined by the kaggle/python Docker image: https://github.com/kaggle/docker-python\n",
        "# For example, here's several helpful packages to load\n",
        "\n",
        "import numpy as np # linear algebra\n",
        "import pandas as pd # data processing, CSV file I/O (e.g. pd.read_csv)\n",
        "\n",
        "# Input data files are available in the read-only \"../input/\" directory\n",
        "# For example, running this (by clicking run or pressing Shift+Enter) will list all files under the input directory\n",
        "\n",
        "import os\n",
        "for dirname, _, filenames in os.walk('/kaggle/input'):\n",
        "    for filename in filenames:\n",
        "        print(os.path.join(dirname, filename))\n",
        "\n",
        "# You can write up to 20GB to the current directory (/kaggle/working/) that gets preserved as output when you create a version using \"Save & Run All\"\n",
        "# You can also write temporary files to /kaggle/temp/, but they won't be saved outside of the current session"
      ],
      "metadata": {
        "_uuid": "8f2839f25d086af736a60e9eeb907d3b93b6e0e5",
        "_cell_guid": "b1076dfc-b9ad-4769-8c92-a6c4dae69d19",
        "execution": {
          "iopub.status.busy": "2025-03-16T11:36:24.829863Z",
          "iopub.execute_input": "2025-03-16T11:36:24.830213Z",
          "iopub.status.idle": "2025-03-16T11:36:24.860571Z",
          "shell.execute_reply.started": "2025-03-16T11:36:24.830114Z",
          "shell.execute_reply": "2025-03-16T11:36:24.859653Z"
        },
        "trusted": true,
        "id": "wSrPRah4_OA2",
        "outputId": "a53ccb1d-8ef7-4b8c-884d-2fac047b90d3"
      },
      "outputs": [
        {
          "name": "stdout",
          "text": "/kaggle/input/melbourne-housing-snapshot/melb_data.csv\n",
          "output_type": "stream"
        }
      ],
      "execution_count": null
    },
    {
      "cell_type": "markdown",
      "source": [
        "## Avvalgi amaliyotda `GitHub`ga yuklangan `melb_data.csv` faylni `df` ga chaqirib oling"
      ],
      "metadata": {
        "id": "BeuE2MmB_OA3"
      }
    },
    {
      "cell_type": "code",
      "source": [
        "df = pd.read_csv(\"https://github.com/muslimmadrakhimov/practice-datasets/blob/main/melb_data.csv?raw=true\")\n",
        "df.head()"
      ],
      "metadata": {
        "trusted": true,
        "execution": {
          "iopub.status.busy": "2025-03-16T11:43:24.122475Z",
          "iopub.execute_input": "2025-03-16T11:43:24.122749Z",
          "iopub.status.idle": "2025-03-16T11:43:25.315512Z",
          "shell.execute_reply.started": "2025-03-16T11:43:24.12272Z",
          "shell.execute_reply": "2025-03-16T11:43:25.314855Z"
        },
        "id": "TgtNhDoa_OA4",
        "outputId": "97910cf2-1417-48df-c000-ff158dc8ad0b"
      },
      "outputs": [
        {
          "execution_count": 3,
          "output_type": "execute_result",
          "data": {
            "text/plain": "       Suburb           Address  Rooms Type      Price Method SellerG  \\\n0  Abbotsford      85 Turner St      2    h  1480000.0      S  Biggin   \n1  Abbotsford   25 Bloomburg St      2    h  1035000.0      S  Biggin   \n2  Abbotsford      5 Charles St      3    h  1465000.0     SP  Biggin   \n3  Abbotsford  40 Federation La      3    h   850000.0     PI  Biggin   \n4  Abbotsford       55a Park St      4    h  1600000.0     VB  Nelson   \n\n        Date  Distance  Postcode  ...  Bathroom  Car  Landsize  BuildingArea  \\\n0  3/12/2016       2.5    3067.0  ...       1.0  1.0     202.0           NaN   \n1  4/02/2016       2.5    3067.0  ...       1.0  0.0     156.0          79.0   \n2  4/03/2017       2.5    3067.0  ...       2.0  0.0     134.0         150.0   \n3  4/03/2017       2.5    3067.0  ...       2.0  1.0      94.0           NaN   \n4  4/06/2016       2.5    3067.0  ...       1.0  2.0     120.0         142.0   \n\n   YearBuilt  CouncilArea Lattitude  Longtitude             Regionname  \\\n0        NaN        Yarra  -37.7996    144.9984  Northern Metropolitan   \n1     1900.0        Yarra  -37.8079    144.9934  Northern Metropolitan   \n2     1900.0        Yarra  -37.8093    144.9944  Northern Metropolitan   \n3        NaN        Yarra  -37.7969    144.9969  Northern Metropolitan   \n4     2014.0        Yarra  -37.8072    144.9941  Northern Metropolitan   \n\n  Propertycount  \n0        4019.0  \n1        4019.0  \n2        4019.0  \n3        4019.0  \n4        4019.0  \n\n[5 rows x 21 columns]",
            "text/html": "<div>\n<style scoped>\n    .dataframe tbody tr th:only-of-type {\n        vertical-align: middle;\n    }\n\n    .dataframe tbody tr th {\n        vertical-align: top;\n    }\n\n    .dataframe thead th {\n        text-align: right;\n    }\n</style>\n<table border=\"1\" class=\"dataframe\">\n  <thead>\n    <tr style=\"text-align: right;\">\n      <th></th>\n      <th>Suburb</th>\n      <th>Address</th>\n      <th>Rooms</th>\n      <th>Type</th>\n      <th>Price</th>\n      <th>Method</th>\n      <th>SellerG</th>\n      <th>Date</th>\n      <th>Distance</th>\n      <th>Postcode</th>\n      <th>...</th>\n      <th>Bathroom</th>\n      <th>Car</th>\n      <th>Landsize</th>\n      <th>BuildingArea</th>\n      <th>YearBuilt</th>\n      <th>CouncilArea</th>\n      <th>Lattitude</th>\n      <th>Longtitude</th>\n      <th>Regionname</th>\n      <th>Propertycount</th>\n    </tr>\n  </thead>\n  <tbody>\n    <tr>\n      <th>0</th>\n      <td>Abbotsford</td>\n      <td>85 Turner St</td>\n      <td>2</td>\n      <td>h</td>\n      <td>1480000.0</td>\n      <td>S</td>\n      <td>Biggin</td>\n      <td>3/12/2016</td>\n      <td>2.5</td>\n      <td>3067.0</td>\n      <td>...</td>\n      <td>1.0</td>\n      <td>1.0</td>\n      <td>202.0</td>\n      <td>NaN</td>\n      <td>NaN</td>\n      <td>Yarra</td>\n      <td>-37.7996</td>\n      <td>144.9984</td>\n      <td>Northern Metropolitan</td>\n      <td>4019.0</td>\n    </tr>\n    <tr>\n      <th>1</th>\n      <td>Abbotsford</td>\n      <td>25 Bloomburg St</td>\n      <td>2</td>\n      <td>h</td>\n      <td>1035000.0</td>\n      <td>S</td>\n      <td>Biggin</td>\n      <td>4/02/2016</td>\n      <td>2.5</td>\n      <td>3067.0</td>\n      <td>...</td>\n      <td>1.0</td>\n      <td>0.0</td>\n      <td>156.0</td>\n      <td>79.0</td>\n      <td>1900.0</td>\n      <td>Yarra</td>\n      <td>-37.8079</td>\n      <td>144.9934</td>\n      <td>Northern Metropolitan</td>\n      <td>4019.0</td>\n    </tr>\n    <tr>\n      <th>2</th>\n      <td>Abbotsford</td>\n      <td>5 Charles St</td>\n      <td>3</td>\n      <td>h</td>\n      <td>1465000.0</td>\n      <td>SP</td>\n      <td>Biggin</td>\n      <td>4/03/2017</td>\n      <td>2.5</td>\n      <td>3067.0</td>\n      <td>...</td>\n      <td>2.0</td>\n      <td>0.0</td>\n      <td>134.0</td>\n      <td>150.0</td>\n      <td>1900.0</td>\n      <td>Yarra</td>\n      <td>-37.8093</td>\n      <td>144.9944</td>\n      <td>Northern Metropolitan</td>\n      <td>4019.0</td>\n    </tr>\n    <tr>\n      <th>3</th>\n      <td>Abbotsford</td>\n      <td>40 Federation La</td>\n      <td>3</td>\n      <td>h</td>\n      <td>850000.0</td>\n      <td>PI</td>\n      <td>Biggin</td>\n      <td>4/03/2017</td>\n      <td>2.5</td>\n      <td>3067.0</td>\n      <td>...</td>\n      <td>2.0</td>\n      <td>1.0</td>\n      <td>94.0</td>\n      <td>NaN</td>\n      <td>NaN</td>\n      <td>Yarra</td>\n      <td>-37.7969</td>\n      <td>144.9969</td>\n      <td>Northern Metropolitan</td>\n      <td>4019.0</td>\n    </tr>\n    <tr>\n      <th>4</th>\n      <td>Abbotsford</td>\n      <td>55a Park St</td>\n      <td>4</td>\n      <td>h</td>\n      <td>1600000.0</td>\n      <td>VB</td>\n      <td>Nelson</td>\n      <td>4/06/2016</td>\n      <td>2.5</td>\n      <td>3067.0</td>\n      <td>...</td>\n      <td>1.0</td>\n      <td>2.0</td>\n      <td>120.0</td>\n      <td>142.0</td>\n      <td>2014.0</td>\n      <td>Yarra</td>\n      <td>-37.8072</td>\n      <td>144.9941</td>\n      <td>Northern Metropolitan</td>\n      <td>4019.0</td>\n    </tr>\n  </tbody>\n</table>\n<p>5 rows × 21 columns</p>\n</div>"
          },
          "metadata": {}
        }
      ],
      "execution_count": null
    },
    {
      "cell_type": "code",
      "source": [
        "# Mening javobim\n",
        "df = pd.read_csv(\"https://github.com/anvarnarz/praktikum_datasets/blob/main/melb_data.csv?raw=true\")\n",
        "df.head()"
      ],
      "metadata": {
        "_kg_hide-input": true,
        "execution": {
          "iopub.status.busy": "2021-11-22T11:53:53.380971Z",
          "iopub.execute_input": "2021-11-22T11:53:53.381637Z",
          "iopub.status.idle": "2021-11-22T11:53:54.490448Z",
          "shell.execute_reply.started": "2021-11-22T11:53:53.381591Z",
          "shell.execute_reply": "2021-11-22T11:53:54.489465Z"
        },
        "trusted": true,
        "id": "IdK9D1Qg_OA5"
      },
      "outputs": [],
      "execution_count": null
    },
    {
      "cell_type": "markdown",
      "source": [
        "Yuqoridagi Dataframe Melburn shahri uchun sotuvdagi uylar haqida m'lumotlarni jamlagan.\n",
        "\n",
        "Quyida jadvalning ba'zi sutunlari tarjimasi berilgan (qolganini o'zingiz Google yordamida tarjima qilishingiz mumkin):\n",
        "- `Room` - xonalar soni\n",
        "- `Type` - uyning turi (h - villa/kottej/hovli; u - kvartira; t - shahardagi hovli)\n",
        "- `Price` - narx\n",
        "- `Bathroom` - tualet-vanna\n",
        "- `Landsize` - yerning maydoni (hovli uchun)\n",
        "- `BuildingArea` - Bino qurilgan yerning maydoni\n",
        "- `YearBuilt` - qurilgan yili\n",
        "- `Lattitude` va `Longitude` - GPS kordinatalar\n",
        "- `Regionname` - Region"
      ],
      "metadata": {
        "id": "oNw-3n0s_OA5"
      }
    },
    {
      "cell_type": "markdown",
      "source": [
        "# 🔺 DIQQAT!\n",
        "#### **Agar alohida aytilmagan bo'lsa, `df`ga kiritilgan o'zgartirishlarni saqlamang (`inplace=False`)**"
      ],
      "metadata": {
        "id": "fEOFrc51_OA5"
      }
    },
    {
      "cell_type": "markdown",
      "source": [
        "## 1-VAZIFA. `df` dagi barcha ustunlardagi`NaN` qiymatlar sonini chiqaring"
      ],
      "metadata": {
        "id": "QBTJXYoI_OA6"
      }
    },
    {
      "cell_type": "code",
      "source": [
        "#Javobingizni shu yerga yozing\n",
        "df.isna().sum()"
      ],
      "metadata": {
        "execution": {
          "iopub.status.busy": "2025-03-16T11:47:38.388239Z",
          "iopub.execute_input": "2025-03-16T11:47:38.388943Z",
          "iopub.status.idle": "2025-03-16T11:47:38.403472Z",
          "shell.execute_reply.started": "2025-03-16T11:47:38.388904Z",
          "shell.execute_reply": "2025-03-16T11:47:38.402608Z"
        },
        "trusted": true,
        "id": "oEoysm0Q_OA6",
        "outputId": "2bfaf572-2e53-4da6-e831-6e51cde65005"
      },
      "outputs": [
        {
          "execution_count": 4,
          "output_type": "execute_result",
          "data": {
            "text/plain": "Suburb              0\nAddress             0\nRooms               0\nType                0\nPrice               0\nMethod              0\nSellerG             0\nDate                0\nDistance            0\nPostcode            0\nBedroom2            0\nBathroom            0\nCar                62\nLandsize            0\nBuildingArea     6450\nYearBuilt        5375\nCouncilArea      1369\nLattitude           0\nLongtitude          0\nRegionname          0\nPropertycount       0\ndtype: int64"
          },
          "metadata": {}
        }
      ],
      "execution_count": null
    },
    {
      "cell_type": "markdown",
      "source": [
        "## 2-VAZIFA. `df` barcha `NaN` qiymatlarni 0 bilan almashtiring"
      ],
      "metadata": {
        "id": "iWTf3LlE_OA6"
      }
    },
    {
      "cell_type": "code",
      "source": [
        "#Javobingizni shu yerga yozing\n",
        "df = df.fillna(0)\n",
        "df.head()"
      ],
      "metadata": {
        "execution": {
          "iopub.status.busy": "2025-03-16T11:49:14.054268Z",
          "iopub.execute_input": "2025-03-16T11:49:14.054553Z",
          "iopub.status.idle": "2025-03-16T11:49:14.093906Z",
          "shell.execute_reply.started": "2025-03-16T11:49:14.054521Z",
          "shell.execute_reply": "2025-03-16T11:49:14.093063Z"
        },
        "trusted": true,
        "id": "DtAWnD7B_OA7",
        "outputId": "f3ebcd1c-9d66-4358-ea2b-27ae8c5a52c8"
      },
      "outputs": [
        {
          "execution_count": 6,
          "output_type": "execute_result",
          "data": {
            "text/plain": "       Suburb           Address  Rooms Type      Price Method SellerG  \\\n0  Abbotsford      85 Turner St      2    h  1480000.0      S  Biggin   \n1  Abbotsford   25 Bloomburg St      2    h  1035000.0      S  Biggin   \n2  Abbotsford      5 Charles St      3    h  1465000.0     SP  Biggin   \n3  Abbotsford  40 Federation La      3    h   850000.0     PI  Biggin   \n4  Abbotsford       55a Park St      4    h  1600000.0     VB  Nelson   \n\n        Date  Distance  Postcode  ...  Bathroom  Car  Landsize  BuildingArea  \\\n0  3/12/2016       2.5    3067.0  ...       1.0  1.0     202.0           0.0   \n1  4/02/2016       2.5    3067.0  ...       1.0  0.0     156.0          79.0   \n2  4/03/2017       2.5    3067.0  ...       2.0  0.0     134.0         150.0   \n3  4/03/2017       2.5    3067.0  ...       2.0  1.0      94.0           0.0   \n4  4/06/2016       2.5    3067.0  ...       1.0  2.0     120.0         142.0   \n\n   YearBuilt  CouncilArea Lattitude  Longtitude             Regionname  \\\n0        0.0        Yarra  -37.7996    144.9984  Northern Metropolitan   \n1     1900.0        Yarra  -37.8079    144.9934  Northern Metropolitan   \n2     1900.0        Yarra  -37.8093    144.9944  Northern Metropolitan   \n3        0.0        Yarra  -37.7969    144.9969  Northern Metropolitan   \n4     2014.0        Yarra  -37.8072    144.9941  Northern Metropolitan   \n\n  Propertycount  \n0        4019.0  \n1        4019.0  \n2        4019.0  \n3        4019.0  \n4        4019.0  \n\n[5 rows x 21 columns]",
            "text/html": "<div>\n<style scoped>\n    .dataframe tbody tr th:only-of-type {\n        vertical-align: middle;\n    }\n\n    .dataframe tbody tr th {\n        vertical-align: top;\n    }\n\n    .dataframe thead th {\n        text-align: right;\n    }\n</style>\n<table border=\"1\" class=\"dataframe\">\n  <thead>\n    <tr style=\"text-align: right;\">\n      <th></th>\n      <th>Suburb</th>\n      <th>Address</th>\n      <th>Rooms</th>\n      <th>Type</th>\n      <th>Price</th>\n      <th>Method</th>\n      <th>SellerG</th>\n      <th>Date</th>\n      <th>Distance</th>\n      <th>Postcode</th>\n      <th>...</th>\n      <th>Bathroom</th>\n      <th>Car</th>\n      <th>Landsize</th>\n      <th>BuildingArea</th>\n      <th>YearBuilt</th>\n      <th>CouncilArea</th>\n      <th>Lattitude</th>\n      <th>Longtitude</th>\n      <th>Regionname</th>\n      <th>Propertycount</th>\n    </tr>\n  </thead>\n  <tbody>\n    <tr>\n      <th>0</th>\n      <td>Abbotsford</td>\n      <td>85 Turner St</td>\n      <td>2</td>\n      <td>h</td>\n      <td>1480000.0</td>\n      <td>S</td>\n      <td>Biggin</td>\n      <td>3/12/2016</td>\n      <td>2.5</td>\n      <td>3067.0</td>\n      <td>...</td>\n      <td>1.0</td>\n      <td>1.0</td>\n      <td>202.0</td>\n      <td>0.0</td>\n      <td>0.0</td>\n      <td>Yarra</td>\n      <td>-37.7996</td>\n      <td>144.9984</td>\n      <td>Northern Metropolitan</td>\n      <td>4019.0</td>\n    </tr>\n    <tr>\n      <th>1</th>\n      <td>Abbotsford</td>\n      <td>25 Bloomburg St</td>\n      <td>2</td>\n      <td>h</td>\n      <td>1035000.0</td>\n      <td>S</td>\n      <td>Biggin</td>\n      <td>4/02/2016</td>\n      <td>2.5</td>\n      <td>3067.0</td>\n      <td>...</td>\n      <td>1.0</td>\n      <td>0.0</td>\n      <td>156.0</td>\n      <td>79.0</td>\n      <td>1900.0</td>\n      <td>Yarra</td>\n      <td>-37.8079</td>\n      <td>144.9934</td>\n      <td>Northern Metropolitan</td>\n      <td>4019.0</td>\n    </tr>\n    <tr>\n      <th>2</th>\n      <td>Abbotsford</td>\n      <td>5 Charles St</td>\n      <td>3</td>\n      <td>h</td>\n      <td>1465000.0</td>\n      <td>SP</td>\n      <td>Biggin</td>\n      <td>4/03/2017</td>\n      <td>2.5</td>\n      <td>3067.0</td>\n      <td>...</td>\n      <td>2.0</td>\n      <td>0.0</td>\n      <td>134.0</td>\n      <td>150.0</td>\n      <td>1900.0</td>\n      <td>Yarra</td>\n      <td>-37.8093</td>\n      <td>144.9944</td>\n      <td>Northern Metropolitan</td>\n      <td>4019.0</td>\n    </tr>\n    <tr>\n      <th>3</th>\n      <td>Abbotsford</td>\n      <td>40 Federation La</td>\n      <td>3</td>\n      <td>h</td>\n      <td>850000.0</td>\n      <td>PI</td>\n      <td>Biggin</td>\n      <td>4/03/2017</td>\n      <td>2.5</td>\n      <td>3067.0</td>\n      <td>...</td>\n      <td>2.0</td>\n      <td>1.0</td>\n      <td>94.0</td>\n      <td>0.0</td>\n      <td>0.0</td>\n      <td>Yarra</td>\n      <td>-37.7969</td>\n      <td>144.9969</td>\n      <td>Northern Metropolitan</td>\n      <td>4019.0</td>\n    </tr>\n    <tr>\n      <th>4</th>\n      <td>Abbotsford</td>\n      <td>55a Park St</td>\n      <td>4</td>\n      <td>h</td>\n      <td>1600000.0</td>\n      <td>VB</td>\n      <td>Nelson</td>\n      <td>4/06/2016</td>\n      <td>2.5</td>\n      <td>3067.0</td>\n      <td>...</td>\n      <td>1.0</td>\n      <td>2.0</td>\n      <td>120.0</td>\n      <td>142.0</td>\n      <td>2014.0</td>\n      <td>Yarra</td>\n      <td>-37.8072</td>\n      <td>144.9941</td>\n      <td>Northern Metropolitan</td>\n      <td>4019.0</td>\n    </tr>\n  </tbody>\n</table>\n<p>5 rows × 21 columns</p>\n</div>"
          },
          "metadata": {}
        }
      ],
      "execution_count": null
    },
    {
      "cell_type": "markdown",
      "source": [
        "## 3-VAZIFA. Quyidagi 2 ustun uchun o'rta qiymatlarni hisoblang:\n",
        "- BuildingArea\n",
        "- YearBuilt (**butun son qaytishi kerak**)"
      ],
      "metadata": {
        "id": "0D8z3fXr_OA7"
      }
    },
    {
      "cell_type": "code",
      "source": [
        "#Javobingizni shu yerga yozing\n",
        "print(df['BuildingArea'].mean())\n",
        "print(df['YearBuilt'].mean())"
      ],
      "metadata": {
        "execution": {
          "iopub.status.busy": "2025-03-16T12:28:10.005986Z",
          "iopub.execute_input": "2025-03-16T12:28:10.006661Z",
          "iopub.status.idle": "2025-03-16T12:28:10.012414Z",
          "shell.execute_reply.started": "2025-03-16T12:28:10.006618Z",
          "shell.execute_reply": "2025-03-16T12:28:10.01158Z"
        },
        "trusted": true,
        "id": "QsD3VUqp_OA7",
        "outputId": "96f307e0-0d17-4731-be01-07d990d468d6"
      },
      "outputs": [
        {
          "name": "stdout",
          "text": "79.78861146539029\n1187.0569955817377\n",
          "output_type": "stream"
        }
      ],
      "execution_count": null
    },
    {
      "cell_type": "markdown",
      "source": [
        "**To'g'ri javob:**"
      ],
      "metadata": {
        "id": "wPut2iyw_OA7"
      }
    },
    {
      "cell_type": "code",
      "source": [
        "print(df['BuildingArea'].mean())\n",
        "print(int(df['YearBuilt'].mean()))"
      ],
      "metadata": {
        "_kg_hide-input": true,
        "_kg_hide-output": true,
        "execution": {
          "iopub.status.busy": "2025-03-16T11:51:47.236297Z",
          "iopub.execute_input": "2025-03-16T11:51:47.236582Z",
          "iopub.status.idle": "2025-03-16T11:51:47.242469Z",
          "shell.execute_reply.started": "2025-03-16T11:51:47.236553Z",
          "shell.execute_reply": "2025-03-16T11:51:47.241631Z"
        },
        "trusted": true,
        "id": "UIRrVfYF_OA8",
        "outputId": "8f8770cf-7064-4a73-c9eb-36c00beb69ac"
      },
      "outputs": [
        {
          "name": "stdout",
          "text": "79.78861146539029\n1187\n",
          "output_type": "stream"
        }
      ],
      "execution_count": null
    },
    {
      "cell_type": "markdown",
      "source": [
        "## 4-VAZIFA: `BuildingArea` va `YearBuilt` ustunlaridagi `NaN` qiymatlarni shu sutun uchun o'rta qiymatlar bilan almashtiring\n",
        "**DIQQAT!** `YearBuilt` ustuni qiymatlari butun son bo'lishi kerak"
      ],
      "metadata": {
        "id": "rThCAu3P_OA8"
      }
    },
    {
      "cell_type": "code",
      "source": [
        "#Javobingizni shu yerga yozing\n",
        "import pandas as pd\n",
        "\n",
        "# BuildingArea ustunidagi NaN qiymatlarni o'rtacha qiymat bilan almashtirish\n",
        "df[\"BuildingArea\"] = df[\"BuildingArea\"].fillna(df[\"BuildingArea\"].mean())\n",
        "\n",
        "# YearBuilt ustunidagi NaN qiymatlarni butun songa yaxlitlangan o'rtacha qiymat bilan almashtirish\n",
        "df[\"YearBuilt\"] = df[\"YearBuilt\"].fillna(round(df[\"YearBuilt\"].mean())).astype(int)\n",
        "\n",
        "# Natijani ko'rish\n",
        "print(df[[\"BuildingArea\", \"YearBuilt\"]].head())\n"
      ],
      "metadata": {
        "execution": {
          "iopub.status.busy": "2025-03-16T12:30:38.255205Z",
          "iopub.execute_input": "2025-03-16T12:30:38.255539Z",
          "iopub.status.idle": "2025-03-16T12:30:38.267293Z",
          "shell.execute_reply.started": "2025-03-16T12:30:38.255498Z",
          "shell.execute_reply": "2025-03-16T12:30:38.266392Z"
        },
        "trusted": true,
        "id": "pn7iJ-1D_OA8",
        "outputId": "d29a6793-0bd6-49ea-8e6e-c37129c993e1"
      },
      "outputs": [
        {
          "name": "stdout",
          "text": "   BuildingArea  YearBuilt\n0           0.0          0\n1          79.0       1900\n2         150.0       1900\n3           0.0          0\n4         142.0       2014\n",
          "output_type": "stream"
        }
      ],
      "execution_count": null
    },
    {
      "cell_type": "markdown",
      "source": [
        "**To'g'ri javob:**"
      ],
      "metadata": {
        "id": "eHUF0ynT_OA8"
      }
    },
    {
      "cell_type": "code",
      "source": [
        "df.fillna({'BuildingArea':df['BuildingArea'].mean(), 'YearBuilt':int(df['YearBuilt'].mean())})"
      ],
      "metadata": {
        "_kg_hide-input": true,
        "execution": {
          "iopub.status.busy": "2025-03-16T11:53:29.891131Z",
          "iopub.execute_input": "2025-03-16T11:53:29.891414Z",
          "iopub.status.idle": "2025-03-16T11:53:29.93785Z",
          "shell.execute_reply.started": "2025-03-16T11:53:29.891386Z",
          "shell.execute_reply": "2025-03-16T11:53:29.936972Z"
        },
        "trusted": true,
        "id": "K4g-HStk_OA8",
        "outputId": "4fa3b395-9ba0-4483-fb8e-903e80ee28c2"
      },
      "outputs": [
        {
          "execution_count": 9,
          "output_type": "execute_result",
          "data": {
            "text/plain": "              Suburb           Address  Rooms Type      Price Method  \\\n0         Abbotsford      85 Turner St      2    h  1480000.0      S   \n1         Abbotsford   25 Bloomburg St      2    h  1035000.0      S   \n2         Abbotsford      5 Charles St      3    h  1465000.0     SP   \n3         Abbotsford  40 Federation La      3    h   850000.0     PI   \n4         Abbotsford       55a Park St      4    h  1600000.0     VB   \n...              ...               ...    ...  ...        ...    ...   \n13575  Wheelers Hill      12 Strada Cr      4    h  1245000.0      S   \n13576   Williamstown     77 Merrett Dr      3    h  1031000.0     SP   \n13577   Williamstown       83 Power St      3    h  1170000.0      S   \n13578   Williamstown      96 Verdon St      4    h  2500000.0     PI   \n13579     Yarraville        6 Agnes St      4    h  1285000.0     SP   \n\n        SellerG        Date  Distance  Postcode  ...  Bathroom  Car  Landsize  \\\n0        Biggin   3/12/2016       2.5    3067.0  ...       1.0  1.0     202.0   \n1        Biggin   4/02/2016       2.5    3067.0  ...       1.0  0.0     156.0   \n2        Biggin   4/03/2017       2.5    3067.0  ...       2.0  0.0     134.0   \n3        Biggin   4/03/2017       2.5    3067.0  ...       2.0  1.0      94.0   \n4        Nelson   4/06/2016       2.5    3067.0  ...       1.0  2.0     120.0   \n...         ...         ...       ...       ...  ...       ...  ...       ...   \n13575     Barry  26/08/2017      16.7    3150.0  ...       2.0  2.0     652.0   \n13576  Williams  26/08/2017       6.8    3016.0  ...       2.0  2.0     333.0   \n13577     Raine  26/08/2017       6.8    3016.0  ...       2.0  4.0     436.0   \n13578   Sweeney  26/08/2017       6.8    3016.0  ...       1.0  5.0     866.0   \n13579   Village  26/08/2017       6.3    3013.0  ...       1.0  1.0     362.0   \n\n       BuildingArea  YearBuilt  CouncilArea Lattitude  Longtitude  \\\n0               0.0        0.0        Yarra -37.79960   144.99840   \n1              79.0     1900.0        Yarra -37.80790   144.99340   \n2             150.0     1900.0        Yarra -37.80930   144.99440   \n3               0.0        0.0        Yarra -37.79690   144.99690   \n4             142.0     2014.0        Yarra -37.80720   144.99410   \n...             ...        ...          ...       ...         ...   \n13575           0.0     1981.0            0 -37.90562   145.16761   \n13576         133.0     1995.0            0 -37.85927   144.87904   \n13577           0.0     1997.0            0 -37.85274   144.88738   \n13578         157.0     1920.0            0 -37.85908   144.89299   \n13579         112.0     1920.0            0 -37.81188   144.88449   \n\n                       Regionname Propertycount  \n0           Northern Metropolitan        4019.0  \n1           Northern Metropolitan        4019.0  \n2           Northern Metropolitan        4019.0  \n3           Northern Metropolitan        4019.0  \n4           Northern Metropolitan        4019.0  \n...                           ...           ...  \n13575  South-Eastern Metropolitan        7392.0  \n13576        Western Metropolitan        6380.0  \n13577        Western Metropolitan        6380.0  \n13578        Western Metropolitan        6380.0  \n13579        Western Metropolitan        6543.0  \n\n[13580 rows x 21 columns]",
            "text/html": "<div>\n<style scoped>\n    .dataframe tbody tr th:only-of-type {\n        vertical-align: middle;\n    }\n\n    .dataframe tbody tr th {\n        vertical-align: top;\n    }\n\n    .dataframe thead th {\n        text-align: right;\n    }\n</style>\n<table border=\"1\" class=\"dataframe\">\n  <thead>\n    <tr style=\"text-align: right;\">\n      <th></th>\n      <th>Suburb</th>\n      <th>Address</th>\n      <th>Rooms</th>\n      <th>Type</th>\n      <th>Price</th>\n      <th>Method</th>\n      <th>SellerG</th>\n      <th>Date</th>\n      <th>Distance</th>\n      <th>Postcode</th>\n      <th>...</th>\n      <th>Bathroom</th>\n      <th>Car</th>\n      <th>Landsize</th>\n      <th>BuildingArea</th>\n      <th>YearBuilt</th>\n      <th>CouncilArea</th>\n      <th>Lattitude</th>\n      <th>Longtitude</th>\n      <th>Regionname</th>\n      <th>Propertycount</th>\n    </tr>\n  </thead>\n  <tbody>\n    <tr>\n      <th>0</th>\n      <td>Abbotsford</td>\n      <td>85 Turner St</td>\n      <td>2</td>\n      <td>h</td>\n      <td>1480000.0</td>\n      <td>S</td>\n      <td>Biggin</td>\n      <td>3/12/2016</td>\n      <td>2.5</td>\n      <td>3067.0</td>\n      <td>...</td>\n      <td>1.0</td>\n      <td>1.0</td>\n      <td>202.0</td>\n      <td>0.0</td>\n      <td>0.0</td>\n      <td>Yarra</td>\n      <td>-37.79960</td>\n      <td>144.99840</td>\n      <td>Northern Metropolitan</td>\n      <td>4019.0</td>\n    </tr>\n    <tr>\n      <th>1</th>\n      <td>Abbotsford</td>\n      <td>25 Bloomburg St</td>\n      <td>2</td>\n      <td>h</td>\n      <td>1035000.0</td>\n      <td>S</td>\n      <td>Biggin</td>\n      <td>4/02/2016</td>\n      <td>2.5</td>\n      <td>3067.0</td>\n      <td>...</td>\n      <td>1.0</td>\n      <td>0.0</td>\n      <td>156.0</td>\n      <td>79.0</td>\n      <td>1900.0</td>\n      <td>Yarra</td>\n      <td>-37.80790</td>\n      <td>144.99340</td>\n      <td>Northern Metropolitan</td>\n      <td>4019.0</td>\n    </tr>\n    <tr>\n      <th>2</th>\n      <td>Abbotsford</td>\n      <td>5 Charles St</td>\n      <td>3</td>\n      <td>h</td>\n      <td>1465000.0</td>\n      <td>SP</td>\n      <td>Biggin</td>\n      <td>4/03/2017</td>\n      <td>2.5</td>\n      <td>3067.0</td>\n      <td>...</td>\n      <td>2.0</td>\n      <td>0.0</td>\n      <td>134.0</td>\n      <td>150.0</td>\n      <td>1900.0</td>\n      <td>Yarra</td>\n      <td>-37.80930</td>\n      <td>144.99440</td>\n      <td>Northern Metropolitan</td>\n      <td>4019.0</td>\n    </tr>\n    <tr>\n      <th>3</th>\n      <td>Abbotsford</td>\n      <td>40 Federation La</td>\n      <td>3</td>\n      <td>h</td>\n      <td>850000.0</td>\n      <td>PI</td>\n      <td>Biggin</td>\n      <td>4/03/2017</td>\n      <td>2.5</td>\n      <td>3067.0</td>\n      <td>...</td>\n      <td>2.0</td>\n      <td>1.0</td>\n      <td>94.0</td>\n      <td>0.0</td>\n      <td>0.0</td>\n      <td>Yarra</td>\n      <td>-37.79690</td>\n      <td>144.99690</td>\n      <td>Northern Metropolitan</td>\n      <td>4019.0</td>\n    </tr>\n    <tr>\n      <th>4</th>\n      <td>Abbotsford</td>\n      <td>55a Park St</td>\n      <td>4</td>\n      <td>h</td>\n      <td>1600000.0</td>\n      <td>VB</td>\n      <td>Nelson</td>\n      <td>4/06/2016</td>\n      <td>2.5</td>\n      <td>3067.0</td>\n      <td>...</td>\n      <td>1.0</td>\n      <td>2.0</td>\n      <td>120.0</td>\n      <td>142.0</td>\n      <td>2014.0</td>\n      <td>Yarra</td>\n      <td>-37.80720</td>\n      <td>144.99410</td>\n      <td>Northern Metropolitan</td>\n      <td>4019.0</td>\n    </tr>\n    <tr>\n      <th>...</th>\n      <td>...</td>\n      <td>...</td>\n      <td>...</td>\n      <td>...</td>\n      <td>...</td>\n      <td>...</td>\n      <td>...</td>\n      <td>...</td>\n      <td>...</td>\n      <td>...</td>\n      <td>...</td>\n      <td>...</td>\n      <td>...</td>\n      <td>...</td>\n      <td>...</td>\n      <td>...</td>\n      <td>...</td>\n      <td>...</td>\n      <td>...</td>\n      <td>...</td>\n      <td>...</td>\n    </tr>\n    <tr>\n      <th>13575</th>\n      <td>Wheelers Hill</td>\n      <td>12 Strada Cr</td>\n      <td>4</td>\n      <td>h</td>\n      <td>1245000.0</td>\n      <td>S</td>\n      <td>Barry</td>\n      <td>26/08/2017</td>\n      <td>16.7</td>\n      <td>3150.0</td>\n      <td>...</td>\n      <td>2.0</td>\n      <td>2.0</td>\n      <td>652.0</td>\n      <td>0.0</td>\n      <td>1981.0</td>\n      <td>0</td>\n      <td>-37.90562</td>\n      <td>145.16761</td>\n      <td>South-Eastern Metropolitan</td>\n      <td>7392.0</td>\n    </tr>\n    <tr>\n      <th>13576</th>\n      <td>Williamstown</td>\n      <td>77 Merrett Dr</td>\n      <td>3</td>\n      <td>h</td>\n      <td>1031000.0</td>\n      <td>SP</td>\n      <td>Williams</td>\n      <td>26/08/2017</td>\n      <td>6.8</td>\n      <td>3016.0</td>\n      <td>...</td>\n      <td>2.0</td>\n      <td>2.0</td>\n      <td>333.0</td>\n      <td>133.0</td>\n      <td>1995.0</td>\n      <td>0</td>\n      <td>-37.85927</td>\n      <td>144.87904</td>\n      <td>Western Metropolitan</td>\n      <td>6380.0</td>\n    </tr>\n    <tr>\n      <th>13577</th>\n      <td>Williamstown</td>\n      <td>83 Power St</td>\n      <td>3</td>\n      <td>h</td>\n      <td>1170000.0</td>\n      <td>S</td>\n      <td>Raine</td>\n      <td>26/08/2017</td>\n      <td>6.8</td>\n      <td>3016.0</td>\n      <td>...</td>\n      <td>2.0</td>\n      <td>4.0</td>\n      <td>436.0</td>\n      <td>0.0</td>\n      <td>1997.0</td>\n      <td>0</td>\n      <td>-37.85274</td>\n      <td>144.88738</td>\n      <td>Western Metropolitan</td>\n      <td>6380.0</td>\n    </tr>\n    <tr>\n      <th>13578</th>\n      <td>Williamstown</td>\n      <td>96 Verdon St</td>\n      <td>4</td>\n      <td>h</td>\n      <td>2500000.0</td>\n      <td>PI</td>\n      <td>Sweeney</td>\n      <td>26/08/2017</td>\n      <td>6.8</td>\n      <td>3016.0</td>\n      <td>...</td>\n      <td>1.0</td>\n      <td>5.0</td>\n      <td>866.0</td>\n      <td>157.0</td>\n      <td>1920.0</td>\n      <td>0</td>\n      <td>-37.85908</td>\n      <td>144.89299</td>\n      <td>Western Metropolitan</td>\n      <td>6380.0</td>\n    </tr>\n    <tr>\n      <th>13579</th>\n      <td>Yarraville</td>\n      <td>6 Agnes St</td>\n      <td>4</td>\n      <td>h</td>\n      <td>1285000.0</td>\n      <td>SP</td>\n      <td>Village</td>\n      <td>26/08/2017</td>\n      <td>6.3</td>\n      <td>3013.0</td>\n      <td>...</td>\n      <td>1.0</td>\n      <td>1.0</td>\n      <td>362.0</td>\n      <td>112.0</td>\n      <td>1920.0</td>\n      <td>0</td>\n      <td>-37.81188</td>\n      <td>144.88449</td>\n      <td>Western Metropolitan</td>\n      <td>6543.0</td>\n    </tr>\n  </tbody>\n</table>\n<p>13580 rows × 21 columns</p>\n</div>"
          },
          "metadata": {}
        }
      ],
      "execution_count": null
    },
    {
      "cell_type": "markdown",
      "source": [
        "## 5-VAZIFA. `.groupby()`\n",
        "Ustun uchun o'rta qiymat har doim ham aniq bo'lavermaydi. Keling avval `YearBuilt` ustuni uchun aniqroq qiymat topishga harakat qilamiz.\n",
        "\n",
        "Buning uchun `Regionname` ustuni qiymatlaridan foydalanishimiz mumkin, ya'ni bir Regiondagi binolar tahminan bir hil yillarda qurilgan deb tahmin qilsak bo'ladi.\n",
        "\n",
        "### 5.1 `.groupby()` yordamida `df` qiymatlarini `Regionname` ustuni bo'yicha guruhlang va `YaerBuilt` ustuni uchun o'rta qiymatni hisoblang."
      ],
      "metadata": {
        "id": "s50Gx03J_OA8"
      }
    },
    {
      "cell_type": "code",
      "source": [
        "#Javobingizni shu yerga yozing\n",
        "import pandas as pd\n",
        "\n",
        "# Regionname bo'yicha guruhlash va YearBuilt ustuni uchun o'rtacha qiymatni hisoblash\n",
        "region_yearbuilt_mean = df.groupby(\"Regionname\")[\"YearBuilt\"].mean().round().astype(int)\n",
        "\n",
        "# Natijani chiqarish\n",
        "print(region_yearbuilt_mean)\n"
      ],
      "metadata": {
        "execution": {
          "iopub.status.busy": "2025-03-16T11:55:40.218018Z",
          "iopub.execute_input": "2025-03-16T11:55:40.218701Z",
          "iopub.status.idle": "2025-03-16T11:55:40.228328Z",
          "shell.execute_reply.started": "2025-03-16T11:55:40.21866Z",
          "shell.execute_reply": "2025-03-16T11:55:40.227453Z"
        },
        "trusted": true,
        "id": "JEoIc0Eu_OA8",
        "outputId": "6635138e-c479-43ce-9a37-ed352243eb76"
      },
      "outputs": [
        {
          "name": "stdout",
          "text": "Regionname\nEastern Metropolitan          1110\nEastern Victoria              1160\nNorthern Metropolitan         1201\nNorthern Victoria             1308\nSouth-Eastern Metropolitan    1063\nSouthern Metropolitan         1212\nWestern Metropolitan          1183\nWestern Victoria              1425\nName: YearBuilt, dtype: int64\n",
          "output_type": "stream"
        }
      ],
      "execution_count": null
    },
    {
      "cell_type": "markdown",
      "source": [
        "**To'g'ri javob:**"
      ],
      "metadata": {
        "id": "VfT2y8HR_OA8"
      }
    },
    {
      "cell_type": "code",
      "source": [
        "df.groupby(['Regionname']).YearBuilt.mean().astype(int)"
      ],
      "metadata": {
        "_kg_hide-input": true,
        "_kg_hide-output": true,
        "execution": {
          "iopub.status.busy": "2025-03-16T11:55:48.665031Z",
          "iopub.execute_input": "2025-03-16T11:55:48.665927Z",
          "iopub.status.idle": "2025-03-16T11:55:48.674704Z",
          "shell.execute_reply.started": "2025-03-16T11:55:48.665852Z",
          "shell.execute_reply": "2025-03-16T11:55:48.673922Z"
        },
        "trusted": true,
        "id": "MGTN_-_b_OA9",
        "outputId": "78230a56-2fb3-4c56-8f3e-01208a0a5c81"
      },
      "outputs": [
        {
          "execution_count": 12,
          "output_type": "execute_result",
          "data": {
            "text/plain": "Regionname\nEastern Metropolitan          1109\nEastern Victoria              1160\nNorthern Metropolitan         1200\nNorthern Victoria             1308\nSouth-Eastern Metropolitan    1063\nSouthern Metropolitan         1211\nWestern Metropolitan          1183\nWestern Victoria              1424\nName: YearBuilt, dtype: int64"
          },
          "metadata": {}
        }
      ],
      "execution_count": null
    },
    {
      "cell_type": "markdown",
      "source": [
        "### 5.2. `df` `YearBuilt` ustunidagi `NaN` qiymatlarni yuqoridagi qiymatlar bilan almashtiring.\n",
        "`df[df.Regionname='Eastern Metropolitan']=...`\n",
        "\n",
        "Har bir `Regionname` uchun qiymatlarni bittalab kiritmaslik uchun for siklidan foydalanishingiz mumkin."
      ],
      "metadata": {
        "id": "NRzqdYVi_OA9"
      }
    },
    {
      "cell_type": "code",
      "source": [
        "#Javobingizni shu yerga yozing\n",
        "# Regionname bo‘yicha YearBuilt ustunining o‘rtacha qiymatini hisoblash\n",
        "groups = df.groupby(\"Regionname\")[\"YearBuilt\"].mean().round().astype(int)  # O‘rtacha qiymatlarni butun songa yaxlitlash\n",
        "\n",
        "# NaN qiymatlarni mos region uchun o‘rtacha qiymat bilan almashtirish\n",
        "for idx in groups.index:\n",
        "    df[df.Regionname == idx] = df[df.Regionname == idx].fillna({\"YearBuilt\": groups[idx]})\n",
        "\n",
        "# Butun songa o‘tkazish\n",
        "df[\"YearBuilt\"] = df[\"YearBuilt\"].astype(int)\n",
        "\n",
        "# Natijani tekshirish\n",
        "df.head()\n"
      ],
      "metadata": {
        "execution": {
          "iopub.status.busy": "2025-03-16T11:58:49.461188Z",
          "iopub.execute_input": "2025-03-16T11:58:49.461479Z",
          "iopub.status.idle": "2025-03-16T11:58:49.587702Z",
          "shell.execute_reply.started": "2025-03-16T11:58:49.461445Z",
          "shell.execute_reply": "2025-03-16T11:58:49.586938Z"
        },
        "trusted": true,
        "id": "BT0UAiQN_OA9",
        "outputId": "f5a1c7cd-6b70-41a1-e5c1-8414a4ac2cb2"
      },
      "outputs": [
        {
          "execution_count": 16,
          "output_type": "execute_result",
          "data": {
            "text/plain": "       Suburb           Address  Rooms Type      Price Method SellerG  \\\n0  Abbotsford      85 Turner St      2    h  1480000.0      S  Biggin   \n1  Abbotsford   25 Bloomburg St      2    h  1035000.0      S  Biggin   \n2  Abbotsford      5 Charles St      3    h  1465000.0     SP  Biggin   \n3  Abbotsford  40 Federation La      3    h   850000.0     PI  Biggin   \n4  Abbotsford       55a Park St      4    h  1600000.0     VB  Nelson   \n\n        Date  Distance  Postcode  ...  Bathroom  Car  Landsize  BuildingArea  \\\n0  3/12/2016       2.5    3067.0  ...       1.0  1.0     202.0           0.0   \n1  4/02/2016       2.5    3067.0  ...       1.0  0.0     156.0          79.0   \n2  4/03/2017       2.5    3067.0  ...       2.0  0.0     134.0         150.0   \n3  4/03/2017       2.5    3067.0  ...       2.0  1.0      94.0           0.0   \n4  4/06/2016       2.5    3067.0  ...       1.0  2.0     120.0         142.0   \n\n   YearBuilt  CouncilArea Lattitude  Longtitude             Regionname  \\\n0          0        Yarra  -37.7996    144.9984  Northern Metropolitan   \n1       1900        Yarra  -37.8079    144.9934  Northern Metropolitan   \n2       1900        Yarra  -37.8093    144.9944  Northern Metropolitan   \n3          0        Yarra  -37.7969    144.9969  Northern Metropolitan   \n4       2014        Yarra  -37.8072    144.9941  Northern Metropolitan   \n\n  Propertycount  \n0        4019.0  \n1        4019.0  \n2        4019.0  \n3        4019.0  \n4        4019.0  \n\n[5 rows x 21 columns]",
            "text/html": "<div>\n<style scoped>\n    .dataframe tbody tr th:only-of-type {\n        vertical-align: middle;\n    }\n\n    .dataframe tbody tr th {\n        vertical-align: top;\n    }\n\n    .dataframe thead th {\n        text-align: right;\n    }\n</style>\n<table border=\"1\" class=\"dataframe\">\n  <thead>\n    <tr style=\"text-align: right;\">\n      <th></th>\n      <th>Suburb</th>\n      <th>Address</th>\n      <th>Rooms</th>\n      <th>Type</th>\n      <th>Price</th>\n      <th>Method</th>\n      <th>SellerG</th>\n      <th>Date</th>\n      <th>Distance</th>\n      <th>Postcode</th>\n      <th>...</th>\n      <th>Bathroom</th>\n      <th>Car</th>\n      <th>Landsize</th>\n      <th>BuildingArea</th>\n      <th>YearBuilt</th>\n      <th>CouncilArea</th>\n      <th>Lattitude</th>\n      <th>Longtitude</th>\n      <th>Regionname</th>\n      <th>Propertycount</th>\n    </tr>\n  </thead>\n  <tbody>\n    <tr>\n      <th>0</th>\n      <td>Abbotsford</td>\n      <td>85 Turner St</td>\n      <td>2</td>\n      <td>h</td>\n      <td>1480000.0</td>\n      <td>S</td>\n      <td>Biggin</td>\n      <td>3/12/2016</td>\n      <td>2.5</td>\n      <td>3067.0</td>\n      <td>...</td>\n      <td>1.0</td>\n      <td>1.0</td>\n      <td>202.0</td>\n      <td>0.0</td>\n      <td>0</td>\n      <td>Yarra</td>\n      <td>-37.7996</td>\n      <td>144.9984</td>\n      <td>Northern Metropolitan</td>\n      <td>4019.0</td>\n    </tr>\n    <tr>\n      <th>1</th>\n      <td>Abbotsford</td>\n      <td>25 Bloomburg St</td>\n      <td>2</td>\n      <td>h</td>\n      <td>1035000.0</td>\n      <td>S</td>\n      <td>Biggin</td>\n      <td>4/02/2016</td>\n      <td>2.5</td>\n      <td>3067.0</td>\n      <td>...</td>\n      <td>1.0</td>\n      <td>0.0</td>\n      <td>156.0</td>\n      <td>79.0</td>\n      <td>1900</td>\n      <td>Yarra</td>\n      <td>-37.8079</td>\n      <td>144.9934</td>\n      <td>Northern Metropolitan</td>\n      <td>4019.0</td>\n    </tr>\n    <tr>\n      <th>2</th>\n      <td>Abbotsford</td>\n      <td>5 Charles St</td>\n      <td>3</td>\n      <td>h</td>\n      <td>1465000.0</td>\n      <td>SP</td>\n      <td>Biggin</td>\n      <td>4/03/2017</td>\n      <td>2.5</td>\n      <td>3067.0</td>\n      <td>...</td>\n      <td>2.0</td>\n      <td>0.0</td>\n      <td>134.0</td>\n      <td>150.0</td>\n      <td>1900</td>\n      <td>Yarra</td>\n      <td>-37.8093</td>\n      <td>144.9944</td>\n      <td>Northern Metropolitan</td>\n      <td>4019.0</td>\n    </tr>\n    <tr>\n      <th>3</th>\n      <td>Abbotsford</td>\n      <td>40 Federation La</td>\n      <td>3</td>\n      <td>h</td>\n      <td>850000.0</td>\n      <td>PI</td>\n      <td>Biggin</td>\n      <td>4/03/2017</td>\n      <td>2.5</td>\n      <td>3067.0</td>\n      <td>...</td>\n      <td>2.0</td>\n      <td>1.0</td>\n      <td>94.0</td>\n      <td>0.0</td>\n      <td>0</td>\n      <td>Yarra</td>\n      <td>-37.7969</td>\n      <td>144.9969</td>\n      <td>Northern Metropolitan</td>\n      <td>4019.0</td>\n    </tr>\n    <tr>\n      <th>4</th>\n      <td>Abbotsford</td>\n      <td>55a Park St</td>\n      <td>4</td>\n      <td>h</td>\n      <td>1600000.0</td>\n      <td>VB</td>\n      <td>Nelson</td>\n      <td>4/06/2016</td>\n      <td>2.5</td>\n      <td>3067.0</td>\n      <td>...</td>\n      <td>1.0</td>\n      <td>2.0</td>\n      <td>120.0</td>\n      <td>142.0</td>\n      <td>2014</td>\n      <td>Yarra</td>\n      <td>-37.8072</td>\n      <td>144.9941</td>\n      <td>Northern Metropolitan</td>\n      <td>4019.0</td>\n    </tr>\n  </tbody>\n</table>\n<p>5 rows × 21 columns</p>\n</div>"
          },
          "metadata": {}
        }
      ],
      "execution_count": null
    },
    {
      "cell_type": "markdown",
      "source": [
        "**To'g'ri javob**"
      ],
      "metadata": {
        "id": "ysIpxjfV_OA9"
      }
    },
    {
      "cell_type": "code",
      "source": [
        "groups = df.groupby(['Regionname']).YearBuilt.mean() # Bu Series obyekti\n",
        "for idx in groups.index:\n",
        "   df[df.Regionname==idx] = df[df.Regionname==idx].fillna({'YearBuilt':groups[idx]})"
      ],
      "metadata": {
        "_kg_hide-input": true,
        "execution": {
          "iopub.status.busy": "2025-03-16T11:58:25.074687Z",
          "iopub.execute_input": "2025-03-16T11:58:25.074971Z",
          "iopub.status.idle": "2025-03-16T11:58:25.174636Z",
          "shell.execute_reply.started": "2025-03-16T11:58:25.074937Z",
          "shell.execute_reply": "2025-03-16T11:58:25.173971Z"
        },
        "trusted": true,
        "id": "p1GwC5Oe_OA9"
      },
      "outputs": [],
      "execution_count": null
    },
    {
      "cell_type": "markdown",
      "source": [
        "### `YearBuilt` uchun yana ham aniqroq o'rta qiymat hisoblashning qanday yo'lini taklif qilgan bo'lar edingiz?"
      ],
      "metadata": {
        "id": "3WAP_27v_OA9"
      }
    },
    {
      "cell_type": "markdown",
      "source": [
        "## 6-VAZIFA. `BuildingArea` ustunidagi `NaN` qiymatlarni to'ldiramiz\n",
        "`BuildingArea` bino qurilgan yerning maydonini bildiradi. Bu qiymatlarni tahmin qilish uchun qaysi ustun qiymatlaridan foydalanish to'g'ri deb hisoblaysiz?"
      ],
      "metadata": {
        "id": "9lPtNNUJ_OA9"
      }
    },
    {
      "cell_type": "code",
      "source": [
        "# Fill NaN values in BuildingArea using the average value based on 'Landsize' and 'Rooms'\n",
        "df['BuildingArea'] = df['BuildingArea'].fillna(df['Landsize'] * 0.1 + df['Rooms'] * 3)\n",
        "df.head()"
      ],
      "metadata": {
        "execution": {
          "iopub.status.busy": "2025-03-16T12:38:16.437008Z",
          "iopub.execute_input": "2025-03-16T12:38:16.437299Z",
          "iopub.status.idle": "2025-03-16T12:38:16.469831Z",
          "shell.execute_reply.started": "2025-03-16T12:38:16.437266Z",
          "shell.execute_reply": "2025-03-16T12:38:16.468966Z"
        },
        "_kg_hide-input": true,
        "trusted": true,
        "id": "CFj1dIAz_OA9",
        "outputId": "5b1269db-6fa6-4671-8e6c-c2279e739672"
      },
      "outputs": [
        {
          "execution_count": 33,
          "output_type": "execute_result",
          "data": {
            "text/plain": "       Suburb           Address  Rooms Type      Price Method SellerG  \\\n0  Abbotsford      85 Turner St      2    h  1480000.0      S  Biggin   \n1  Abbotsford   25 Bloomburg St      2    h  1035000.0      S  Biggin   \n2  Abbotsford      5 Charles St      3    h  1465000.0     SP  Biggin   \n3  Abbotsford  40 Federation La      3    h   850000.0     PI  Biggin   \n4  Abbotsford       55a Park St      4    h  1600000.0     VB  Nelson   \n\n        Date  Distance  Postcode  ...  Bathroom  Car  Landsize  BuildingArea  \\\n0  3/12/2016       2.5    3067.0  ...       1.0  1.0     202.0           0.0   \n1  4/02/2016       2.5    3067.0  ...       1.0  0.0     156.0          79.0   \n2  4/03/2017       2.5    3067.0  ...       2.0  0.0     134.0         150.0   \n3  4/03/2017       2.5    3067.0  ...       2.0  1.0      94.0           0.0   \n4  4/06/2016       2.5    3067.0  ...       1.0  2.0     120.0         142.0   \n\n   YearBuilt  CouncilArea Lattitude  Longtitude             Regionname  \\\n0          0        Yarra  -37.7996    144.9984  Northern Metropolitan   \n1       1900        Yarra  -37.8079    144.9934  Northern Metropolitan   \n2       1900        Yarra  -37.8093    144.9944  Northern Metropolitan   \n3          0        Yarra  -37.7969    144.9969  Northern Metropolitan   \n4       2014        Yarra  -37.8072    144.9941  Northern Metropolitan   \n\n  Propertycount  \n0        4019.0  \n1        4019.0  \n2        4019.0  \n3        4019.0  \n4        4019.0  \n\n[5 rows x 21 columns]",
            "text/html": "<div>\n<style scoped>\n    .dataframe tbody tr th:only-of-type {\n        vertical-align: middle;\n    }\n\n    .dataframe tbody tr th {\n        vertical-align: top;\n    }\n\n    .dataframe thead th {\n        text-align: right;\n    }\n</style>\n<table border=\"1\" class=\"dataframe\">\n  <thead>\n    <tr style=\"text-align: right;\">\n      <th></th>\n      <th>Suburb</th>\n      <th>Address</th>\n      <th>Rooms</th>\n      <th>Type</th>\n      <th>Price</th>\n      <th>Method</th>\n      <th>SellerG</th>\n      <th>Date</th>\n      <th>Distance</th>\n      <th>Postcode</th>\n      <th>...</th>\n      <th>Bathroom</th>\n      <th>Car</th>\n      <th>Landsize</th>\n      <th>BuildingArea</th>\n      <th>YearBuilt</th>\n      <th>CouncilArea</th>\n      <th>Lattitude</th>\n      <th>Longtitude</th>\n      <th>Regionname</th>\n      <th>Propertycount</th>\n    </tr>\n  </thead>\n  <tbody>\n    <tr>\n      <th>0</th>\n      <td>Abbotsford</td>\n      <td>85 Turner St</td>\n      <td>2</td>\n      <td>h</td>\n      <td>1480000.0</td>\n      <td>S</td>\n      <td>Biggin</td>\n      <td>3/12/2016</td>\n      <td>2.5</td>\n      <td>3067.0</td>\n      <td>...</td>\n      <td>1.0</td>\n      <td>1.0</td>\n      <td>202.0</td>\n      <td>0.0</td>\n      <td>0</td>\n      <td>Yarra</td>\n      <td>-37.7996</td>\n      <td>144.9984</td>\n      <td>Northern Metropolitan</td>\n      <td>4019.0</td>\n    </tr>\n    <tr>\n      <th>1</th>\n      <td>Abbotsford</td>\n      <td>25 Bloomburg St</td>\n      <td>2</td>\n      <td>h</td>\n      <td>1035000.0</td>\n      <td>S</td>\n      <td>Biggin</td>\n      <td>4/02/2016</td>\n      <td>2.5</td>\n      <td>3067.0</td>\n      <td>...</td>\n      <td>1.0</td>\n      <td>0.0</td>\n      <td>156.0</td>\n      <td>79.0</td>\n      <td>1900</td>\n      <td>Yarra</td>\n      <td>-37.8079</td>\n      <td>144.9934</td>\n      <td>Northern Metropolitan</td>\n      <td>4019.0</td>\n    </tr>\n    <tr>\n      <th>2</th>\n      <td>Abbotsford</td>\n      <td>5 Charles St</td>\n      <td>3</td>\n      <td>h</td>\n      <td>1465000.0</td>\n      <td>SP</td>\n      <td>Biggin</td>\n      <td>4/03/2017</td>\n      <td>2.5</td>\n      <td>3067.0</td>\n      <td>...</td>\n      <td>2.0</td>\n      <td>0.0</td>\n      <td>134.0</td>\n      <td>150.0</td>\n      <td>1900</td>\n      <td>Yarra</td>\n      <td>-37.8093</td>\n      <td>144.9944</td>\n      <td>Northern Metropolitan</td>\n      <td>4019.0</td>\n    </tr>\n    <tr>\n      <th>3</th>\n      <td>Abbotsford</td>\n      <td>40 Federation La</td>\n      <td>3</td>\n      <td>h</td>\n      <td>850000.0</td>\n      <td>PI</td>\n      <td>Biggin</td>\n      <td>4/03/2017</td>\n      <td>2.5</td>\n      <td>3067.0</td>\n      <td>...</td>\n      <td>2.0</td>\n      <td>1.0</td>\n      <td>94.0</td>\n      <td>0.0</td>\n      <td>0</td>\n      <td>Yarra</td>\n      <td>-37.7969</td>\n      <td>144.9969</td>\n      <td>Northern Metropolitan</td>\n      <td>4019.0</td>\n    </tr>\n    <tr>\n      <th>4</th>\n      <td>Abbotsford</td>\n      <td>55a Park St</td>\n      <td>4</td>\n      <td>h</td>\n      <td>1600000.0</td>\n      <td>VB</td>\n      <td>Nelson</td>\n      <td>4/06/2016</td>\n      <td>2.5</td>\n      <td>3067.0</td>\n      <td>...</td>\n      <td>1.0</td>\n      <td>2.0</td>\n      <td>120.0</td>\n      <td>142.0</td>\n      <td>2014</td>\n      <td>Yarra</td>\n      <td>-37.8072</td>\n      <td>144.9941</td>\n      <td>Northern Metropolitan</td>\n      <td>4019.0</td>\n    </tr>\n  </tbody>\n</table>\n<p>5 rows × 21 columns</p>\n</div>"
          },
          "metadata": {}
        }
      ],
      "execution_count": null
    },
    {
      "cell_type": "markdown",
      "source": [
        "### 6.1 `df`ni xonalar soni bo'yicha o'rta qiymat olib ko'ring"
      ],
      "metadata": {
        "id": "oziCb0jr_OA9"
      }
    },
    {
      "cell_type": "code",
      "source": [
        "#Javobingizni shu yerga yozing\n",
        "df.groupby(\"Rooms\").mean()"
      ],
      "metadata": {
        "execution": {
          "iopub.status.busy": "2025-03-16T12:38:55.759717Z",
          "iopub.execute_input": "2025-03-16T12:38:55.760428Z",
          "iopub.status.idle": "2025-03-16T12:38:55.783769Z",
          "shell.execute_reply.started": "2025-03-16T12:38:55.760386Z",
          "shell.execute_reply": "2025-03-16T12:38:55.782966Z"
        },
        "trusted": true,
        "id": "lL8BU8SA_OA-",
        "outputId": "8193d0c8-dc59-4a90-e18c-14824004ae96"
      },
      "outputs": [
        {
          "execution_count": 34,
          "output_type": "execute_result",
          "data": {
            "text/plain": "              Price   Distance     Postcode   Bedroom2  Bathroom       Car  \\\nRooms                                                                        \n1      4.338245e+05   5.939207  3107.058737   1.029369  1.007342  0.879589   \n2      7.750812e+05   7.727659  3101.450110   2.016996  1.137336  1.121162   \n3      1.076081e+06  11.003690  3099.933175   2.984696  1.473219  1.689509   \n4      1.445282e+06  12.149665  3118.688616   3.921503  2.039062  2.059152   \n5      1.870260e+06  11.778523  3117.986577   4.875839  2.686242  2.310403   \n6      1.849366e+06  12.685075  3121.402985   5.820896  2.820896  2.582090   \n7      1.920700e+06   9.560000  3095.700000   6.600000  2.900000  2.600000   \n8      1.602750e+06  10.912500  3095.875000   7.125000  4.125000  3.375000   \n10     9.000000e+05  12.100000  3083.000000  10.000000  3.000000  2.000000   \n\n          Landsize  BuildingArea    YearBuilt  Lattitude  Longtitude  \\\nRooms                                                                  \n1       384.681351     26.888752  1291.333333 -37.822123  144.984649   \n2       421.164748     47.530781  1232.134868 -37.813112  144.989711   \n3       597.700731     70.200594  1113.251318 -37.802929  144.987706   \n4       639.727679    120.807933  1244.351935 -37.813326  145.012175   \n5       798.505034    236.831135  1271.924497 -37.814517  145.033244   \n6       841.462687    149.649254  1079.910448 -37.808151  145.034099   \n7      1089.700000    204.254000  1386.300000 -37.792333  145.033313   \n8       843.875000    128.000000   983.625000 -37.799385  145.014315   \n10      313.000000      0.000000  2006.000000 -37.710980  145.053810   \n\n       Propertycount  \nRooms                 \n1        8699.651982  \n2        7802.574836  \n3        7311.337018  \n4        7093.617560  \n5        7051.510067  \n6        6668.865672  \n7        6874.300000  \n8        6085.375000  \n10      10175.000000  ",
            "text/html": "<div>\n<style scoped>\n    .dataframe tbody tr th:only-of-type {\n        vertical-align: middle;\n    }\n\n    .dataframe tbody tr th {\n        vertical-align: top;\n    }\n\n    .dataframe thead th {\n        text-align: right;\n    }\n</style>\n<table border=\"1\" class=\"dataframe\">\n  <thead>\n    <tr style=\"text-align: right;\">\n      <th></th>\n      <th>Price</th>\n      <th>Distance</th>\n      <th>Postcode</th>\n      <th>Bedroom2</th>\n      <th>Bathroom</th>\n      <th>Car</th>\n      <th>Landsize</th>\n      <th>BuildingArea</th>\n      <th>YearBuilt</th>\n      <th>Lattitude</th>\n      <th>Longtitude</th>\n      <th>Propertycount</th>\n    </tr>\n    <tr>\n      <th>Rooms</th>\n      <th></th>\n      <th></th>\n      <th></th>\n      <th></th>\n      <th></th>\n      <th></th>\n      <th></th>\n      <th></th>\n      <th></th>\n      <th></th>\n      <th></th>\n      <th></th>\n    </tr>\n  </thead>\n  <tbody>\n    <tr>\n      <th>1</th>\n      <td>4.338245e+05</td>\n      <td>5.939207</td>\n      <td>3107.058737</td>\n      <td>1.029369</td>\n      <td>1.007342</td>\n      <td>0.879589</td>\n      <td>384.681351</td>\n      <td>26.888752</td>\n      <td>1291.333333</td>\n      <td>-37.822123</td>\n      <td>144.984649</td>\n      <td>8699.651982</td>\n    </tr>\n    <tr>\n      <th>2</th>\n      <td>7.750812e+05</td>\n      <td>7.727659</td>\n      <td>3101.450110</td>\n      <td>2.016996</td>\n      <td>1.137336</td>\n      <td>1.121162</td>\n      <td>421.164748</td>\n      <td>47.530781</td>\n      <td>1232.134868</td>\n      <td>-37.813112</td>\n      <td>144.989711</td>\n      <td>7802.574836</td>\n    </tr>\n    <tr>\n      <th>3</th>\n      <td>1.076081e+06</td>\n      <td>11.003690</td>\n      <td>3099.933175</td>\n      <td>2.984696</td>\n      <td>1.473219</td>\n      <td>1.689509</td>\n      <td>597.700731</td>\n      <td>70.200594</td>\n      <td>1113.251318</td>\n      <td>-37.802929</td>\n      <td>144.987706</td>\n      <td>7311.337018</td>\n    </tr>\n    <tr>\n      <th>4</th>\n      <td>1.445282e+06</td>\n      <td>12.149665</td>\n      <td>3118.688616</td>\n      <td>3.921503</td>\n      <td>2.039062</td>\n      <td>2.059152</td>\n      <td>639.727679</td>\n      <td>120.807933</td>\n      <td>1244.351935</td>\n      <td>-37.813326</td>\n      <td>145.012175</td>\n      <td>7093.617560</td>\n    </tr>\n    <tr>\n      <th>5</th>\n      <td>1.870260e+06</td>\n      <td>11.778523</td>\n      <td>3117.986577</td>\n      <td>4.875839</td>\n      <td>2.686242</td>\n      <td>2.310403</td>\n      <td>798.505034</td>\n      <td>236.831135</td>\n      <td>1271.924497</td>\n      <td>-37.814517</td>\n      <td>145.033244</td>\n      <td>7051.510067</td>\n    </tr>\n    <tr>\n      <th>6</th>\n      <td>1.849366e+06</td>\n      <td>12.685075</td>\n      <td>3121.402985</td>\n      <td>5.820896</td>\n      <td>2.820896</td>\n      <td>2.582090</td>\n      <td>841.462687</td>\n      <td>149.649254</td>\n      <td>1079.910448</td>\n      <td>-37.808151</td>\n      <td>145.034099</td>\n      <td>6668.865672</td>\n    </tr>\n    <tr>\n      <th>7</th>\n      <td>1.920700e+06</td>\n      <td>9.560000</td>\n      <td>3095.700000</td>\n      <td>6.600000</td>\n      <td>2.900000</td>\n      <td>2.600000</td>\n      <td>1089.700000</td>\n      <td>204.254000</td>\n      <td>1386.300000</td>\n      <td>-37.792333</td>\n      <td>145.033313</td>\n      <td>6874.300000</td>\n    </tr>\n    <tr>\n      <th>8</th>\n      <td>1.602750e+06</td>\n      <td>10.912500</td>\n      <td>3095.875000</td>\n      <td>7.125000</td>\n      <td>4.125000</td>\n      <td>3.375000</td>\n      <td>843.875000</td>\n      <td>128.000000</td>\n      <td>983.625000</td>\n      <td>-37.799385</td>\n      <td>145.014315</td>\n      <td>6085.375000</td>\n    </tr>\n    <tr>\n      <th>10</th>\n      <td>9.000000e+05</td>\n      <td>12.100000</td>\n      <td>3083.000000</td>\n      <td>10.000000</td>\n      <td>3.000000</td>\n      <td>2.000000</td>\n      <td>313.000000</td>\n      <td>0.000000</td>\n      <td>2006.000000</td>\n      <td>-37.710980</td>\n      <td>145.053810</td>\n      <td>10175.000000</td>\n    </tr>\n  </tbody>\n</table>\n</div>"
          },
          "metadata": {}
        }
      ],
      "execution_count": null
    },
    {
      "cell_type": "markdown",
      "source": [
        "### 6.2 Xonalar va uy turi bo'yicha o'rta qiymatni olib ko'ring."
      ],
      "metadata": {
        "id": "UHZbju4m_OA-"
      }
    },
    {
      "cell_type": "code",
      "source": [
        "#Javobingizni shu yerga yozing\n",
        "df.groupby([\"Rooms\", \"Type\"]).mean()\n"
      ],
      "metadata": {
        "execution": {
          "iopub.status.busy": "2025-03-16T12:39:25.216169Z",
          "iopub.execute_input": "2025-03-16T12:39:25.21645Z",
          "iopub.status.idle": "2025-03-16T12:39:25.245934Z",
          "shell.execute_reply.started": "2025-03-16T12:39:25.216419Z",
          "shell.execute_reply": "2025-03-16T12:39:25.245108Z"
        },
        "trusted": true,
        "id": "9qhUHqsI_OA-",
        "outputId": "1991491f-a39f-4731-b037-470e90c38189"
      },
      "outputs": [
        {
          "execution_count": 35,
          "output_type": "execute_result",
          "data": {
            "text/plain": "                   Price   Distance     Postcode   Bedroom2  Bathroom  \\\nRooms Type                                                              \n1     h     8.668655e+05   7.068966  3087.224138   1.103448  1.068966   \n      t     5.927045e+05   6.981818  3092.000000   1.090909  1.000000   \n      u     3.899289e+05   5.813399  3109.209150   1.021242  1.001634   \n2     h     1.017238e+06   7.578255  3090.577253   2.029328  1.081545   \n      t     7.101585e+05   8.941379  3087.326019   2.003135  1.338558   \n      u     6.104905e+05   7.635318  3111.655101   2.010357  1.144485   \n3     h     1.109233e+06  11.253572  3098.533847   2.987919  1.407623   \n      t     9.847087e+05   9.974563  3103.050874   2.977742  1.918919   \n      u     8.505963e+05   9.778936  3110.481153   2.960089  1.549889   \n4     h     1.462283e+06  12.204211  3118.750099   3.922130  2.017084   \n      t     1.217092e+06  11.444667  3121.360000   3.906667  2.400000   \n      u     1.037476e+06  10.647619  3092.238095   3.952381  2.095238   \n5     h     1.877327e+06  11.785787  3118.351946   4.874788  2.690355   \n      t     1.035000e+06  10.920000  3074.800000   5.000000  2.200000   \n6     h     1.869508e+06  12.753030  3123.060606   5.848485  2.833333   \n      u     5.200000e+05   8.200000  3012.000000   4.000000  2.000000   \n7     h     1.920700e+06   9.560000  3095.700000   6.600000  2.900000   \n8     h     1.510286e+06  11.357143  3101.285714   7.571429  4.428571   \n      u     2.250000e+06   7.800000  3058.000000   4.000000  2.000000   \n10    h     9.000000e+05  12.100000  3083.000000  10.000000  3.000000   \n\n                 Car     Landsize  BuildingArea    YearBuilt  Lattitude  \\\nRooms Type                                                                \n1     h     0.793103   297.206897     29.448276   841.103448 -37.787817   \n      t     0.636364   193.181818     45.000000  1447.545455 -37.833014   \n      u     0.892157   396.413399     26.320654  1331.194444 -37.825178   \n2     h     1.120887   337.489986     48.000608  1033.510014 -37.802747   \n      t     1.188088   261.595611     75.676583  1345.056426 -37.794179   \n      u     1.110306   508.104091     42.540968  1357.280166 -37.823744   \n3     h     1.708811   651.883149     69.385367  1067.907728 -37.798971   \n      t     1.691574   279.448331     82.484575  1360.928458 -37.819691   \n      u     1.481153   464.776053     61.746674  1250.514412 -37.821690   \n4     h     2.074692   661.470004    120.796016  1231.964243 -37.811324   \n      t     1.826667   326.413333    127.161000  1441.206667 -37.845255   \n      u     1.857143   271.714286     76.857143  1323.000000 -37.825299   \n5     h     2.314721   803.275804    238.024292  1272.485618 -37.814808   \n      t     1.800000   234.600000     95.800000  1205.600000 -37.780148   \n6     h     2.606061   854.212121    149.325758  1066.424242 -37.808138   \n      u     1.000000     0.000000    171.000000  1970.000000 -37.809000   \n7     h     2.600000  1089.700000    204.254000  1386.300000 -37.792333   \n8     h     3.285714   824.000000    146.285714  1124.142857 -37.806197   \n      u     4.000000   983.000000      0.000000     0.000000 -37.751700   \n10    h     2.000000   313.000000      0.000000  2006.000000 -37.710980   \n\n            Longtitude  Propertycount  \nRooms Type                             \n1     h     144.964712    7283.051724  \n      t     144.988266    7195.454545  \n      u     144.986473    8860.941176  \n2     h     144.980881    7317.441345  \n      t     144.979010    7545.489028  \n      u     144.997872    8196.270844  \n3     h     144.984934    7349.872110  \n      t     144.998826    6996.322734  \n      u     145.001703    7340.465632  \n4     h     145.011239    7121.709972  \n      t     145.024198    6545.193333  \n      u     145.038477    7643.857143  \n5     h     145.033487    7052.620981  \n      t     145.004502    6920.200000  \n6     h     145.036606    6693.272727  \n      u     144.868600    5058.000000  \n7     h     145.033313    6874.300000  \n8     h     145.020660    5354.142857  \n      u     144.969900   11204.000000  \n10    h     145.053810   10175.000000  ",
            "text/html": "<div>\n<style scoped>\n    .dataframe tbody tr th:only-of-type {\n        vertical-align: middle;\n    }\n\n    .dataframe tbody tr th {\n        vertical-align: top;\n    }\n\n    .dataframe thead th {\n        text-align: right;\n    }\n</style>\n<table border=\"1\" class=\"dataframe\">\n  <thead>\n    <tr style=\"text-align: right;\">\n      <th></th>\n      <th></th>\n      <th>Price</th>\n      <th>Distance</th>\n      <th>Postcode</th>\n      <th>Bedroom2</th>\n      <th>Bathroom</th>\n      <th>Car</th>\n      <th>Landsize</th>\n      <th>BuildingArea</th>\n      <th>YearBuilt</th>\n      <th>Lattitude</th>\n      <th>Longtitude</th>\n      <th>Propertycount</th>\n    </tr>\n    <tr>\n      <th>Rooms</th>\n      <th>Type</th>\n      <th></th>\n      <th></th>\n      <th></th>\n      <th></th>\n      <th></th>\n      <th></th>\n      <th></th>\n      <th></th>\n      <th></th>\n      <th></th>\n      <th></th>\n      <th></th>\n    </tr>\n  </thead>\n  <tbody>\n    <tr>\n      <th rowspan=\"3\" valign=\"top\">1</th>\n      <th>h</th>\n      <td>8.668655e+05</td>\n      <td>7.068966</td>\n      <td>3087.224138</td>\n      <td>1.103448</td>\n      <td>1.068966</td>\n      <td>0.793103</td>\n      <td>297.206897</td>\n      <td>29.448276</td>\n      <td>841.103448</td>\n      <td>-37.787817</td>\n      <td>144.964712</td>\n      <td>7283.051724</td>\n    </tr>\n    <tr>\n      <th>t</th>\n      <td>5.927045e+05</td>\n      <td>6.981818</td>\n      <td>3092.000000</td>\n      <td>1.090909</td>\n      <td>1.000000</td>\n      <td>0.636364</td>\n      <td>193.181818</td>\n      <td>45.000000</td>\n      <td>1447.545455</td>\n      <td>-37.833014</td>\n      <td>144.988266</td>\n      <td>7195.454545</td>\n    </tr>\n    <tr>\n      <th>u</th>\n      <td>3.899289e+05</td>\n      <td>5.813399</td>\n      <td>3109.209150</td>\n      <td>1.021242</td>\n      <td>1.001634</td>\n      <td>0.892157</td>\n      <td>396.413399</td>\n      <td>26.320654</td>\n      <td>1331.194444</td>\n      <td>-37.825178</td>\n      <td>144.986473</td>\n      <td>8860.941176</td>\n    </tr>\n    <tr>\n      <th rowspan=\"3\" valign=\"top\">2</th>\n      <th>h</th>\n      <td>1.017238e+06</td>\n      <td>7.578255</td>\n      <td>3090.577253</td>\n      <td>2.029328</td>\n      <td>1.081545</td>\n      <td>1.120887</td>\n      <td>337.489986</td>\n      <td>48.000608</td>\n      <td>1033.510014</td>\n      <td>-37.802747</td>\n      <td>144.980881</td>\n      <td>7317.441345</td>\n    </tr>\n    <tr>\n      <th>t</th>\n      <td>7.101585e+05</td>\n      <td>8.941379</td>\n      <td>3087.326019</td>\n      <td>2.003135</td>\n      <td>1.338558</td>\n      <td>1.188088</td>\n      <td>261.595611</td>\n      <td>75.676583</td>\n      <td>1345.056426</td>\n      <td>-37.794179</td>\n      <td>144.979010</td>\n      <td>7545.489028</td>\n    </tr>\n    <tr>\n      <th>u</th>\n      <td>6.104905e+05</td>\n      <td>7.635318</td>\n      <td>3111.655101</td>\n      <td>2.010357</td>\n      <td>1.144485</td>\n      <td>1.110306</td>\n      <td>508.104091</td>\n      <td>42.540968</td>\n      <td>1357.280166</td>\n      <td>-37.823744</td>\n      <td>144.997872</td>\n      <td>8196.270844</td>\n    </tr>\n    <tr>\n      <th rowspan=\"3\" valign=\"top\">3</th>\n      <th>h</th>\n      <td>1.109233e+06</td>\n      <td>11.253572</td>\n      <td>3098.533847</td>\n      <td>2.987919</td>\n      <td>1.407623</td>\n      <td>1.708811</td>\n      <td>651.883149</td>\n      <td>69.385367</td>\n      <td>1067.907728</td>\n      <td>-37.798971</td>\n      <td>144.984934</td>\n      <td>7349.872110</td>\n    </tr>\n    <tr>\n      <th>t</th>\n      <td>9.847087e+05</td>\n      <td>9.974563</td>\n      <td>3103.050874</td>\n      <td>2.977742</td>\n      <td>1.918919</td>\n      <td>1.691574</td>\n      <td>279.448331</td>\n      <td>82.484575</td>\n      <td>1360.928458</td>\n      <td>-37.819691</td>\n      <td>144.998826</td>\n      <td>6996.322734</td>\n    </tr>\n    <tr>\n      <th>u</th>\n      <td>8.505963e+05</td>\n      <td>9.778936</td>\n      <td>3110.481153</td>\n      <td>2.960089</td>\n      <td>1.549889</td>\n      <td>1.481153</td>\n      <td>464.776053</td>\n      <td>61.746674</td>\n      <td>1250.514412</td>\n      <td>-37.821690</td>\n      <td>145.001703</td>\n      <td>7340.465632</td>\n    </tr>\n    <tr>\n      <th rowspan=\"3\" valign=\"top\">4</th>\n      <th>h</th>\n      <td>1.462283e+06</td>\n      <td>12.204211</td>\n      <td>3118.750099</td>\n      <td>3.922130</td>\n      <td>2.017084</td>\n      <td>2.074692</td>\n      <td>661.470004</td>\n      <td>120.796016</td>\n      <td>1231.964243</td>\n      <td>-37.811324</td>\n      <td>145.011239</td>\n      <td>7121.709972</td>\n    </tr>\n    <tr>\n      <th>t</th>\n      <td>1.217092e+06</td>\n      <td>11.444667</td>\n      <td>3121.360000</td>\n      <td>3.906667</td>\n      <td>2.400000</td>\n      <td>1.826667</td>\n      <td>326.413333</td>\n      <td>127.161000</td>\n      <td>1441.206667</td>\n      <td>-37.845255</td>\n      <td>145.024198</td>\n      <td>6545.193333</td>\n    </tr>\n    <tr>\n      <th>u</th>\n      <td>1.037476e+06</td>\n      <td>10.647619</td>\n      <td>3092.238095</td>\n      <td>3.952381</td>\n      <td>2.095238</td>\n      <td>1.857143</td>\n      <td>271.714286</td>\n      <td>76.857143</td>\n      <td>1323.000000</td>\n      <td>-37.825299</td>\n      <td>145.038477</td>\n      <td>7643.857143</td>\n    </tr>\n    <tr>\n      <th rowspan=\"2\" valign=\"top\">5</th>\n      <th>h</th>\n      <td>1.877327e+06</td>\n      <td>11.785787</td>\n      <td>3118.351946</td>\n      <td>4.874788</td>\n      <td>2.690355</td>\n      <td>2.314721</td>\n      <td>803.275804</td>\n      <td>238.024292</td>\n      <td>1272.485618</td>\n      <td>-37.814808</td>\n      <td>145.033487</td>\n      <td>7052.620981</td>\n    </tr>\n    <tr>\n      <th>t</th>\n      <td>1.035000e+06</td>\n      <td>10.920000</td>\n      <td>3074.800000</td>\n      <td>5.000000</td>\n      <td>2.200000</td>\n      <td>1.800000</td>\n      <td>234.600000</td>\n      <td>95.800000</td>\n      <td>1205.600000</td>\n      <td>-37.780148</td>\n      <td>145.004502</td>\n      <td>6920.200000</td>\n    </tr>\n    <tr>\n      <th rowspan=\"2\" valign=\"top\">6</th>\n      <th>h</th>\n      <td>1.869508e+06</td>\n      <td>12.753030</td>\n      <td>3123.060606</td>\n      <td>5.848485</td>\n      <td>2.833333</td>\n      <td>2.606061</td>\n      <td>854.212121</td>\n      <td>149.325758</td>\n      <td>1066.424242</td>\n      <td>-37.808138</td>\n      <td>145.036606</td>\n      <td>6693.272727</td>\n    </tr>\n    <tr>\n      <th>u</th>\n      <td>5.200000e+05</td>\n      <td>8.200000</td>\n      <td>3012.000000</td>\n      <td>4.000000</td>\n      <td>2.000000</td>\n      <td>1.000000</td>\n      <td>0.000000</td>\n      <td>171.000000</td>\n      <td>1970.000000</td>\n      <td>-37.809000</td>\n      <td>144.868600</td>\n      <td>5058.000000</td>\n    </tr>\n    <tr>\n      <th>7</th>\n      <th>h</th>\n      <td>1.920700e+06</td>\n      <td>9.560000</td>\n      <td>3095.700000</td>\n      <td>6.600000</td>\n      <td>2.900000</td>\n      <td>2.600000</td>\n      <td>1089.700000</td>\n      <td>204.254000</td>\n      <td>1386.300000</td>\n      <td>-37.792333</td>\n      <td>145.033313</td>\n      <td>6874.300000</td>\n    </tr>\n    <tr>\n      <th rowspan=\"2\" valign=\"top\">8</th>\n      <th>h</th>\n      <td>1.510286e+06</td>\n      <td>11.357143</td>\n      <td>3101.285714</td>\n      <td>7.571429</td>\n      <td>4.428571</td>\n      <td>3.285714</td>\n      <td>824.000000</td>\n      <td>146.285714</td>\n      <td>1124.142857</td>\n      <td>-37.806197</td>\n      <td>145.020660</td>\n      <td>5354.142857</td>\n    </tr>\n    <tr>\n      <th>u</th>\n      <td>2.250000e+06</td>\n      <td>7.800000</td>\n      <td>3058.000000</td>\n      <td>4.000000</td>\n      <td>2.000000</td>\n      <td>4.000000</td>\n      <td>983.000000</td>\n      <td>0.000000</td>\n      <td>0.000000</td>\n      <td>-37.751700</td>\n      <td>144.969900</td>\n      <td>11204.000000</td>\n    </tr>\n    <tr>\n      <th>10</th>\n      <th>h</th>\n      <td>9.000000e+05</td>\n      <td>12.100000</td>\n      <td>3083.000000</td>\n      <td>10.000000</td>\n      <td>3.000000</td>\n      <td>2.000000</td>\n      <td>313.000000</td>\n      <td>0.000000</td>\n      <td>2006.000000</td>\n      <td>-37.710980</td>\n      <td>145.053810</td>\n      <td>10175.000000</td>\n    </tr>\n  </tbody>\n</table>\n</div>"
          },
          "metadata": {}
        }
      ],
      "execution_count": null
    },
    {
      "cell_type": "markdown",
      "source": [
        "### 6.3 Ahamiyat bering, 10 xonalik uylar uchun o'rta qiymat chiqmayapti. Bu nimadan dalolat beradi? Jami 10 xonalik uylar nechta? Ular bilan qanday yo'l tutishni maslahat berasiz?"
      ],
      "metadata": {
        "id": "f8PsAEZW_OA-"
      }
    },
    {
      "cell_type": "code",
      "source": [
        "#Javobingizni shu yerga yozing\n",
        "# Filtr qilib, 10 xonalik uylarni topish\n",
        "ten_room_houses = df[df['Rooms'] == 10]\n",
        "\n",
        "# Jami 10 xonalik uylar sonini chiqarish\n",
        "print(\"Jami 10 xonalik uylar soni:\", len(ten_room_houses))\n"
      ],
      "metadata": {
        "execution": {
          "iopub.status.busy": "2025-03-16T12:41:04.534621Z",
          "iopub.execute_input": "2025-03-16T12:41:04.53493Z",
          "iopub.status.idle": "2025-03-16T12:41:04.540926Z",
          "shell.execute_reply.started": "2025-03-16T12:41:04.534893Z",
          "shell.execute_reply": "2025-03-16T12:41:04.540121Z"
        },
        "trusted": true,
        "id": "5RlXJ6IO_OA-",
        "outputId": "d9ab6527-70dc-418d-9cdd-e8e66d301a58"
      },
      "outputs": [
        {
          "name": "stdout",
          "text": "Jami 10 xonalik uylar soni: 1\n",
          "output_type": "stream"
        }
      ],
      "execution_count": null
    },
    {
      "cell_type": "markdown",
      "source": [
        "### 6.4 `BuildingArea` ustunidagi mavjud `NaN` qiymatlarni o'zingiz to'g'ri deb bilgan usul bilan to'ldiring."
      ],
      "metadata": {
        "id": "z71YH6mZ_OA-"
      }
    },
    {
      "cell_type": "code",
      "source": [
        "# BuildingArea'ni to'ldirish uchun Landsize va Rooms ustunlarini ishlatish\n",
        "df['BuildingArea'] = df['BuildingArea'].fillna(df['Landsize'] * 0.1 + df['Rooms'] * 5)\n",
        "df.head()"
      ],
      "metadata": {
        "trusted": true,
        "execution": {
          "iopub.status.busy": "2025-03-16T12:42:47.390925Z",
          "iopub.execute_input": "2025-03-16T12:42:47.391232Z",
          "iopub.status.idle": "2025-03-16T12:42:47.423745Z",
          "shell.execute_reply.started": "2025-03-16T12:42:47.391199Z",
          "shell.execute_reply": "2025-03-16T12:42:47.422498Z"
        },
        "id": "VO2qSZas_OA-",
        "outputId": "1bd9eae2-c938-4891-bd82-08f08ca5f8e6"
      },
      "outputs": [
        {
          "execution_count": 39,
          "output_type": "execute_result",
          "data": {
            "text/plain": "       Suburb           Address  Rooms Type      Price Method SellerG  \\\n0  Abbotsford      85 Turner St      2    h  1480000.0      S  Biggin   \n1  Abbotsford   25 Bloomburg St      2    h  1035000.0      S  Biggin   \n2  Abbotsford      5 Charles St      3    h  1465000.0     SP  Biggin   \n3  Abbotsford  40 Federation La      3    h   850000.0     PI  Biggin   \n4  Abbotsford       55a Park St      4    h  1600000.0     VB  Nelson   \n\n        Date  Distance  Postcode  ...  Bathroom  Car  Landsize  BuildingArea  \\\n0  3/12/2016       2.5    3067.0  ...       1.0  1.0     202.0           0.0   \n1  4/02/2016       2.5    3067.0  ...       1.0  0.0     156.0          79.0   \n2  4/03/2017       2.5    3067.0  ...       2.0  0.0     134.0         150.0   \n3  4/03/2017       2.5    3067.0  ...       2.0  1.0      94.0           0.0   \n4  4/06/2016       2.5    3067.0  ...       1.0  2.0     120.0         142.0   \n\n   YearBuilt  CouncilArea Lattitude  Longtitude             Regionname  \\\n0          0        Yarra  -37.7996    144.9984  Northern Metropolitan   \n1       1900        Yarra  -37.8079    144.9934  Northern Metropolitan   \n2       1900        Yarra  -37.8093    144.9944  Northern Metropolitan   \n3          0        Yarra  -37.7969    144.9969  Northern Metropolitan   \n4       2014        Yarra  -37.8072    144.9941  Northern Metropolitan   \n\n  Propertycount  \n0        4019.0  \n1        4019.0  \n2        4019.0  \n3        4019.0  \n4        4019.0  \n\n[5 rows x 21 columns]",
            "text/html": "<div>\n<style scoped>\n    .dataframe tbody tr th:only-of-type {\n        vertical-align: middle;\n    }\n\n    .dataframe tbody tr th {\n        vertical-align: top;\n    }\n\n    .dataframe thead th {\n        text-align: right;\n    }\n</style>\n<table border=\"1\" class=\"dataframe\">\n  <thead>\n    <tr style=\"text-align: right;\">\n      <th></th>\n      <th>Suburb</th>\n      <th>Address</th>\n      <th>Rooms</th>\n      <th>Type</th>\n      <th>Price</th>\n      <th>Method</th>\n      <th>SellerG</th>\n      <th>Date</th>\n      <th>Distance</th>\n      <th>Postcode</th>\n      <th>...</th>\n      <th>Bathroom</th>\n      <th>Car</th>\n      <th>Landsize</th>\n      <th>BuildingArea</th>\n      <th>YearBuilt</th>\n      <th>CouncilArea</th>\n      <th>Lattitude</th>\n      <th>Longtitude</th>\n      <th>Regionname</th>\n      <th>Propertycount</th>\n    </tr>\n  </thead>\n  <tbody>\n    <tr>\n      <th>0</th>\n      <td>Abbotsford</td>\n      <td>85 Turner St</td>\n      <td>2</td>\n      <td>h</td>\n      <td>1480000.0</td>\n      <td>S</td>\n      <td>Biggin</td>\n      <td>3/12/2016</td>\n      <td>2.5</td>\n      <td>3067.0</td>\n      <td>...</td>\n      <td>1.0</td>\n      <td>1.0</td>\n      <td>202.0</td>\n      <td>0.0</td>\n      <td>0</td>\n      <td>Yarra</td>\n      <td>-37.7996</td>\n      <td>144.9984</td>\n      <td>Northern Metropolitan</td>\n      <td>4019.0</td>\n    </tr>\n    <tr>\n      <th>1</th>\n      <td>Abbotsford</td>\n      <td>25 Bloomburg St</td>\n      <td>2</td>\n      <td>h</td>\n      <td>1035000.0</td>\n      <td>S</td>\n      <td>Biggin</td>\n      <td>4/02/2016</td>\n      <td>2.5</td>\n      <td>3067.0</td>\n      <td>...</td>\n      <td>1.0</td>\n      <td>0.0</td>\n      <td>156.0</td>\n      <td>79.0</td>\n      <td>1900</td>\n      <td>Yarra</td>\n      <td>-37.8079</td>\n      <td>144.9934</td>\n      <td>Northern Metropolitan</td>\n      <td>4019.0</td>\n    </tr>\n    <tr>\n      <th>2</th>\n      <td>Abbotsford</td>\n      <td>5 Charles St</td>\n      <td>3</td>\n      <td>h</td>\n      <td>1465000.0</td>\n      <td>SP</td>\n      <td>Biggin</td>\n      <td>4/03/2017</td>\n      <td>2.5</td>\n      <td>3067.0</td>\n      <td>...</td>\n      <td>2.0</td>\n      <td>0.0</td>\n      <td>134.0</td>\n      <td>150.0</td>\n      <td>1900</td>\n      <td>Yarra</td>\n      <td>-37.8093</td>\n      <td>144.9944</td>\n      <td>Northern Metropolitan</td>\n      <td>4019.0</td>\n    </tr>\n    <tr>\n      <th>3</th>\n      <td>Abbotsford</td>\n      <td>40 Federation La</td>\n      <td>3</td>\n      <td>h</td>\n      <td>850000.0</td>\n      <td>PI</td>\n      <td>Biggin</td>\n      <td>4/03/2017</td>\n      <td>2.5</td>\n      <td>3067.0</td>\n      <td>...</td>\n      <td>2.0</td>\n      <td>1.0</td>\n      <td>94.0</td>\n      <td>0.0</td>\n      <td>0</td>\n      <td>Yarra</td>\n      <td>-37.7969</td>\n      <td>144.9969</td>\n      <td>Northern Metropolitan</td>\n      <td>4019.0</td>\n    </tr>\n    <tr>\n      <th>4</th>\n      <td>Abbotsford</td>\n      <td>55a Park St</td>\n      <td>4</td>\n      <td>h</td>\n      <td>1600000.0</td>\n      <td>VB</td>\n      <td>Nelson</td>\n      <td>4/06/2016</td>\n      <td>2.5</td>\n      <td>3067.0</td>\n      <td>...</td>\n      <td>1.0</td>\n      <td>2.0</td>\n      <td>120.0</td>\n      <td>142.0</td>\n      <td>2014</td>\n      <td>Yarra</td>\n      <td>-37.8072</td>\n      <td>144.9941</td>\n      <td>Northern Metropolitan</td>\n      <td>4019.0</td>\n    </tr>\n  </tbody>\n</table>\n<p>5 rows × 21 columns</p>\n</div>"
          },
          "metadata": {}
        }
      ],
      "execution_count": null
    },
    {
      "cell_type": "markdown",
      "source": [
        "### 7-VAZIFA. Yuqoridagi vazifalardan so'ng, bizda faqatgina `CouncilArea` ustunida `NaN` qiymatlar qolishi kerak xolos.\n",
        "**Bu ustundagi `NaN` qiymatlarni avvalgi qatordagi qiymatlar bilan to'ldirib keting. Natijani saqlab qoling**"
      ],
      "metadata": {
        "id": "4Uo9j_aH_OA-"
      }
    },
    {
      "cell_type": "code",
      "source": [
        "# CouncilArea ustunidagi NaN qiymatlarni avvalgi qatordagi qiymatlar bilan to'ldirish\n",
        "df['CouncilArea'] = df['CouncilArea'].fillna(method='ffill')"
      ],
      "metadata": {
        "trusted": true,
        "id": "DKM7KrHS_OBE"
      },
      "outputs": [],
      "execution_count": null
    },
    {
      "cell_type": "markdown",
      "source": [
        "## YAKUNIY JADVAL\n",
        "Ahamiyat bering, yakuniy jadvalda `NaN` qiymatlar bo'lmasligi kerak."
      ],
      "metadata": {
        "id": "9wgNfUV7_OBE"
      }
    },
    {
      "cell_type": "code",
      "source": [
        "df.isnull().sum()"
      ],
      "metadata": {
        "execution": {
          "iopub.status.busy": "2021-11-22T11:58:13.544928Z",
          "iopub.execute_input": "2021-11-22T11:58:13.545207Z",
          "iopub.status.idle": "2021-11-22T11:58:13.571167Z",
          "shell.execute_reply.started": "2021-11-22T11:58:13.545177Z",
          "shell.execute_reply": "2021-11-22T11:58:13.570228Z"
        },
        "trusted": true,
        "id": "u6O0MQRl_OBE"
      },
      "outputs": [],
      "execution_count": null
    }
  ]
}