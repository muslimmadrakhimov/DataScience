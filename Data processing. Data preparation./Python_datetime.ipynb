{
  "nbformat": 4,
  "nbformat_minor": 0,
  "metadata": {
    "colab": {
      "provenance": []
    },
    "kernelspec": {
      "name": "python3",
      "display_name": "Python 3"
    },
    "language_info": {
      "name": "python"
    }
  },
  "cells": [
    {
      "cell_type": "code",
      "execution_count": 2,
      "metadata": {
        "id": "6ti3QcQp8BqL"
      },
      "outputs": [],
      "source": [
        "import datetime as dt"
      ]
    },
    {
      "cell_type": "code",
      "source": [
        "# hozir kun va sana haqida bilish\n",
        "dt.datetime.now()"
      ],
      "metadata": {
        "colab": {
          "base_uri": "https://localhost:8080/"
        },
        "id": "syoPhXpq8Q3s",
        "outputId": "bc530f68-4365-48f8-d050-50a92f9e19bc"
      },
      "execution_count": 4,
      "outputs": [
        {
          "output_type": "execute_result",
          "data": {
            "text/plain": [
              "datetime.datetime(2025, 3, 14, 13, 58, 33, 864254)"
            ]
          },
          "metadata": {},
          "execution_count": 4
        }
      ]
    },
    {
      "cell_type": "code",
      "source": [
        "hozir = dt.datetime.now()"
      ],
      "metadata": {
        "id": "5dk7tM0D80MS"
      },
      "execution_count": 5,
      "outputs": []
    },
    {
      "cell_type": "code",
      "source": [
        "type(hozir)"
      ],
      "metadata": {
        "colab": {
          "base_uri": "https://localhost:8080/"
        },
        "id": "_M7dMuPe86ZK",
        "outputId": "94a1df79-756e-4a3b-815d-c3a46bb5d0b3"
      },
      "execution_count": 6,
      "outputs": [
        {
          "output_type": "execute_result",
          "data": {
            "text/plain": [
              "datetime.datetime"
            ]
          },
          "metadata": {},
          "execution_count": 6
        }
      ]
    },
    {
      "cell_type": "code",
      "source": [
        "print(hozir)"
      ],
      "metadata": {
        "colab": {
          "base_uri": "https://localhost:8080/"
        },
        "id": "s20zm6-M9A1V",
        "outputId": "18ed1d9d-e67c-44d0-991b-350fef2a0b4e"
      },
      "execution_count": 7,
      "outputs": [
        {
          "output_type": "stream",
          "name": "stdout",
          "text": [
            "2025-03-14 13:59:06.358117\n"
          ]
        }
      ]
    },
    {
      "cell_type": "code",
      "source": [
        "hozir.hour # hoir soatni chiqaradi"
      ],
      "metadata": {
        "colab": {
          "base_uri": "https://localhost:8080/"
        },
        "id": "1pD27-Kk9ER4",
        "outputId": "bc1ef244-0b41-44dd-e173-a170954d67a0"
      },
      "execution_count": 8,
      "outputs": [
        {
          "output_type": "execute_result",
          "data": {
            "text/plain": [
              "13"
            ]
          },
          "metadata": {},
          "execution_count": 8
        }
      ]
    },
    {
      "cell_type": "code",
      "source": [
        "hozir.minute # minutni bilish"
      ],
      "metadata": {
        "colab": {
          "base_uri": "https://localhost:8080/"
        },
        "id": "CX-hXrvb9IV9",
        "outputId": "a4a2d4a6-65db-4596-c16d-0092ec397678"
      },
      "execution_count": 9,
      "outputs": [
        {
          "output_type": "execute_result",
          "data": {
            "text/plain": [
              "59"
            ]
          },
          "metadata": {},
          "execution_count": 9
        }
      ]
    },
    {
      "cell_type": "code",
      "source": [
        "hozir.weekday()"
      ],
      "metadata": {
        "colab": {
          "base_uri": "https://localhost:8080/"
        },
        "id": "0nQEdtBp9TUL",
        "outputId": "74b9ce11-8dfe-42e3-f021-e4911c451f5f"
      },
      "execution_count": 10,
      "outputs": [
        {
          "output_type": "execute_result",
          "data": {
            "text/plain": [
              "4"
            ]
          },
          "metadata": {},
          "execution_count": 10
        }
      ]
    },
    {
      "cell_type": "code",
      "source": [
        "hozir.month"
      ],
      "metadata": {
        "colab": {
          "base_uri": "https://localhost:8080/"
        },
        "id": "6qnwYqp49edd",
        "outputId": "064c6c44-86a5-44db-b3f4-324d36734986"
      },
      "execution_count": 11,
      "outputs": [
        {
          "output_type": "execute_result",
          "data": {
            "text/plain": [
              "3"
            ]
          },
          "metadata": {},
          "execution_count": 11
        }
      ]
    },
    {
      "cell_type": "code",
      "source": [],
      "metadata": {
        "id": "CAtZKQ749ibY"
      },
      "execution_count": null,
      "outputs": []
    }
  ]
}