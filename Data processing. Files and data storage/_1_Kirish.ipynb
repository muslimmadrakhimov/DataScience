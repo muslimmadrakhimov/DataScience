{
  "nbformat": 4,
  "nbformat_minor": 0,
  "metadata": {
    "colab": {
      "provenance": []
    },
    "kernelspec": {
      "name": "python3",
      "display_name": "Python 3"
    },
    "language_info": {
      "name": "python"
    }
  },
  "cells": [
    {
      "cell_type": "markdown",
      "source": [
        "3 - MODUL MA'LUMOTLARGA ISHLOV BERISH\n",
        "\n",
        "3.1  Fayllar bilan ishlash"
      ],
      "metadata": {
        "id": "-NAgXsj6iSEh"
      }
    },
    {
      "cell_type": "code",
      "execution_count": 1,
      "metadata": {
        "id": "4nEOL7FKhby5"
      },
      "outputs": [],
      "source": [
        "import pandas as pd\n",
        "import numpy as np"
      ]
    },
    {
      "cell_type": "markdown",
      "source": [
        "pandas kutubhonasi fayllar bilan ishlaydigan bir nechta funksiyalardan iborat.\n",
        "\n",
        "read_csv - vergul bilan ajratilgan jadval fayllarni óqish uchun\n",
        "\n",
        "read_table - probel (bósh joy) bilan ajratilgan jadval fayllarni óqish uchun\n",
        "\n",
        "read_excel - xls yoki xlsx formatidagi Excel fayllarni óqish uchun\n",
        "\n",
        "read_clipboard - kóchirilgan (hotiradagi) jadvalni óqish\n",
        "\n",
        "read_hdf - HDF5 formatidagi fayllarni óqish\n",
        "\n",
        "read_html - HTML (web) sahifasidagi barcha jadvallarni óqish\n",
        "\n",
        "read_json - JSON ma'lumotlarni óqish\n",
        "\n",
        "read_pickle - pickle formatidagi fayllarni óqish"
      ],
      "metadata": {
        "id": "dixacDhsin93"
      }
    },
    {
      "cell_type": "code",
      "source": [
        "# Onlayndagi faylni yuklab olish usuli\n",
        "# !wget komandasini beramiz\n",
        "!wget https://raw.githubusercontent.com/anvarnarz/praktikum_datasets/main/merc.csv"
      ],
      "metadata": {
        "colab": {
          "base_uri": "https://localhost:8080/"
        },
        "id": "8HKJokqmk2OJ",
        "outputId": "27010823-a70d-47f4-9ef5-8d95c08c03a0"
      },
      "execution_count": 2,
      "outputs": [
        {
          "output_type": "stream",
          "name": "stdout",
          "text": [
            "--2025-03-06 14:14:54--  https://raw.githubusercontent.com/anvarnarz/praktikum_datasets/main/merc.csv\n",
            "Resolving raw.githubusercontent.com (raw.githubusercontent.com)... 185.199.108.133, 185.199.109.133, 185.199.110.133, ...\n",
            "Connecting to raw.githubusercontent.com (raw.githubusercontent.com)|185.199.108.133|:443... connected.\n",
            "HTTP request sent, awaiting response... 200 OK\n",
            "Length: 728047 (711K) [text/plain]\n",
            "Saving to: ‘merc.csv’\n",
            "\n",
            "merc.csv            100%[===================>] 710.98K  --.-KB/s    in 0.09s   \n",
            "\n",
            "2025-03-06 14:14:55 (7.97 MB/s) - ‘merc.csv’ saved [728047/728047]\n",
            "\n"
          ]
        }
      ]
    },
    {
      "cell_type": "markdown",
      "source": [
        "Git Hub dagi barcha fayllarni yuklash usuli"
      ],
      "metadata": {
        "id": "n0OYgzZST7tq"
      }
    },
    {
      "cell_type": "code",
      "source": [
        "# !git clone komandasini beramiz, bu erda barcha fayllar yuklab olinadi\n",
        "!git clone https://github.com/anvarnarz/praktikum_datasets"
      ],
      "metadata": {
        "colab": {
          "base_uri": "https://localhost:8080/"
        },
        "id": "Sdk1SfX_UFcn",
        "outputId": "f378dd3c-d9b4-4f28-cec9-4a0452b58e9e"
      },
      "execution_count": null,
      "outputs": [
        {
          "output_type": "stream",
          "name": "stdout",
          "text": [
            "Cloning into 'praktikum_datasets'...\n",
            "remote: Enumerating objects: 145, done.\u001b[K\n",
            "remote: Counting objects: 100% (52/52), done.\u001b[K\n",
            "remote: Compressing objects: 100% (9/9), done.\u001b[K\n",
            "remote: Total 145 (delta 46), reused 44 (delta 43), pack-reused 93\u001b[K\n",
            "Receiving objects: 100% (145/145), 9.72 MiB | 16.51 MiB/s, done.\n",
            "Resolving deltas: 100% (53/53), done.\n"
          ]
        }
      ]
    }
  ]
}