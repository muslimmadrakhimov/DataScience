{
  "nbformat": 4,
  "nbformat_minor": 0,
  "metadata": {
    "colab": {
      "provenance": []
    },
    "kernelspec": {
      "name": "python3",
      "display_name": "Python 3"
    },
    "language_info": {
      "name": "python"
    }
  },
  "cells": [
    {
      "cell_type": "markdown",
      "source": [
        "Ma'lumotlar ombori"
      ],
      "metadata": {
        "id": "jDhWHrmDsh-m"
      }
    },
    {
      "cell_type": "code",
      "execution_count": null,
      "metadata": {
        "id": "aZ_zu2UqsMxY"
      },
      "outputs": [],
      "source": [
        "import pandas as pd\n",
        "import sqlite3 as sql\n",
        "from pprint import pprint as print"
      ]
    },
    {
      "cell_type": "markdown",
      "source": [
        "Onlayndan tayyor sql ma'lumotni yuklab olish usuli"
      ],
      "metadata": {
        "id": "K_UmN0hFtl2S"
      }
    },
    {
      "cell_type": "code",
      "source": [
        "# !wget komandasini kiritib keyin bizga kerakli bólgan linkni yani ma'lumotlar omborini manzilini yuklaymiz\n",
        "!wget https://www.sqlitetutorial.net/wp-content/uploads/2018/03/chinook.zip"
      ],
      "metadata": {
        "colab": {
          "base_uri": "https://localhost:8080/"
        },
        "id": "_Mzvyiwut0dG",
        "outputId": "208e5cb8-bd35-4043-9d69-376b6ca436f0"
      },
      "execution_count": null,
      "outputs": [
        {
          "output_type": "stream",
          "name": "stdout",
          "text": [
            "--2024-08-06 13:06:33--  https://www.sqlitetutorial.net/wp-content/uploads/2018/03/chinook.zip\n",
            "Resolving www.sqlitetutorial.net (www.sqlitetutorial.net)... 104.21.30.141, 172.67.172.250, 2606:4700:3037::ac43:acfa, ...\n",
            "Connecting to www.sqlitetutorial.net (www.sqlitetutorial.net)|104.21.30.141|:443... connected.\n",
            "HTTP request sent, awaiting response... 200 OK\n",
            "Length: 305596 (298K) [application/zip]\n",
            "Saving to: ‘chinook.zip’\n",
            "\n",
            "\rchinook.zip           0%[                    ]       0  --.-KB/s               \rchinook.zip         100%[===================>] 298.43K  --.-KB/s    in 0.03s   \n",
            "\n",
            "2024-08-06 13:06:33 (8.79 MB/s) - ‘chinook.zip’ saved [305596/305596]\n",
            "\n"
          ]
        }
      ]
    },
    {
      "cell_type": "code",
      "source": [
        "# chinook.zip faylidagi ma'lumotlar omborini ochish\n",
        "# buning uchun !unzip komandasini beramiz\n",
        "!unzip chinook.zip"
      ],
      "metadata": {
        "colab": {
          "base_uri": "https://localhost:8080/"
        },
        "id": "aEi0cRzPa5mo",
        "outputId": "125f075d-d3de-42fd-df10-f3e137ab8f22"
      },
      "execution_count": null,
      "outputs": [
        {
          "output_type": "stream",
          "name": "stdout",
          "text": [
            "Archive:  chinook.zip\n",
            "  inflating: chinook.db              \n"
          ]
        }
      ]
    },
    {
      "cell_type": "markdown",
      "source": [
        "Ma'lumotlar omboriga ulanish"
      ],
      "metadata": {
        "id": "MPqICCBUb7Ha"
      }
    },
    {
      "cell_type": "code",
      "source": [
        "db = sql.connect('chinook.db')\n",
        "# cursor metodi yordamida sql ni ishga tushirish\n",
        "cursor = db.cursor()"
      ],
      "metadata": {
        "id": "PEJreSKyb63w"
      },
      "execution_count": null,
      "outputs": []
    },
    {
      "cell_type": "code",
      "source": [
        "# Malumotlar ombori ichidagi jadvallarni kórish usuli, dastur yordamida\n",
        "# execute - bajarish komandasi\n",
        "# qavsni ihidagi yozuv SQL tilida yozilgan, SQL komandasi\n",
        "\n",
        "cursor.execute(\"SELECT name FROM sqlite_master WHERE type='table';\")\n",
        "cursor.fetchall() # fetchall - barchasini kórish\n",
        "# natija bir nechta jadvallar chiqadi"
      ],
      "metadata": {
        "colab": {
          "base_uri": "https://localhost:8080/"
        },
        "id": "2Mb9HFUyzS2G",
        "outputId": "3b27c9f2-5080-4921-aa1f-55aecf0b49ae"
      },
      "execution_count": null,
      "outputs": [
        {
          "output_type": "execute_result",
          "data": {
            "text/plain": [
              "[('albums',),\n",
              " ('sqlite_sequence',),\n",
              " ('artists',),\n",
              " ('customers',),\n",
              " ('employees',),\n",
              " ('genres',),\n",
              " ('invoices',),\n",
              " ('invoice_items',),\n",
              " ('media_types',),\n",
              " ('playlists',),\n",
              " ('playlist_track',),\n",
              " ('tracks',),\n",
              " ('sqlite_stat1',)]"
            ]
          },
          "metadata": {},
          "execution_count": 5
        }
      ]
    },
    {
      "cell_type": "markdown",
      "source": [
        "Jadavaldi ichidagi qatorlar sonini kórish"
      ],
      "metadata": {
        "id": "lSMz-spT2Z-X"
      }
    },
    {
      "cell_type": "code",
      "source": [
        "cursor.execute(\"SELECT COUNT (*) FROM sqlite_sequence\")\n",
        "cursor.fetchone()"
      ],
      "metadata": {
        "colab": {
          "base_uri": "https://localhost:8080/"
        },
        "id": "W6GhCsoB2ha6",
        "outputId": "fe75b6eb-7f90-491f-8ce1-a42418d18139"
      },
      "execution_count": null,
      "outputs": [
        {
          "output_type": "execute_result",
          "data": {
            "text/plain": [
              "(10,)"
            ]
          },
          "metadata": {},
          "execution_count": 9
        }
      ]
    },
    {
      "cell_type": "code",
      "source": [
        "cursor.execute(\"SELECT COUNT (*) FROM customers\")\n",
        "cursor.fetchone()"
      ],
      "metadata": {
        "colab": {
          "base_uri": "https://localhost:8080/"
        },
        "id": "zkxEJlX76QI5",
        "outputId": "e2fd60bd-acda-41dd-a88c-b50f832fadfa"
      },
      "execution_count": null,
      "outputs": [
        {
          "output_type": "execute_result",
          "data": {
            "text/plain": [
              "(59,)"
            ]
          },
          "metadata": {},
          "execution_count": 10
        }
      ]
    },
    {
      "cell_type": "markdown",
      "source": [
        "Jadvalni ichidagi ustunlar sonini kórish"
      ],
      "metadata": {
        "id": "gDhllztz6nHq"
      }
    },
    {
      "cell_type": "code",
      "source": [
        "cursor.execute(\"PRAGMA table_info(customers);\") # PRAGMA komandasi SQLITE3 hos komanda\n",
        "cursor.fetchall()"
      ],
      "metadata": {
        "colab": {
          "base_uri": "https://localhost:8080/"
        },
        "id": "lH_GrHE-6vrp",
        "outputId": "bb76cdb9-b360-4819-cc8b-117ffb81767b"
      },
      "execution_count": null,
      "outputs": [
        {
          "output_type": "execute_result",
          "data": {
            "text/plain": [
              "[(0, 'CustomerId', 'INTEGER', 1, None, 1),\n",
              " (1, 'FirstName', 'NVARCHAR(40)', 1, None, 0),\n",
              " (2, 'LastName', 'NVARCHAR(20)', 1, None, 0),\n",
              " (3, 'Company', 'NVARCHAR(80)', 0, None, 0),\n",
              " (4, 'Address', 'NVARCHAR(70)', 0, None, 0),\n",
              " (5, 'City', 'NVARCHAR(40)', 0, None, 0),\n",
              " (6, 'State', 'NVARCHAR(40)', 0, None, 0),\n",
              " (7, 'Country', 'NVARCHAR(40)', 0, None, 0),\n",
              " (8, 'PostalCode', 'NVARCHAR(10)', 0, None, 0),\n",
              " (9, 'Phone', 'NVARCHAR(24)', 0, None, 0),\n",
              " (10, 'Fax', 'NVARCHAR(24)', 0, None, 0),\n",
              " (11, 'Email', 'NVARCHAR(60)', 1, None, 0),\n",
              " (12, 'SupportRepId', 'INTEGER', 0, None, 0)]"
            ]
          },
          "metadata": {},
          "execution_count": 11
        }
      ]
    }
  ]
}